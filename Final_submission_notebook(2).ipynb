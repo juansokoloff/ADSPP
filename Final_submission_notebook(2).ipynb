{
 "cells": [
  {
   "cell_type": "code",
   "execution_count": 4,
   "metadata": {},
   "outputs": [
    {
     "name": "stdout",
     "output_type": "stream",
     "text": [
      "Populating the interactive namespace from numpy and matplotlib\n"
     ]
    }
   ],
   "source": [
    "import pandas as pd\n",
    "import numpy as np\n",
    "import geopandas as gp\n",
    "import seaborn as sn\n",
    "import datetime as dt\n",
    "import pylab as pl\n",
    "import urllib.request\n",
    "from urllib.request import urlretrieve\n",
    "import zipfile\n",
    "import statsmodels as st\n",
    "import statsmodels.api as sm\n",
    "import statsmodels.formula.api as smf\n",
    "import re\n",
    "from sklearn.cluster import KMeans\n",
    "from sklearn.preprocessing import StandardScaler\n",
    "from sklearn.decomposition import PCA\n",
    "from sklearn.metrics import silhouette_samples, silhouette_score\n",
    "import matplotlib.pyplot as plt\n",
    "import matplotlib.cm as cm\n",
    "from mpl_toolkits import mplot3d\n",
    "%pylab inline"
   ]
  },
  {
   "cell_type": "code",
   "execution_count": 5,
   "metadata": {},
   "outputs": [],
   "source": [
    "pd.set_option('display.max_columns', 500)"
   ]
  },
  {
   "cell_type": "markdown",
   "metadata": {},
   "source": [
    "# SECTION 1. 311 DATA MUNGING "
   ]
  },
  {
   "cell_type": "code",
   "execution_count": 6,
   "metadata": {},
   "outputs": [
    {
     "name": "stderr",
     "output_type": "stream",
     "text": [
      "C:\\Users\\james\\Anaconda2\\envs\\base python 3.6\\lib\\site-packages\\IPython\\core\\interactiveshell.py:2785: DtypeWarning: Columns (8,17,18,31,32,33,34,35,36,37) have mixed types. Specify dtype option on import or set low_memory=False.\n",
      "  interactivity=interactivity, compiler=compiler, result=result)\n"
     ]
    }
   ],
   "source": [
    "# Get the data form the open data website\n",
    "# Just run if you do not have already one of the clean datasets, it takes a while to get the data\n",
    "df = pd.read_csv(\"https://data.cityofnewyork.us/api/views/erm2-nwe9/rows.csv?accessType=DOWNLOAD\")"
   ]
  },
  {
   "cell_type": "code",
   "execution_count": 85,
   "metadata": {},
   "outputs": [],
   "source": [
    "#Pulling takes a lot of time, so use the following code to just read from csv.\n",
    "#df.to_csv(\"311Pull.csv\")\n",
    "#df = pd.read_csv(\"311Pull.csv\")"
   ]
  },
  {
   "cell_type": "code",
   "execution_count": 7,
   "metadata": {},
   "outputs": [
    {
     "data": {
      "text/html": [
       "<div>\n",
       "<style scoped>\n",
       "    .dataframe tbody tr th:only-of-type {\n",
       "        vertical-align: middle;\n",
       "    }\n",
       "\n",
       "    .dataframe tbody tr th {\n",
       "        vertical-align: top;\n",
       "    }\n",
       "\n",
       "    .dataframe thead th {\n",
       "        text-align: right;\n",
       "    }\n",
       "</style>\n",
       "<table border=\"1\" class=\"dataframe\">\n",
       "  <thead>\n",
       "    <tr style=\"text-align: right;\">\n",
       "      <th></th>\n",
       "      <th>Unique Key</th>\n",
       "      <th>Created Date</th>\n",
       "      <th>Closed Date</th>\n",
       "      <th>Agency</th>\n",
       "      <th>Agency Name</th>\n",
       "      <th>Complaint Type</th>\n",
       "      <th>Descriptor</th>\n",
       "      <th>Location Type</th>\n",
       "      <th>Incident Zip</th>\n",
       "      <th>Incident Address</th>\n",
       "      <th>Street Name</th>\n",
       "      <th>Cross Street 1</th>\n",
       "      <th>Cross Street 2</th>\n",
       "      <th>Intersection Street 1</th>\n",
       "      <th>Intersection Street 2</th>\n",
       "      <th>Address Type</th>\n",
       "      <th>City</th>\n",
       "      <th>Landmark</th>\n",
       "      <th>Facility Type</th>\n",
       "      <th>Status</th>\n",
       "      <th>Due Date</th>\n",
       "      <th>Resolution Description</th>\n",
       "      <th>Resolution Action Updated Date</th>\n",
       "      <th>Community Board</th>\n",
       "      <th>BBL</th>\n",
       "      <th>Borough</th>\n",
       "      <th>X Coordinate (State Plane)</th>\n",
       "      <th>Y Coordinate (State Plane)</th>\n",
       "      <th>Open Data Channel Type</th>\n",
       "      <th>Park Facility Name</th>\n",
       "      <th>Park Borough</th>\n",
       "      <th>Vehicle Type</th>\n",
       "      <th>Taxi Company Borough</th>\n",
       "      <th>Taxi Pick Up Location</th>\n",
       "      <th>Bridge Highway Name</th>\n",
       "      <th>Bridge Highway Direction</th>\n",
       "      <th>Road Ramp</th>\n",
       "      <th>Bridge Highway Segment</th>\n",
       "      <th>Latitude</th>\n",
       "      <th>Longitude</th>\n",
       "      <th>Location</th>\n",
       "    </tr>\n",
       "  </thead>\n",
       "  <tbody>\n",
       "    <tr>\n",
       "      <th>0</th>\n",
       "      <td>20017982</td>\n",
       "      <td>03/12/2011 01:54:00 PM</td>\n",
       "      <td>03/14/2011 12:00:00 PM</td>\n",
       "      <td>DSNY</td>\n",
       "      <td>BCC - Brooklyn South</td>\n",
       "      <td>Litter Basket / Request</td>\n",
       "      <td>10 Litter Basket / Request</td>\n",
       "      <td>Sidewalk</td>\n",
       "      <td>11229</td>\n",
       "      <td>2320 AVENUE U</td>\n",
       "      <td>AVENUE U</td>\n",
       "      <td>EAST 23 STREET</td>\n",
       "      <td>EAST 24 STREET</td>\n",
       "      <td>NaN</td>\n",
       "      <td>NaN</td>\n",
       "      <td>ADDRESS</td>\n",
       "      <td>BROOKLYN</td>\n",
       "      <td>NaN</td>\n",
       "      <td>DSNY Garage</td>\n",
       "      <td>Closed</td>\n",
       "      <td>NaN</td>\n",
       "      <td>The Department of Sanitation has investigated ...</td>\n",
       "      <td>03/14/2011 12:00:00 PM</td>\n",
       "      <td>15 BROOKLYN</td>\n",
       "      <td>3.073560e+09</td>\n",
       "      <td>BROOKLYN</td>\n",
       "      <td>998622.0</td>\n",
       "      <td>157775.0</td>\n",
       "      <td>PHONE</td>\n",
       "      <td>Unspecified</td>\n",
       "      <td>BROOKLYN</td>\n",
       "      <td>NaN</td>\n",
       "      <td>NaN</td>\n",
       "      <td>NaN</td>\n",
       "      <td>NaN</td>\n",
       "      <td>NaN</td>\n",
       "      <td>NaN</td>\n",
       "      <td>NaN</td>\n",
       "      <td>40.599721</td>\n",
       "      <td>-73.948246</td>\n",
       "      <td>(40.599720547957965, -73.9482459150557)</td>\n",
       "    </tr>\n",
       "    <tr>\n",
       "      <th>1</th>\n",
       "      <td>20017983</td>\n",
       "      <td>03/12/2011 12:10:00 PM</td>\n",
       "      <td>03/15/2011 12:00:00 PM</td>\n",
       "      <td>DSNY</td>\n",
       "      <td>A - Brooklyn</td>\n",
       "      <td>Recycling Enforcement</td>\n",
       "      <td>ER1 Resident Recyc. (Owner/Manager</td>\n",
       "      <td>Sidewalk</td>\n",
       "      <td>11235</td>\n",
       "      <td>2416 EAST 23 STREET</td>\n",
       "      <td>EAST 23 STREET</td>\n",
       "      <td>AVENUE X</td>\n",
       "      <td>AVENUE Y</td>\n",
       "      <td>NaN</td>\n",
       "      <td>NaN</td>\n",
       "      <td>ADDRESS</td>\n",
       "      <td>BROOKLYN</td>\n",
       "      <td>NaN</td>\n",
       "      <td>NaN</td>\n",
       "      <td>Closed</td>\n",
       "      <td>NaN</td>\n",
       "      <td>The Department of Sanitation investigated this...</td>\n",
       "      <td>03/15/2011 12:00:00 PM</td>\n",
       "      <td>15 BROOKLYN</td>\n",
       "      <td>NaN</td>\n",
       "      <td>BROOKLYN</td>\n",
       "      <td>998923.0</td>\n",
       "      <td>155148.0</td>\n",
       "      <td>PHONE</td>\n",
       "      <td>Unspecified</td>\n",
       "      <td>BROOKLYN</td>\n",
       "      <td>NaN</td>\n",
       "      <td>NaN</td>\n",
       "      <td>NaN</td>\n",
       "      <td>NaN</td>\n",
       "      <td>NaN</td>\n",
       "      <td>NaN</td>\n",
       "      <td>NaN</td>\n",
       "      <td>40.592509</td>\n",
       "      <td>-73.947168</td>\n",
       "      <td>(40.59250947060378, -73.94716770910988)</td>\n",
       "    </tr>\n",
       "    <tr>\n",
       "      <th>2</th>\n",
       "      <td>20017984</td>\n",
       "      <td>03/12/2011 03:59:00 PM</td>\n",
       "      <td>03/21/2011 12:00:00 PM</td>\n",
       "      <td>DSNY</td>\n",
       "      <td>A - Brooklyn</td>\n",
       "      <td>Recycling Enforcement</td>\n",
       "      <td>ER1 Resident Recyc. (Owner/Manager</td>\n",
       "      <td>Sidewalk</td>\n",
       "      <td>11229</td>\n",
       "      <td>1825 MADISON PLACE</td>\n",
       "      <td>MADISON PLACE</td>\n",
       "      <td>AVENUE R</td>\n",
       "      <td>FILLMORE AVENUE</td>\n",
       "      <td>NaN</td>\n",
       "      <td>NaN</td>\n",
       "      <td>ADDRESS</td>\n",
       "      <td>BROOKLYN</td>\n",
       "      <td>NaN</td>\n",
       "      <td>NaN</td>\n",
       "      <td>Closed</td>\n",
       "      <td>NaN</td>\n",
       "      <td>The Department of Sanitation investigated this...</td>\n",
       "      <td>03/21/2011 12:00:00 PM</td>\n",
       "      <td>18 BROOKLYN</td>\n",
       "      <td>3.084730e+09</td>\n",
       "      <td>BROOKLYN</td>\n",
       "      <td>1001042.0</td>\n",
       "      <td>161220.0</td>\n",
       "      <td>PHONE</td>\n",
       "      <td>Unspecified</td>\n",
       "      <td>BROOKLYN</td>\n",
       "      <td>NaN</td>\n",
       "      <td>NaN</td>\n",
       "      <td>NaN</td>\n",
       "      <td>NaN</td>\n",
       "      <td>NaN</td>\n",
       "      <td>NaN</td>\n",
       "      <td>NaN</td>\n",
       "      <td>40.609172</td>\n",
       "      <td>-73.939523</td>\n",
       "      <td>(40.60917211364392, -73.93952284644747)</td>\n",
       "    </tr>\n",
       "    <tr>\n",
       "      <th>3</th>\n",
       "      <td>20017985</td>\n",
       "      <td>03/12/2011 10:05:00 AM</td>\n",
       "      <td>03/15/2011 12:00:00 PM</td>\n",
       "      <td>DSNY</td>\n",
       "      <td>A - Brooklyn</td>\n",
       "      <td>Recycling Enforcement</td>\n",
       "      <td>ER2 Resident Recyc. (Tenant)</td>\n",
       "      <td>Sidewalk</td>\n",
       "      <td>11218</td>\n",
       "      <td>1406 35 STREET</td>\n",
       "      <td>35 STREET</td>\n",
       "      <td>14 AVENUE</td>\n",
       "      <td>DAHILL ROAD</td>\n",
       "      <td>NaN</td>\n",
       "      <td>NaN</td>\n",
       "      <td>ADDRESS</td>\n",
       "      <td>BROOKLYN</td>\n",
       "      <td>NaN</td>\n",
       "      <td>NaN</td>\n",
       "      <td>Closed</td>\n",
       "      <td>NaN</td>\n",
       "      <td>The Department of Sanitation investigated this...</td>\n",
       "      <td>03/15/2011 12:00:00 PM</td>\n",
       "      <td>12 BROOKLYN</td>\n",
       "      <td>3.053500e+09</td>\n",
       "      <td>BROOKLYN</td>\n",
       "      <td>989401.0</td>\n",
       "      <td>172934.0</td>\n",
       "      <td>PHONE</td>\n",
       "      <td>Unspecified</td>\n",
       "      <td>BROOKLYN</td>\n",
       "      <td>NaN</td>\n",
       "      <td>NaN</td>\n",
       "      <td>NaN</td>\n",
       "      <td>NaN</td>\n",
       "      <td>NaN</td>\n",
       "      <td>NaN</td>\n",
       "      <td>NaN</td>\n",
       "      <td>40.641339</td>\n",
       "      <td>-73.981439</td>\n",
       "      <td>(40.64133899963967, -73.98143949689891)</td>\n",
       "    </tr>\n",
       "    <tr>\n",
       "      <th>4</th>\n",
       "      <td>20018028</td>\n",
       "      <td>03/12/2011 01:31:00 PM</td>\n",
       "      <td>03/12/2011 01:31:00 PM</td>\n",
       "      <td>DSNY</td>\n",
       "      <td>BCC - Queens East</td>\n",
       "      <td>Missed Collection (All Materials)</td>\n",
       "      <td>1 Missed Collection</td>\n",
       "      <td>Sidewalk</td>\n",
       "      <td>11366</td>\n",
       "      <td>73-34 190 STREET</td>\n",
       "      <td>190 STREET</td>\n",
       "      <td>73 AVENUE</td>\n",
       "      <td>75 AVENUE</td>\n",
       "      <td>NaN</td>\n",
       "      <td>NaN</td>\n",
       "      <td>ADDRESS</td>\n",
       "      <td>FRESH MEADOWS</td>\n",
       "      <td>NaN</td>\n",
       "      <td>DSNY Garage</td>\n",
       "      <td>Closed</td>\n",
       "      <td>NaN</td>\n",
       "      <td>The Department of Sanitation picked up the ite...</td>\n",
       "      <td>03/12/2011 01:31:00 PM</td>\n",
       "      <td>08 QUEENS</td>\n",
       "      <td>4.071770e+09</td>\n",
       "      <td>QUEENS</td>\n",
       "      <td>1044912.0</td>\n",
       "      <td>206538.0</td>\n",
       "      <td>PHONE</td>\n",
       "      <td>Unspecified</td>\n",
       "      <td>QUEENS</td>\n",
       "      <td>NaN</td>\n",
       "      <td>NaN</td>\n",
       "      <td>NaN</td>\n",
       "      <td>NaN</td>\n",
       "      <td>NaN</td>\n",
       "      <td>NaN</td>\n",
       "      <td>NaN</td>\n",
       "      <td>40.733368</td>\n",
       "      <td>-73.781116</td>\n",
       "      <td>(40.733367736834275, -73.78111562676301)</td>\n",
       "    </tr>\n",
       "  </tbody>\n",
       "</table>\n",
       "</div>"
      ],
      "text/plain": [
       "   Unique Key            Created Date             Closed Date Agency  \\\n",
       "0    20017982  03/12/2011 01:54:00 PM  03/14/2011 12:00:00 PM   DSNY   \n",
       "1    20017983  03/12/2011 12:10:00 PM  03/15/2011 12:00:00 PM   DSNY   \n",
       "2    20017984  03/12/2011 03:59:00 PM  03/21/2011 12:00:00 PM   DSNY   \n",
       "3    20017985  03/12/2011 10:05:00 AM  03/15/2011 12:00:00 PM   DSNY   \n",
       "4    20018028  03/12/2011 01:31:00 PM  03/12/2011 01:31:00 PM   DSNY   \n",
       "\n",
       "            Agency Name                     Complaint Type  \\\n",
       "0  BCC - Brooklyn South            Litter Basket / Request   \n",
       "1          A - Brooklyn              Recycling Enforcement   \n",
       "2          A - Brooklyn              Recycling Enforcement   \n",
       "3          A - Brooklyn              Recycling Enforcement   \n",
       "4     BCC - Queens East  Missed Collection (All Materials)   \n",
       "\n",
       "                           Descriptor Location Type Incident Zip  \\\n",
       "0          10 Litter Basket / Request      Sidewalk        11229   \n",
       "1  ER1 Resident Recyc. (Owner/Manager      Sidewalk        11235   \n",
       "2  ER1 Resident Recyc. (Owner/Manager      Sidewalk        11229   \n",
       "3        ER2 Resident Recyc. (Tenant)      Sidewalk        11218   \n",
       "4                 1 Missed Collection      Sidewalk        11366   \n",
       "\n",
       "      Incident Address     Street Name  Cross Street 1   Cross Street 2  \\\n",
       "0        2320 AVENUE U        AVENUE U  EAST 23 STREET   EAST 24 STREET   \n",
       "1  2416 EAST 23 STREET  EAST 23 STREET        AVENUE X         AVENUE Y   \n",
       "2   1825 MADISON PLACE   MADISON PLACE        AVENUE R  FILLMORE AVENUE   \n",
       "3       1406 35 STREET       35 STREET       14 AVENUE      DAHILL ROAD   \n",
       "4     73-34 190 STREET      190 STREET       73 AVENUE        75 AVENUE   \n",
       "\n",
       "  Intersection Street 1 Intersection Street 2 Address Type           City  \\\n",
       "0                   NaN                   NaN      ADDRESS       BROOKLYN   \n",
       "1                   NaN                   NaN      ADDRESS       BROOKLYN   \n",
       "2                   NaN                   NaN      ADDRESS       BROOKLYN   \n",
       "3                   NaN                   NaN      ADDRESS       BROOKLYN   \n",
       "4                   NaN                   NaN      ADDRESS  FRESH MEADOWS   \n",
       "\n",
       "  Landmark Facility Type  Status Due Date  \\\n",
       "0      NaN   DSNY Garage  Closed      NaN   \n",
       "1      NaN           NaN  Closed      NaN   \n",
       "2      NaN           NaN  Closed      NaN   \n",
       "3      NaN           NaN  Closed      NaN   \n",
       "4      NaN   DSNY Garage  Closed      NaN   \n",
       "\n",
       "                              Resolution Description  \\\n",
       "0  The Department of Sanitation has investigated ...   \n",
       "1  The Department of Sanitation investigated this...   \n",
       "2  The Department of Sanitation investigated this...   \n",
       "3  The Department of Sanitation investigated this...   \n",
       "4  The Department of Sanitation picked up the ite...   \n",
       "\n",
       "  Resolution Action Updated Date Community Board           BBL   Borough  \\\n",
       "0         03/14/2011 12:00:00 PM     15 BROOKLYN  3.073560e+09  BROOKLYN   \n",
       "1         03/15/2011 12:00:00 PM     15 BROOKLYN           NaN  BROOKLYN   \n",
       "2         03/21/2011 12:00:00 PM     18 BROOKLYN  3.084730e+09  BROOKLYN   \n",
       "3         03/15/2011 12:00:00 PM     12 BROOKLYN  3.053500e+09  BROOKLYN   \n",
       "4         03/12/2011 01:31:00 PM       08 QUEENS  4.071770e+09    QUEENS   \n",
       "\n",
       "   X Coordinate (State Plane)  Y Coordinate (State Plane)  \\\n",
       "0                    998622.0                    157775.0   \n",
       "1                    998923.0                    155148.0   \n",
       "2                   1001042.0                    161220.0   \n",
       "3                    989401.0                    172934.0   \n",
       "4                   1044912.0                    206538.0   \n",
       "\n",
       "  Open Data Channel Type Park Facility Name Park Borough Vehicle Type  \\\n",
       "0                  PHONE        Unspecified     BROOKLYN          NaN   \n",
       "1                  PHONE        Unspecified     BROOKLYN          NaN   \n",
       "2                  PHONE        Unspecified     BROOKLYN          NaN   \n",
       "3                  PHONE        Unspecified     BROOKLYN          NaN   \n",
       "4                  PHONE        Unspecified       QUEENS          NaN   \n",
       "\n",
       "  Taxi Company Borough Taxi Pick Up Location Bridge Highway Name  \\\n",
       "0                  NaN                   NaN                 NaN   \n",
       "1                  NaN                   NaN                 NaN   \n",
       "2                  NaN                   NaN                 NaN   \n",
       "3                  NaN                   NaN                 NaN   \n",
       "4                  NaN                   NaN                 NaN   \n",
       "\n",
       "  Bridge Highway Direction Road Ramp Bridge Highway Segment   Latitude  \\\n",
       "0                      NaN       NaN                    NaN  40.599721   \n",
       "1                      NaN       NaN                    NaN  40.592509   \n",
       "2                      NaN       NaN                    NaN  40.609172   \n",
       "3                      NaN       NaN                    NaN  40.641339   \n",
       "4                      NaN       NaN                    NaN  40.733368   \n",
       "\n",
       "   Longitude                                  Location  \n",
       "0 -73.948246   (40.599720547957965, -73.9482459150557)  \n",
       "1 -73.947168   (40.59250947060378, -73.94716770910988)  \n",
       "2 -73.939523   (40.60917211364392, -73.93952284644747)  \n",
       "3 -73.981439   (40.64133899963967, -73.98143949689891)  \n",
       "4 -73.781116  (40.733367736834275, -73.78111562676301)  "
      ]
     },
     "execution_count": 7,
     "metadata": {},
     "output_type": "execute_result"
    }
   ],
   "source": [
    "# Visualize the first 5 observations of the data\n",
    "df.head()"
   ]
  },
  {
   "cell_type": "code",
   "execution_count": 8,
   "metadata": {},
   "outputs": [
    {
     "data": {
      "text/plain": [
       "(9341942, 41)"
      ]
     },
     "execution_count": 8,
     "metadata": {},
     "output_type": "execute_result"
    }
   ],
   "source": [
    "# Look at the shape of the data\n",
    "df.shape"
   ]
  },
  {
   "cell_type": "markdown",
   "metadata": {},
   "source": [
    "We can see how big the entire dataset is! We need some cleaning. First just get the years we are interested in (2013, 2014 and 2015) then get rid of some columns we really do not need, then just keep the Noise complaints that are the main focus of our work."
   ]
  },
  {
   "cell_type": "code",
   "execution_count": 9,
   "metadata": {},
   "outputs": [
    {
     "data": {
      "text/plain": [
       "Index(['Unique Key', 'Created Date', 'Closed Date', 'Agency', 'Agency Name',\n",
       "       'Complaint Type', 'Descriptor', 'Location Type', 'Incident Zip',\n",
       "       'Incident Address', 'Street Name', 'Cross Street 1', 'Cross Street 2',\n",
       "       'Intersection Street 1', 'Intersection Street 2', 'Address Type',\n",
       "       'City', 'Landmark', 'Facility Type', 'Status', 'Due Date',\n",
       "       'Resolution Description', 'Resolution Action Updated Date',\n",
       "       'Community Board', 'BBL', 'Borough', 'X Coordinate (State Plane)',\n",
       "       'Y Coordinate (State Plane)', 'Open Data Channel Type',\n",
       "       'Park Facility Name', 'Park Borough', 'Vehicle Type',\n",
       "       'Taxi Company Borough', 'Taxi Pick Up Location', 'Bridge Highway Name',\n",
       "       'Bridge Highway Direction', 'Road Ramp', 'Bridge Highway Segment',\n",
       "       'Latitude', 'Longitude', 'Location'],\n",
       "      dtype='object')"
      ]
     },
     "execution_count": 9,
     "metadata": {},
     "output_type": "execute_result"
    }
   ],
   "source": [
    "# Visualize all the columns the data has\n",
    "df.columns"
   ]
  },
  {
   "cell_type": "code",
   "execution_count": 10,
   "metadata": {},
   "outputs": [
    {
     "data": {
      "text/plain": [
       "array(['Litter Basket / Request', 'Recycling Enforcement',\n",
       "       'Missed Collection (All Materials)',\n",
       "       'General Construction/Plumbing', 'Other Enforcement',\n",
       "       'Dirty Conditions', 'Vacant Lot', 'Overflowing Litter Baskets',\n",
       "       'Sanitation Condition', 'Derelict Bicycle', 'Hazardous Materials',\n",
       "       'Industrial Waste', 'Noise', 'Sewer', 'Water System',\n",
       "       'Street Condition', 'Derelict Vehicles',\n",
       "       'Sweeping/Missed-Inadequate', 'Root/Sewer/Sidewalk Condition',\n",
       "       'Highway Condition', 'Adopt-A-Basket', 'Illegal Tree Damage',\n",
       "       'New Tree Request', 'Building/Use', 'Lead', 'Snow', 'Plumbing',\n",
       "       'Air Quality', 'Overgrown Tree/Branches', 'Graffiti',\n",
       "       'Damaged Tree', 'Electrical', 'Plant', 'Water Conservation',\n",
       "       'BEST/Site Safety', 'Elevator',\n",
       "       'Special Projects Inspection Team (SPIT)',\n",
       "       'Collection Truck Noise', 'Cranes and Derricks', 'Water Quality',\n",
       "       'Investigations and Discipline (IAD)', 'Boilers',\n",
       "       'Traffic Signal Condition', 'Noise - Residential', 'Dead Tree',\n",
       "       'Noise - Street/Sidewalk', 'Asbestos', 'Scaffold Safety',\n",
       "       'Street Light Condition', 'For Hire Vehicle Complaint',\n",
       "       'Miscellaneous Categories', 'Sidewalk Condition',\n",
       "       'Emergency Response Team (ERT)', 'Beach/Pool/Sauna Complaint',\n",
       "       'Taxi Complaint', 'Special Natural Area District (SNAD)',\n",
       "       'Food Establishment', 'Derelict Vehicle', 'Bridge Condition',\n",
       "       'Blocked Driveway', 'Noise - Park', 'HEATING', 'Stalled Sites',\n",
       "       'Illegal Parking', 'Consumer Complaint', 'Vending', 'SCRIE',\n",
       "       'Mold', 'DCA / DOH New License Application Request',\n",
       "       'Broken Muni Meter', 'NORC Complaint', 'Indoor Sewage',\n",
       "       'Bike Rack Condition', 'Street Sign - Damaged',\n",
       "       'Noise - Commercial', 'Non-Emergency Police Matter',\n",
       "       'Housing - Low Income Senior', 'Noise - Vehicle',\n",
       "       'DOF Property - Payment Issue', 'Urinating in Public',\n",
       "       'Disorderly Youth', 'Noise Survey', 'Drinking', 'Food Poisoning',\n",
       "       'Construction', 'DOF Property - Request Copy', 'Smoking',\n",
       "       'Panhandling', 'HEAP Assistance', 'Noise - House of Worship',\n",
       "       'Home Repair', 'DOF Property - Owner Issue',\n",
       "       'Maintenance or Facility', 'City Vehicle Placard Complaint',\n",
       "       'Traffic', 'ATF', 'Rodent', 'Indoor Air Quality',\n",
       "       'Violation of Park Rules', 'Unsanitary Animal Pvt Property',\n",
       "       'Animal Facility - No Permit', 'School Maintenance',\n",
       "       'Forensic Engineering', 'Unsanitary Animal Facility',\n",
       "       'GENERAL CONSTRUCTION', 'Housing Options',\n",
       "       'Senior Center Complaint', 'FATF', 'Found Property',\n",
       "       'Drinking Water', 'Illegal Animal Kept as Pet', 'Animal in a Park',\n",
       "       'NONCONST', 'ELECTRIC', 'PLUMBING',\n",
       "       'DOF Property - Reduction Issue', 'Street Sign - Missing',\n",
       "       'DOF Parking - Tax Exemption', 'Street Sign - Dangling',\n",
       "       'Homeless Encampment', 'Noise - Helicopter',\n",
       "       'Benefit Card Replacement', 'Non-Residential Heat',\n",
       "       'Transportation Provider Complaint',\n",
       "       'Home Delivered Meal Complaint',\n",
       "       'Legal Services Provider Complaint', 'Broken Parking Meter',\n",
       "       'DOF Property - RPIE Issue', 'Public Payphone Complaint',\n",
       "       'Bike/Roller/Skate Chronic', 'Public Toilet', 'Elder Abuse',\n",
       "       'Standing Water', 'Highway Sign - Damaged',\n",
       "       'DOF Property - Property Value', 'Bus Stop Shelter Placement',\n",
       "       'PAINT - PLASTER', 'Unleashed Dog', 'APPLIANCE', 'CONSTRUCTION',\n",
       "       'Unsanitary Pigeon Condition', 'Curb Condition', 'Poison Ivy',\n",
       "       \"Alzheimer's Care\", 'Homeless Person Assistance', 'Ferry Permit',\n",
       "       'Highway Sign - Dangling', 'Illegal Fireworks',\n",
       "       'Posting Advertisement', 'Case Management Agency Complaint',\n",
       "       'Animal Abuse', 'DPR Internal', 'STRUCTURAL', 'GENERAL',\n",
       "       'PAINT/PLASTER', 'Home Delivered Meal - Missed Delivery',\n",
       "       'Sweeping/Missed', 'Ferry Complaint', 'Sweeping/Inadequate',\n",
       "       'Request Xmas Tree Collection', 'Municipal Parking Facility',\n",
       "       'Taxi Compliment', 'Ferry Inquiry', 'DOF Parking - Payment Issue',\n",
       "       'DOF Parking - Request Copy', 'Calorie Labeling',\n",
       "       'Overflowing Recycling Baskets', 'Highway Sign - Missing',\n",
       "       'DOF Parking - Request Status', 'Tattooing',\n",
       "       'Bereavement Support Group', 'DOF Property - City Rebate',\n",
       "       'Window Guard', 'DOF Parking - DMV Clearance',\n",
       "       'Illegal Animal Sold', 'Bottled Water',\n",
       "       'Home Care Provider Complaint', 'DHS Advantage -Landlord/Broker',\n",
       "       'DHS Advantage - Tenant', 'Parking Card', 'Lifeguard',\n",
       "       'Harboring Bees/Wasps', 'Tunnel Condition',\n",
       "       'X-Ray Machine/Equipment', 'HEAT/HOT WATER', 'WATER LEAK',\n",
       "       'FLOORING/STAIRS', 'DOOR/WINDOW', 'UNSANITARY CONDITION',\n",
       "       'ELEVATOR', 'SAFETY', 'OUTSIDE BUILDING',\n",
       "       'Meals Home Delivery Required', 'Building Condition',\n",
       "       'DHS Income Savings Requirement', 'Radioactive Material',\n",
       "       'Tanning', 'Squeegee', 'Trans Fat', 'Taxi Report',\n",
       "       'For Hire Vehicle Report', 'SG-99', 'SRDE',\n",
       "       'HPD Literature Request', 'Foam Ban Enforcement',\n",
       "       'OEM Literature Request', 'VACANT APARTMENT',\n",
       "       'Advocate-SCRIE/DRIE', 'Advocate-Personal Exemptions',\n",
       "       'Unspecified', 'Advocate-Prop Class Incorrect',\n",
       "       'Advocate-Commercial Exemptions', 'Taxpayer Advocate Inquiry',\n",
       "       'Advocate - Other', 'Interior Demo',\n",
       "       'DOF Property - Update Account', 'Day Care', 'Advocate - RPIE',\n",
       "       'Research Questions', 'Advocate-Prop Refunds/Credits',\n",
       "       'Advocate-Co-opCondo Abatement', 'DOR Literature Request',\n",
       "       'OEM Disabled Vehicle', 'Advocate-Property Value',\n",
       "       'Dead/Dying Tree', 'AGENCY', 'Advocate-UBT',\n",
       "       'Asbestos/Garbage Nuisance', 'Mosquitoes', 'Forms', 'DRIE',\n",
       "       'Advocate-Business Tax', 'LinkNYC', 'Trapping Pigeon', 'LEAD',\n",
       "       'Drug Activity', 'Electronics Waste', 'MOLD',\n",
       "       'Damaged or Dead Tree', 'Cooling Tower', 'Pet Shop', 'Comments',\n",
       "       'CST', 'Question', 'Request Large Bulky Item Collection',\n",
       "       'Advocate - Lien', 'Illegal Animal - Sold/Kept', 'FCST',\n",
       "       'Advocate - Levy', 'DOF Literature Request',\n",
       "       'Select Message Type...', 'Injured Wildlife', 'Lost Property',\n",
       "       'General Question', 'Killing/Trapping Pigeon',\n",
       "       'Homebound Evacuation 4', 'SNW', 'Bus Stop Shelter Complaint',\n",
       "       'FHE', 'Hazardous Material', 'Water Maintenance'], dtype=object)"
      ]
     },
     "execution_count": 10,
     "metadata": {},
     "output_type": "execute_result"
    }
   ],
   "source": [
    "# Visualize the complaint types so that we get only noise\n",
    "df[\"Complaint Type\"].unique()"
   ]
  },
  {
   "cell_type": "code",
   "execution_count": 11,
   "metadata": {},
   "outputs": [
    {
     "data": {
      "text/plain": [
       "str"
      ]
     },
     "execution_count": 11,
     "metadata": {},
     "output_type": "execute_result"
    }
   ],
   "source": [
    "# Check the variable type of Created Date.\n",
    "type(df['Created Date'].iloc[1])"
   ]
  },
  {
   "cell_type": "code",
   "execution_count": 12,
   "metadata": {},
   "outputs": [],
   "source": [
    "noise = df[df[\"Complaint Type\"] == \"Noise\"]"
   ]
  },
  {
   "cell_type": "code",
   "execution_count": 13,
   "metadata": {},
   "outputs": [
    {
     "name": "stderr",
     "output_type": "stream",
     "text": [
      "C:\\Users\\james\\Anaconda2\\envs\\base python 3.6\\lib\\site-packages\\ipykernel_launcher.py:2: SettingWithCopyWarning: \n",
      "A value is trying to be set on a copy of a slice from a DataFrame.\n",
      "Try using .loc[row_indexer,col_indexer] = value instead\n",
      "\n",
      "See the caveats in the documentation: http://pandas.pydata.org/pandas-docs/stable/indexing.html#indexing-view-versus-copy\n",
      "  \n"
     ]
    }
   ],
   "source": [
    "# Convert to date time\n",
    "noise['Created Date'] = pd.to_datetime(noise['Created Date'])"
   ]
  },
  {
   "cell_type": "code",
   "execution_count": 14,
   "metadata": {},
   "outputs": [],
   "source": [
    "# Set the maximum and minimum dates we want in our dataset\n",
    "start_date = '01/01/2013'\n",
    "end_date = '12/31/2015'\n",
    "\n",
    "noise =  noise[noise[\"Created Date\"]>start_date]\n",
    "noise =  noise[noise[\"Created Date\"]<end_date]"
   ]
  },
  {
   "cell_type": "code",
   "execution_count": 15,
   "metadata": {},
   "outputs": [
    {
     "name": "stdout",
     "output_type": "stream",
     "text": [
      "(9341942, 41)\n",
      "(146301, 41)\n"
     ]
    }
   ],
   "source": [
    "# See how many observations we dropped\n",
    "print (df.shape)\n",
    "print (noise.shape)"
   ]
  },
  {
   "cell_type": "code",
   "execution_count": 16,
   "metadata": {},
   "outputs": [
    {
     "data": {
      "text/plain": [
       "Index(['Unique Key', 'Created Date', 'Closed Date', 'Agency', 'Agency Name',\n",
       "       'Complaint Type', 'Descriptor', 'Location Type', 'Incident Zip',\n",
       "       'Incident Address', 'Street Name', 'Cross Street 1', 'Cross Street 2',\n",
       "       'Intersection Street 1', 'Intersection Street 2', 'Address Type',\n",
       "       'City', 'Landmark', 'Facility Type', 'Status', 'Due Date',\n",
       "       'Resolution Description', 'Resolution Action Updated Date',\n",
       "       'Community Board', 'BBL', 'Borough', 'X Coordinate (State Plane)',\n",
       "       'Y Coordinate (State Plane)', 'Open Data Channel Type',\n",
       "       'Park Facility Name', 'Park Borough', 'Vehicle Type',\n",
       "       'Taxi Company Borough', 'Taxi Pick Up Location', 'Bridge Highway Name',\n",
       "       'Bridge Highway Direction', 'Road Ramp', 'Bridge Highway Segment',\n",
       "       'Latitude', 'Longitude', 'Location'],\n",
       "      dtype='object')"
      ]
     },
     "execution_count": 16,
     "metadata": {},
     "output_type": "execute_result"
    }
   ],
   "source": [
    "noise.columns"
   ]
  },
  {
   "cell_type": "code",
   "execution_count": 17,
   "metadata": {},
   "outputs": [
    {
     "ename": "KeyError",
     "evalue": "\"['School Name' 'School Number' 'School Code'\\n 'School or Citywide Complaint'] not in index\"",
     "output_type": "error",
     "traceback": [
      "\u001b[1;31m---------------------------------------------------------------------------\u001b[0m",
      "\u001b[1;31mKeyError\u001b[0m                                  Traceback (most recent call last)",
      "\u001b[1;32m<ipython-input-17-712cecf69cde>\u001b[0m in \u001b[0;36m<module>\u001b[1;34m()\u001b[0m\n\u001b[0;32m      2\u001b[0m noise = noise[[\"Unique Key\", \"Created Date\", \"Agency\", \"Agency Name\", \n\u001b[0;32m      3\u001b[0m          \u001b[1;34m\"Complaint Type\"\u001b[0m\u001b[1;33m,\u001b[0m \u001b[1;34m\"Descriptor\"\u001b[0m\u001b[1;33m,\u001b[0m \u001b[1;34m\"Incident Zip\"\u001b[0m\u001b[1;33m,\u001b[0m \u001b[1;34m\"Community Board\"\u001b[0m\u001b[1;33m,\u001b[0m \u001b[1;34m\"Borough\"\u001b[0m\u001b[1;33m,\u001b[0m \u001b[1;34m\"School Name\"\u001b[0m\u001b[1;33m,\u001b[0m\u001b[1;33m\u001b[0m\u001b[0m\n\u001b[1;32m----> 4\u001b[1;33m          \"School Number\", \"School Code\", \"School or Citywide Complaint\", \"Latitude\", \"Longitude\", \"Location\"]]\n\u001b[0m",
      "\u001b[1;32m~\\Anaconda2\\envs\\base python 3.6\\lib\\site-packages\\pandas\\core\\frame.py\u001b[0m in \u001b[0;36m__getitem__\u001b[1;34m(self, key)\u001b[0m\n\u001b[0;32m   2131\u001b[0m         \u001b[1;32mif\u001b[0m \u001b[0misinstance\u001b[0m\u001b[1;33m(\u001b[0m\u001b[0mkey\u001b[0m\u001b[1;33m,\u001b[0m \u001b[1;33m(\u001b[0m\u001b[0mSeries\u001b[0m\u001b[1;33m,\u001b[0m \u001b[0mnp\u001b[0m\u001b[1;33m.\u001b[0m\u001b[0mndarray\u001b[0m\u001b[1;33m,\u001b[0m \u001b[0mIndex\u001b[0m\u001b[1;33m,\u001b[0m \u001b[0mlist\u001b[0m\u001b[1;33m)\u001b[0m\u001b[1;33m)\u001b[0m\u001b[1;33m:\u001b[0m\u001b[1;33m\u001b[0m\u001b[0m\n\u001b[0;32m   2132\u001b[0m             \u001b[1;31m# either boolean or fancy integer index\u001b[0m\u001b[1;33m\u001b[0m\u001b[1;33m\u001b[0m\u001b[0m\n\u001b[1;32m-> 2133\u001b[1;33m             \u001b[1;32mreturn\u001b[0m \u001b[0mself\u001b[0m\u001b[1;33m.\u001b[0m\u001b[0m_getitem_array\u001b[0m\u001b[1;33m(\u001b[0m\u001b[0mkey\u001b[0m\u001b[1;33m)\u001b[0m\u001b[1;33m\u001b[0m\u001b[0m\n\u001b[0m\u001b[0;32m   2134\u001b[0m         \u001b[1;32melif\u001b[0m \u001b[0misinstance\u001b[0m\u001b[1;33m(\u001b[0m\u001b[0mkey\u001b[0m\u001b[1;33m,\u001b[0m \u001b[0mDataFrame\u001b[0m\u001b[1;33m)\u001b[0m\u001b[1;33m:\u001b[0m\u001b[1;33m\u001b[0m\u001b[0m\n\u001b[0;32m   2135\u001b[0m             \u001b[1;32mreturn\u001b[0m \u001b[0mself\u001b[0m\u001b[1;33m.\u001b[0m\u001b[0m_getitem_frame\u001b[0m\u001b[1;33m(\u001b[0m\u001b[0mkey\u001b[0m\u001b[1;33m)\u001b[0m\u001b[1;33m\u001b[0m\u001b[0m\n",
      "\u001b[1;32m~\\Anaconda2\\envs\\base python 3.6\\lib\\site-packages\\pandas\\core\\frame.py\u001b[0m in \u001b[0;36m_getitem_array\u001b[1;34m(self, key)\u001b[0m\n\u001b[0;32m   2175\u001b[0m             \u001b[1;32mreturn\u001b[0m \u001b[0mself\u001b[0m\u001b[1;33m.\u001b[0m\u001b[0m_take\u001b[0m\u001b[1;33m(\u001b[0m\u001b[0mindexer\u001b[0m\u001b[1;33m,\u001b[0m \u001b[0maxis\u001b[0m\u001b[1;33m=\u001b[0m\u001b[1;36m0\u001b[0m\u001b[1;33m,\u001b[0m \u001b[0mconvert\u001b[0m\u001b[1;33m=\u001b[0m\u001b[1;32mFalse\u001b[0m\u001b[1;33m)\u001b[0m\u001b[1;33m\u001b[0m\u001b[0m\n\u001b[0;32m   2176\u001b[0m         \u001b[1;32melse\u001b[0m\u001b[1;33m:\u001b[0m\u001b[1;33m\u001b[0m\u001b[0m\n\u001b[1;32m-> 2177\u001b[1;33m             \u001b[0mindexer\u001b[0m \u001b[1;33m=\u001b[0m \u001b[0mself\u001b[0m\u001b[1;33m.\u001b[0m\u001b[0mloc\u001b[0m\u001b[1;33m.\u001b[0m\u001b[0m_convert_to_indexer\u001b[0m\u001b[1;33m(\u001b[0m\u001b[0mkey\u001b[0m\u001b[1;33m,\u001b[0m \u001b[0maxis\u001b[0m\u001b[1;33m=\u001b[0m\u001b[1;36m1\u001b[0m\u001b[1;33m)\u001b[0m\u001b[1;33m\u001b[0m\u001b[0m\n\u001b[0m\u001b[0;32m   2178\u001b[0m             \u001b[1;32mreturn\u001b[0m \u001b[0mself\u001b[0m\u001b[1;33m.\u001b[0m\u001b[0m_take\u001b[0m\u001b[1;33m(\u001b[0m\u001b[0mindexer\u001b[0m\u001b[1;33m,\u001b[0m \u001b[0maxis\u001b[0m\u001b[1;33m=\u001b[0m\u001b[1;36m1\u001b[0m\u001b[1;33m,\u001b[0m \u001b[0mconvert\u001b[0m\u001b[1;33m=\u001b[0m\u001b[1;32mTrue\u001b[0m\u001b[1;33m)\u001b[0m\u001b[1;33m\u001b[0m\u001b[0m\n\u001b[0;32m   2179\u001b[0m \u001b[1;33m\u001b[0m\u001b[0m\n",
      "\u001b[1;32m~\\Anaconda2\\envs\\base python 3.6\\lib\\site-packages\\pandas\\core\\indexing.py\u001b[0m in \u001b[0;36m_convert_to_indexer\u001b[1;34m(self, obj, axis, is_setter)\u001b[0m\n\u001b[0;32m   1267\u001b[0m                 \u001b[1;32mif\u001b[0m \u001b[0mmask\u001b[0m\u001b[1;33m.\u001b[0m\u001b[0many\u001b[0m\u001b[1;33m(\u001b[0m\u001b[1;33m)\u001b[0m\u001b[1;33m:\u001b[0m\u001b[1;33m\u001b[0m\u001b[0m\n\u001b[0;32m   1268\u001b[0m                     raise KeyError('{mask} not in index'\n\u001b[1;32m-> 1269\u001b[1;33m                                    .format(mask=objarr[mask]))\n\u001b[0m\u001b[0;32m   1270\u001b[0m \u001b[1;33m\u001b[0m\u001b[0m\n\u001b[0;32m   1271\u001b[0m                 \u001b[1;32mreturn\u001b[0m \u001b[0m_values_from_object\u001b[0m\u001b[1;33m(\u001b[0m\u001b[0mindexer\u001b[0m\u001b[1;33m)\u001b[0m\u001b[1;33m\u001b[0m\u001b[0m\n",
      "\u001b[1;31mKeyError\u001b[0m: \"['School Name' 'School Number' 'School Code'\\n 'School or Citywide Complaint'] not in index\""
     ]
    }
   ],
   "source": [
    "# We keep only the columns we are interested in\n",
    "noise = noise[[\"Unique Key\", \"Created Date\", \"Agency\", \"Agency Name\", \n",
    "         \"Complaint Type\", \"Descriptor\", \"Incident Zip\", \"Community Board\", \"Borough\", \"School Name\", \n",
    "         \"School Number\", \"School Code\", \"School or Citywide Complaint\", \"Latitude\", \"Longitude\", \"Location\"]]"
   ]
  },
  {
   "cell_type": "code",
   "execution_count": null,
   "metadata": {},
   "outputs": [],
   "source": [
    "noise.shape"
   ]
  },
  {
   "cell_type": "code",
   "execution_count": null,
   "metadata": {},
   "outputs": [],
   "source": [
    "# We are only interested in observations we can geo localize so we check if the column has nan values.\n",
    "noise1 = noise[noise['Location']==\"NaN\"]"
   ]
  },
  {
   "cell_type": "code",
   "execution_count": null,
   "metadata": {},
   "outputs": [],
   "source": [
    "noise.shape"
   ]
  },
  {
   "cell_type": "code",
   "execution_count": null,
   "metadata": {},
   "outputs": [],
   "source": [
    "noise1.shape\n",
    "\n",
    "# It doesn't have any NaN values. How great!"
   ]
  },
  {
   "cell_type": "code",
   "execution_count": null,
   "metadata": {},
   "outputs": [],
   "source": [
    "# We save the data as a csv file in case we want to reload it without spending so much time\n",
    "noise.to_csv('311data.csv')"
   ]
  },
  {
   "cell_type": "code",
   "execution_count": null,
   "metadata": {},
   "outputs": [],
   "source": [
    "noise.head()"
   ]
  },
  {
   "cell_type": "code",
   "execution_count": null,
   "metadata": {},
   "outputs": [],
   "source": [
    "noise.shape"
   ]
  },
  {
   "cell_type": "code",
   "execution_count": null,
   "metadata": {},
   "outputs": [],
   "source": [
    "# We group the noise complaints in differen time subsets in order to visualize them\n",
    "grph = noise.groupby(noise[\"Created Date\"].dt.hour).count()\n",
    "grpd = noise.groupby(noise[\"Created Date\"].dt.weekday).count()\n",
    "grpw = noise.groupby(noise[\"Created Date\"].dt.week).count()\n",
    "grpy = noise.groupby(noise[\"Created Date\"].dt.year).count()"
   ]
  },
  {
   "cell_type": "code",
   "execution_count": null,
   "metadata": {},
   "outputs": [],
   "source": [
    "grpd.head(1)"
   ]
  },
  {
   "cell_type": "code",
   "execution_count": null,
   "metadata": {},
   "outputs": [],
   "source": [
    "fig = plt.figure(figsize=(7,4))\n",
    "\n",
    "wd = np.arange(3)\n",
    "ax1 =plt.bar(wd, grpy[\"Unique Key\"])\n",
    "plt.xticks(wd, ('2013', '2014', '2015'))\n",
    "pl.title(\"Complaints by year\")\n",
    "pl.ylabel(\"Number of complaints\")\n",
    "\n",
    "fig = plt.figure(figsize=(7,4))\n",
    "\n",
    "wd = np.arange(7)\n",
    "ax1 =plt.bar(wd, grpd[\"Unique Key\"])\n",
    "plt.xticks(wd, ('Monday', 'Tuesday', 'Wednesday', 'Thursday', \"Friday\", \"Saturday\", \"Sunday\"))\n",
    "pl.title(\"Complaints by weekday\")\n",
    "pl.ylabel(\"Number of complaints\")\n",
    "\n",
    "fig = plt.figure(figsize=(7,4))\n",
    "\n",
    "x = np.arange(24)\n",
    "ax2 = plt.bar(x, grph[\"Unique Key\"])\n",
    "plt.xticks(x, ('0', '1', '2', '3', \"4\", \"5\", \"6\", \"7\", \"8\", \"9\", \"10\", \"11\", \"12\", \"13\", \"14\",\n",
    "              \"15\", \"16\", \"17\", \"18\", \"19\", \"20\", \"21\", \"22\", \"23\"))\n",
    "pl.title(\"Complaints by hour\")\n",
    "pl.ylabel(\"Number of complaints\")\n",
    "pl.xlabel(\"hours of the day\")\n",
    "\n",
    "fig = plt.figure(figsize=(7,4))\n",
    "ax3 = plt.figure(figsize=(7,4))\n",
    "pl.plot(grpw[\"Unique Key\"], \"--o\")\n",
    "pl.title(\"Complaints by week of the year\")\n",
    "pl.ylabel(\"Number of complaints\")\n",
    "pl.xlabel(\"week of the year\")\n",
    "\n",
    "pl.figure(figsize=(7,7))\n",
    "ax4 = pl.scatter(noise.Longitude, noise.Latitude, s = 0.1)\n",
    "pl.title(\"Complaints in NYC\")"
   ]
  },
  {
   "cell_type": "code",
   "execution_count": null,
   "metadata": {},
   "outputs": [],
   "source": [
    "# We drop Saturdays and Sundays because kids do not go to school those days\n",
    "noise =  noise[noise[\"Created Date\"].dt.weekday!=6]\n",
    "noise =  noise[noise[\"Created Date\"].dt.weekday!=7]"
   ]
  },
  {
   "cell_type": "code",
   "execution_count": null,
   "metadata": {},
   "outputs": [],
   "source": [
    "print (\"This is our final 311 database complaint database shape:\", noise.shape)"
   ]
  },
  {
   "cell_type": "code",
   "execution_count": null,
   "metadata": {},
   "outputs": [],
   "source": [
    "# Because our school results are by year then we also want our noise complaints by year\n",
    "noise2013 = noise[noise[\"Created Date\"].dt.year == 2013]\n",
    "noise2014 = noise[noise[\"Created Date\"].dt.year == 2014]\n",
    "noise2015 = noise[noise[\"Created Date\"].dt.year == 2015]"
   ]
  },
  {
   "cell_type": "code",
   "execution_count": null,
   "metadata": {},
   "outputs": [],
   "source": [
    "# We create three different datasets of noise complaints (1 by year in order to groupby census tract)\n",
    "noise2013.to_csv(\"noise2013.csv\")\n",
    "noise2014.to_csv(\"noise2014.csv\")\n",
    "noise2015.to_csv(\"noise2015.csv\")"
   ]
  },
  {
   "cell_type": "markdown",
   "metadata": {},
   "source": [
    "### NOTE: in order to count the number of complaints by Census Tract we used \"Carto\" using the analysis of counting points inside geometries. The geometries were the census tracts provided by new york city open data. It will we used in the following data processing.  "
   ]
  },
  {
   "cell_type": "code",
   "execution_count": null,
   "metadata": {},
   "outputs": [],
   "source": [
    "# We read the resulting datasets that contain the number of complaints by Census Tract\n",
    "noise_13 = pd.read_csv(\"noisebyct2013.csv\")\n",
    "noise_14 = pd.read_csv(\"noisebyct2014.csv\")\n",
    "noise_15 = pd.read_csv(\"noisebyct2015.csv\")"
   ]
  },
  {
   "cell_type": "code",
   "execution_count": null,
   "metadata": {},
   "outputs": [],
   "source": [
    "print (noise_13.shape)\n",
    "print (noise_14.shape)\n",
    "print (noise_15.shape)"
   ]
  },
  {
   "cell_type": "code",
   "execution_count": null,
   "metadata": {},
   "outputs": [],
   "source": [
    "# This is a way to visualize NYC that professor Federica Bianco created, it is basically a choropleth with variations.\n",
    "urllib.request.urlretrieve(\"https://raw.githubusercontent.com/fedhere/choroplethNYC/master/choroplethNYC.py\",\"choroplethNYC.py\")\n",
    "import choroplethNYC as cp"
   ]
  },
  {
   "cell_type": "code",
   "execution_count": null,
   "metadata": {},
   "outputs": [],
   "source": [
    "# Make the datasets geo data frames in order to map them\n",
    "noise_13_ = gp.GeoDataFrame(noise_13)\n",
    "noise_14_ = gp.GeoDataFrame(noise_14)\n",
    "noise_15_ = gp.GeoDataFrame(noise_15)"
   ]
  },
  {
   "cell_type": "code",
   "execution_count": null,
   "metadata": {},
   "outputs": [],
   "source": [
    "#we unzip the census tract shapefile (it will be attached with the code in a separate file)\n",
    "zip_ref = zipfile.ZipFile(\"2010 Census Tracts.zip\", 'r')\n",
    "zip_ref.extractall()\n",
    "zip_ref.close()"
   ]
  },
  {
   "cell_type": "code",
   "execution_count": null,
   "metadata": {},
   "outputs": [],
   "source": [
    "# We read the file as a geodataframe\n",
    "ct = gp.GeoDataFrame.from_file(\"geo_export_19d388ec-f34e-4b0d-b74d-a31e738347e7.shp\")"
   ]
  },
  {
   "cell_type": "code",
   "execution_count": null,
   "metadata": {},
   "outputs": [],
   "source": [
    "ct.head(1)"
   ]
  },
  {
   "cell_type": "code",
   "execution_count": null,
   "metadata": {},
   "outputs": [],
   "source": [
    "noise_13_.columns"
   ]
  },
  {
   "cell_type": "code",
   "execution_count": null,
   "metadata": {},
   "outputs": [],
   "source": [
    "noise_13_[\"boro_ct201\"] = noise_13_[\"boro_ct201\"].astype(str)\n",
    "noise_14_[\"boro_ct201\"] = noise_14_[\"boro_ct201\"].astype(str)\n",
    "noise_15_[\"boro_ct201\"] = noise_15_[\"boro_ct201\"].astype(str)\n",
    "\n",
    "ct[\"boro_ct201\"] = ct[\"boro_ct201\"].astype(str)\n"
   ]
  },
  {
   "cell_type": "code",
   "execution_count": null,
   "metadata": {},
   "outputs": [],
   "source": [
    "# In order to map the number of complaints by census tract we must merge the datasets\n",
    "\n",
    "noise_13_ = pd.merge(ct, noise_13_, on=\"boro_ct201\")\n",
    "noise_14_ = pd.merge(ct, noise_14_, on=\"boro_ct201\")\n",
    "noise_15_ = pd.merge(ct, noise_15_, on=\"boro_ct201\")"
   ]
  },
  {
   "cell_type": "code",
   "execution_count": null,
   "metadata": {},
   "outputs": [],
   "source": [
    "noise_13_.head()"
   ]
  },
  {
   "cell_type": "code",
   "execution_count": null,
   "metadata": {},
   "outputs": [],
   "source": [
    "cp.choroplethNYC(noise_13_, column=\"count_vals\", color=\"k\",cmap=\"viridis\", edgecolor=\"k\", lw=0.5);"
   ]
  },
  {
   "cell_type": "code",
   "execution_count": null,
   "metadata": {},
   "outputs": [],
   "source": [
    "cp.choroplethNYC(noise_14_, column=\"count_vals\", color=\"k\",cmap=\"viridis\", edgecolor=\"k\", lw=0.5);"
   ]
  },
  {
   "cell_type": "code",
   "execution_count": null,
   "metadata": {},
   "outputs": [],
   "source": [
    "cp.choroplethNYC(noise_15_, column=\"count_vals\", color=\"k\",cmap=\"viridis\", edgecolor=\"k\", lw=0.5);"
   ]
  },
  {
   "cell_type": "markdown",
   "metadata": {},
   "source": [
    "# SECTION 2. SCHOOL DATA MUNGING "
   ]
  },
  {
   "cell_type": "code",
   "execution_count": 18,
   "metadata": {
    "scrolled": true
   },
   "outputs": [],
   "source": [
    "#load english and math scores and school locations from nyc open data \n",
    "math = pd.read_csv(\"https://data.cityofnewyork.us/api/views/gcvr-n8qw/rows.csv?accessType=DOWNLOAD\")"
   ]
  },
  {
   "cell_type": "code",
   "execution_count": 19,
   "metadata": {},
   "outputs": [],
   "source": [
    "english = pd.read_csv(\"https://data.cityofnewyork.us/api/views/jk35-yh5p/rows.csv?accessType=DOWNLOAD\")\n"
   ]
  },
  {
   "cell_type": "code",
   "execution_count": 21,
   "metadata": {},
   "outputs": [],
   "source": [
    "loc = pd.read_csv(\"https://data.cityofnewyork.us/api/views/ac4n-c5re/rows.csv?accessType=DOWNLOAD\")"
   ]
  },
  {
   "cell_type": "code",
   "execution_count": 22,
   "metadata": {},
   "outputs": [
    {
     "name": "stdout",
     "output_type": "stream",
     "text": [
      "(161403, 17)\n",
      "(161412, 17)\n",
      "(1819, 39)\n"
     ]
    }
   ],
   "source": [
    "print(math.shape)\n",
    "print(english.shape)\n",
    "print(loc.shape)"
   ]
  },
  {
   "cell_type": "code",
   "execution_count": 23,
   "metadata": {},
   "outputs": [
    {
     "data": {
      "text/plain": [
       "Index(['DBN', 'School Name', 'Grade', 'Year', 'Category', 'Number Tested',\n",
       "       'Mean Scale Score', '# Level 1', '% Level 1', '# Level 2', '% Level 2',\n",
       "       '# Level 3', '% Level 3', '# Level 4', '% Level 4', '# Level 3+4',\n",
       "       '% Level 3+4'],\n",
       "      dtype='object')"
      ]
     },
     "execution_count": 23,
     "metadata": {},
     "output_type": "execute_result"
    }
   ],
   "source": [
    "english.columns"
   ]
  },
  {
   "cell_type": "code",
   "execution_count": 24,
   "metadata": {},
   "outputs": [
    {
     "data": {
      "text/html": [
       "<div>\n",
       "<style scoped>\n",
       "    .dataframe tbody tr th:only-of-type {\n",
       "        vertical-align: middle;\n",
       "    }\n",
       "\n",
       "    .dataframe tbody tr th {\n",
       "        vertical-align: top;\n",
       "    }\n",
       "\n",
       "    .dataframe thead th {\n",
       "        text-align: right;\n",
       "    }\n",
       "</style>\n",
       "<table border=\"1\" class=\"dataframe\">\n",
       "  <thead>\n",
       "    <tr style=\"text-align: right;\">\n",
       "      <th></th>\n",
       "      <th>DBN</th>\n",
       "      <th>School Name</th>\n",
       "      <th>Grade</th>\n",
       "      <th>Year</th>\n",
       "      <th>Category</th>\n",
       "      <th>Number Tested</th>\n",
       "      <th>Mean Scale Score</th>\n",
       "      <th># Level 1</th>\n",
       "      <th>% Level 1</th>\n",
       "      <th># Level 2</th>\n",
       "      <th>% Level 2</th>\n",
       "      <th># Level 3</th>\n",
       "      <th>% Level 3</th>\n",
       "      <th># Level 4</th>\n",
       "      <th>% Level 4</th>\n",
       "      <th># Level 3+4</th>\n",
       "      <th>% Level 3+4</th>\n",
       "    </tr>\n",
       "  </thead>\n",
       "  <tbody>\n",
       "    <tr>\n",
       "      <th>0</th>\n",
       "      <td>01M015</td>\n",
       "      <td>P.S. 015 ROBERTO CLEMENTE</td>\n",
       "      <td>3</td>\n",
       "      <td>2013</td>\n",
       "      <td>All Students</td>\n",
       "      <td>27</td>\n",
       "      <td>289</td>\n",
       "      <td>14</td>\n",
       "      <td>51.9</td>\n",
       "      <td>11</td>\n",
       "      <td>40.7</td>\n",
       "      <td>2</td>\n",
       "      <td>7.4</td>\n",
       "      <td>0</td>\n",
       "      <td>0</td>\n",
       "      <td>2</td>\n",
       "      <td>7.4</td>\n",
       "    </tr>\n",
       "    <tr>\n",
       "      <th>1</th>\n",
       "      <td>01M015</td>\n",
       "      <td>P.S. 015 ROBERTO CLEMENTE</td>\n",
       "      <td>3</td>\n",
       "      <td>2014</td>\n",
       "      <td>All Students</td>\n",
       "      <td>18</td>\n",
       "      <td>285</td>\n",
       "      <td>10</td>\n",
       "      <td>55.6</td>\n",
       "      <td>8</td>\n",
       "      <td>44.4</td>\n",
       "      <td>0</td>\n",
       "      <td>0</td>\n",
       "      <td>0</td>\n",
       "      <td>0</td>\n",
       "      <td>0</td>\n",
       "      <td>0</td>\n",
       "    </tr>\n",
       "    <tr>\n",
       "      <th>2</th>\n",
       "      <td>01M015</td>\n",
       "      <td>P.S. 015 ROBERTO CLEMENTE</td>\n",
       "      <td>3</td>\n",
       "      <td>2015</td>\n",
       "      <td>All Students</td>\n",
       "      <td>16</td>\n",
       "      <td>282</td>\n",
       "      <td>9</td>\n",
       "      <td>56.3</td>\n",
       "      <td>5</td>\n",
       "      <td>31.3</td>\n",
       "      <td>2</td>\n",
       "      <td>12.5</td>\n",
       "      <td>0</td>\n",
       "      <td>0</td>\n",
       "      <td>2</td>\n",
       "      <td>12.5</td>\n",
       "    </tr>\n",
       "    <tr>\n",
       "      <th>3</th>\n",
       "      <td>01M015</td>\n",
       "      <td>P.S. 015 ROBERTO CLEMENTE</td>\n",
       "      <td>4</td>\n",
       "      <td>2013</td>\n",
       "      <td>All Students</td>\n",
       "      <td>20</td>\n",
       "      <td>278</td>\n",
       "      <td>8</td>\n",
       "      <td>40</td>\n",
       "      <td>11</td>\n",
       "      <td>55</td>\n",
       "      <td>1</td>\n",
       "      <td>5</td>\n",
       "      <td>0</td>\n",
       "      <td>0</td>\n",
       "      <td>1</td>\n",
       "      <td>5</td>\n",
       "    </tr>\n",
       "    <tr>\n",
       "      <th>4</th>\n",
       "      <td>01M015</td>\n",
       "      <td>P.S. 015 ROBERTO CLEMENTE</td>\n",
       "      <td>4</td>\n",
       "      <td>2014</td>\n",
       "      <td>All Students</td>\n",
       "      <td>24</td>\n",
       "      <td>284</td>\n",
       "      <td>13</td>\n",
       "      <td>54.2</td>\n",
       "      <td>10</td>\n",
       "      <td>41.7</td>\n",
       "      <td>1</td>\n",
       "      <td>4.2</td>\n",
       "      <td>0</td>\n",
       "      <td>0</td>\n",
       "      <td>1</td>\n",
       "      <td>4.2</td>\n",
       "    </tr>\n",
       "  </tbody>\n",
       "</table>\n",
       "</div>"
      ],
      "text/plain": [
       "      DBN                School Name Grade  Year      Category  Number Tested  \\\n",
       "0  01M015  P.S. 015 ROBERTO CLEMENTE     3  2013  All Students             27   \n",
       "1  01M015  P.S. 015 ROBERTO CLEMENTE     3  2014  All Students             18   \n",
       "2  01M015  P.S. 015 ROBERTO CLEMENTE     3  2015  All Students             16   \n",
       "3  01M015  P.S. 015 ROBERTO CLEMENTE     4  2013  All Students             20   \n",
       "4  01M015  P.S. 015 ROBERTO CLEMENTE     4  2014  All Students             24   \n",
       "\n",
       "  Mean Scale Score # Level 1 % Level 1 # Level 2 % Level 2 # Level 3  \\\n",
       "0              289        14      51.9        11      40.7         2   \n",
       "1              285        10      55.6         8      44.4         0   \n",
       "2              282         9      56.3         5      31.3         2   \n",
       "3              278         8        40        11        55         1   \n",
       "4              284        13      54.2        10      41.7         1   \n",
       "\n",
       "  % Level 3 # Level 4 % Level 4 # Level 3+4 % Level 3+4  \n",
       "0       7.4         0         0           2         7.4  \n",
       "1         0         0         0           0           0  \n",
       "2      12.5         0         0           2        12.5  \n",
       "3         5         0         0           1           5  \n",
       "4       4.2         0         0           1         4.2  "
      ]
     },
     "execution_count": 24,
     "metadata": {},
     "output_type": "execute_result"
    }
   ],
   "source": [
    "english.head()"
   ]
  },
  {
   "cell_type": "code",
   "execution_count": 25,
   "metadata": {},
   "outputs": [
    {
     "data": {
      "text/plain": [
       "Index(['FISCAL_YEAR', 'ATS SYSTEM CODE', 'LOCATION_CODE', 'LOCATION_NAME',\n",
       "       'BEDS NUMBER', 'MANAGED_BY_NAME', 'LOCATION_TYPE_DESCRIPTION',\n",
       "       'LOCATION_CATEGORY_DESCRIPTION', 'GRADES_TEXT', 'GRADES_FINAL_TEXT',\n",
       "       'OPEN_DATE', 'STATUS_DESCRIPTIONS', 'PRIMARY_BUILDING_CODE',\n",
       "       'PRIMARY_ADDRESS_LINE_1', 'STATE_CODE', 'X_COORDINATE', 'Y_COORDINATE',\n",
       "       'COMMUNITY_DISTRICT', 'COUNCIL_DISTRICT', 'CENSUS_TRACT',\n",
       "       'BOROUGH_BLOCK_LOT', 'NTA', 'NTA_NAME', 'PRINCIPAL_NAME',\n",
       "       'PRINCIPAL_TITLE', 'PRINCIPAL_PHONE_NUMBER', 'FAX_NUMBER',\n",
       "       'GEOGRAPHICAL_DISTRICT_CODE', 'ADMIN_DISTRICT_LOCATION_CODE',\n",
       "       'ADMINISTRATIVE_DISTRICT_NAME', 'COMMUNITY_SCHOOL_SUP_NAME',\n",
       "       'FIELD_SUPPORT_CENTER_NAME', 'FIELD_SUPPORT_CENTER_LEADER_NAME',\n",
       "       'SCHOOL_SUPPORT_TEAM_NAME', 'SCHOOL_SUPPORT_TEAM_LEADER_NAME',\n",
       "       'HIGHSCHOOL_NETWORK_LOCATION_CODE', 'HIGHSCHOOL_NETWORK_NAME',\n",
       "       'HIGHSCHOOL_NETWORK_SUPERINTENDENT', 'Location 1'],\n",
       "      dtype='object')"
      ]
     },
     "execution_count": 25,
     "metadata": {},
     "output_type": "execute_result"
    }
   ],
   "source": [
    "loc.columns"
   ]
  },
  {
   "cell_type": "code",
   "execution_count": 26,
   "metadata": {},
   "outputs": [
    {
     "name": "stdout",
     "output_type": "stream",
     "text": [
      "1133\n",
      "1132\n"
     ]
    }
   ],
   "source": [
    "print(len(math.DBN.unique()))\n",
    "print(len(english.DBN.unique()))"
   ]
  },
  {
   "cell_type": "code",
   "execution_count": 27,
   "metadata": {},
   "outputs": [],
   "source": [
    "#shorten english and math dataframes to only include average scores from all grades\n",
    "english = english[english[\"Grade\"] == \"All Grades\"]\n",
    "math = math[math[\"Grade\"] == \"All Grades\"]"
   ]
  },
  {
   "cell_type": "code",
   "execution_count": 28,
   "metadata": {},
   "outputs": [
    {
     "name": "stdout",
     "output_type": "stream",
     "text": [
      "(38930, 17)\n",
      "(38978, 17)\n"
     ]
    }
   ],
   "source": [
    "print(english.shape)\n",
    "print(math.shape)"
   ]
  },
  {
   "cell_type": "code",
   "execution_count": 29,
   "metadata": {},
   "outputs": [],
   "source": [
    "#create dataframes for each year of test scores\n",
    "english2013 = english[english[\"Year\"] == 2013]\n",
    "english2014 = english[english[\"Year\"] == 2014]\n",
    "english2015 = english[english[\"Year\"] == 2015]\n",
    "\n",
    "math2013 = math[math[\"Year\"] == 2013]\n",
    "math2014 = math[math[\"Year\"] == 2014]\n",
    "math2015 = math[math[\"Year\"] == 2015]"
   ]
  },
  {
   "cell_type": "code",
   "execution_count": 30,
   "metadata": {},
   "outputs": [
    {
     "name": "stdout",
     "output_type": "stream",
     "text": [
      "math 2013 (12730, 17)\n",
      "math 2014 (13026, 17)\n",
      "math 2015 (13222, 17)\n",
      "english 2013 (12715, 17)\n",
      "english 2014 (13012, 17)\n",
      "english 2015 (13203, 17)\n"
     ]
    }
   ],
   "source": [
    "print(\"math 2013\",math2013.shape)\n",
    "print(\"math 2014\",math2014.shape)\n",
    "print(\"math 2015\",math2015.shape)\n",
    "\n",
    "print(\"english 2013\",english2013.shape)\n",
    "print(\"english 2014\",english2014.shape)\n",
    "print(\"english 2015\",english2015.shape)"
   ]
  },
  {
   "cell_type": "code",
   "execution_count": 31,
   "metadata": {},
   "outputs": [],
   "source": [
    "#create BDN column in location data\n",
    "loc[\"DBN\"] = loc[\"ATS SYSTEM CODE\"].str[:6]"
   ]
  },
  {
   "cell_type": "code",
   "execution_count": 32,
   "metadata": {},
   "outputs": [
    {
     "data": {
      "text/plain": [
       "Index(['FISCAL_YEAR', 'ATS SYSTEM CODE', 'LOCATION_CODE', 'LOCATION_NAME',\n",
       "       'BEDS NUMBER', 'MANAGED_BY_NAME', 'LOCATION_TYPE_DESCRIPTION',\n",
       "       'LOCATION_CATEGORY_DESCRIPTION', 'GRADES_TEXT', 'GRADES_FINAL_TEXT',\n",
       "       'OPEN_DATE', 'STATUS_DESCRIPTIONS', 'PRIMARY_BUILDING_CODE',\n",
       "       'PRIMARY_ADDRESS_LINE_1', 'STATE_CODE', 'X_COORDINATE', 'Y_COORDINATE',\n",
       "       'COMMUNITY_DISTRICT', 'COUNCIL_DISTRICT', 'CENSUS_TRACT',\n",
       "       'BOROUGH_BLOCK_LOT', 'NTA', 'NTA_NAME', 'PRINCIPAL_NAME',\n",
       "       'PRINCIPAL_TITLE', 'PRINCIPAL_PHONE_NUMBER', 'FAX_NUMBER',\n",
       "       'GEOGRAPHICAL_DISTRICT_CODE', 'ADMIN_DISTRICT_LOCATION_CODE',\n",
       "       'ADMINISTRATIVE_DISTRICT_NAME', 'COMMUNITY_SCHOOL_SUP_NAME',\n",
       "       'FIELD_SUPPORT_CENTER_NAME', 'FIELD_SUPPORT_CENTER_LEADER_NAME',\n",
       "       'SCHOOL_SUPPORT_TEAM_NAME', 'SCHOOL_SUPPORT_TEAM_LEADER_NAME',\n",
       "       'HIGHSCHOOL_NETWORK_LOCATION_CODE', 'HIGHSCHOOL_NETWORK_NAME',\n",
       "       'HIGHSCHOOL_NETWORK_SUPERINTENDENT', 'Location 1', 'DBN'],\n",
       "      dtype='object')"
      ]
     },
     "execution_count": 32,
     "metadata": {},
     "output_type": "execute_result"
    }
   ],
   "source": [
    "loc.columns"
   ]
  },
  {
   "cell_type": "code",
   "execution_count": 33,
   "metadata": {},
   "outputs": [],
   "source": [
    "#merge school locations and test scores based on DBN\n",
    "eng2013 = pd.merge(loc, english2013, right_on=\"DBN\", left_on=\"DBN\", how = \"inner\")\n",
    "eng2014 = pd.merge(loc, english2014, right_on=\"DBN\", left_on=\"DBN\", how = \"inner\")\n",
    "eng2015 = pd.merge(loc, english2015, right_on=\"DBN\", left_on=\"DBN\", how = \"inner\")\n",
    "\n",
    "math2013 = pd.merge(loc, math2013, right_on=\"DBN\", left_on=\"DBN\", how = \"inner\")\n",
    "math2014 = pd.merge(loc, math2014, right_on=\"DBN\", left_on=\"DBN\", how = \"inner\")\n",
    "math2015 = pd.merge(loc, math2015, right_on=\"DBN\", left_on=\"DBN\", how = \"inner\")"
   ]
  },
  {
   "cell_type": "code",
   "execution_count": 34,
   "metadata": {},
   "outputs": [
    {
     "name": "stdout",
     "output_type": "stream",
     "text": [
      "math 2013 (12730, 56)\n",
      "math 2014 (13026, 56)\n",
      "math 2015 (13139, 56)\n",
      "english 2013 (12715, 17)\n",
      "english 2014 (13012, 17)\n",
      "english 2015 (13203, 17)\n"
     ]
    }
   ],
   "source": [
    "print(\"math 2013\",math2013.shape)\n",
    "print(\"math 2014\",math2014.shape)\n",
    "print(\"math 2015\",math2015.shape)\n",
    "\n",
    "print(\"english 2013\",english2013.shape)\n",
    "print(\"english 2014\",english2014.shape)\n",
    "print(\"english 2015\",english2015.shape)"
   ]
  },
  {
   "cell_type": "code",
   "execution_count": 35,
   "metadata": {},
   "outputs": [],
   "source": [
    "eng2013 = eng2013[eng2013[\"Mean Scale Score\"].str.contains(\"s\") == False]\n",
    "eng2014 = eng2014[eng2014[\"Mean Scale Score\"].str.contains(\"s\") == False]\n",
    "eng2015 = eng2015[eng2015[\"Mean Scale Score\"].str.contains(\"s\") == False]\n",
    "\n",
    "math2013 = math2013[math2013[\"Mean Scale Score\"].str.contains(\"s\") == False]\n",
    "math2014 = math2014[math2014[\"Mean Scale Score\"].str.contains(\"s\") == False]\n",
    "math2015 = math2015[math2015[\"Mean Scale Score\"].str.contains(\"s\") == False]"
   ]
  },
  {
   "cell_type": "code",
   "execution_count": 36,
   "metadata": {},
   "outputs": [],
   "source": [
    "#convert mean scale score to integer\n",
    "eng2013[\"mean\"] = eng2013[\"Mean Scale Score\"].astype(int)\n",
    "eng2014[\"mean\"] = eng2014[\"Mean Scale Score\"].astype(int)\n",
    "eng2015[\"mean\"] = eng2015[\"Mean Scale Score\"].astype(int)\n",
    "\n",
    "math2013[\"mean\"] = math2013[\"Mean Scale Score\"].astype(int)\n",
    "math2014[\"mean\"] = math2014[\"Mean Scale Score\"].astype(int)\n",
    "math2015[\"mean\"] = math2015[\"Mean Scale Score\"].astype(int)"
   ]
  },
  {
   "cell_type": "code",
   "execution_count": 37,
   "metadata": {},
   "outputs": [],
   "source": [
    "engall2013 = eng2013[eng2013[\"Category\"] == \"All Students\"]\n",
    "engall2014 = eng2014[eng2014[\"Category\"] == \"All Students\"]\n",
    "engall2015 = eng2015[eng2015[\"Category\"] == \"All Students\"]\n",
    "\n",
    "mathall2013 = math2013[math2013[\"Category\"] == \"All Students\"]\n",
    "mathall2014 = math2014[math2014[\"Category\"] == \"All Students\"]\n",
    "mathall2015 = math2015[math2015[\"Category\"] == \"All Students\"]"
   ]
  },
  {
   "cell_type": "code",
   "execution_count": 38,
   "metadata": {},
   "outputs": [
    {
     "name": "stdout",
     "output_type": "stream",
     "text": [
      "(1086, 57)\n",
      "(1115, 57)\n",
      "(1124, 57)\n",
      "(1086, 57)\n",
      "(1115, 57)\n",
      "(1125, 57)\n"
     ]
    }
   ],
   "source": [
    "print(engall2013.shape)\n",
    "print(engall2014.shape)\n",
    "print(engall2015.shape)\n",
    "\n",
    "print(mathall2013.shape)\n",
    "print(mathall2014.shape)\n",
    "print(mathall2015.shape)"
   ]
  },
  {
   "cell_type": "code",
   "execution_count": 39,
   "metadata": {},
   "outputs": [
    {
     "name": "stderr",
     "output_type": "stream",
     "text": [
      "C:\\Users\\james\\Anaconda2\\envs\\base python 3.6\\lib\\site-packages\\ipykernel_launcher.py:1: SettingWithCopyWarning: \n",
      "A value is trying to be set on a copy of a slice from a DataFrame.\n",
      "Try using .loc[row_indexer,col_indexer] = value instead\n",
      "\n",
      "See the caveats in the documentation: http://pandas.pydata.org/pandas-docs/stable/indexing.html#indexing-view-versus-copy\n",
      "  \"\"\"Entry point for launching an IPython kernel.\n",
      "C:\\Users\\james\\Anaconda2\\envs\\base python 3.6\\lib\\site-packages\\ipykernel_launcher.py:2: SettingWithCopyWarning: \n",
      "A value is trying to be set on a copy of a slice from a DataFrame.\n",
      "Try using .loc[row_indexer,col_indexer] = value instead\n",
      "\n",
      "See the caveats in the documentation: http://pandas.pydata.org/pandas-docs/stable/indexing.html#indexing-view-versus-copy\n",
      "  \n",
      "C:\\Users\\james\\Anaconda2\\envs\\base python 3.6\\lib\\site-packages\\ipykernel_launcher.py:3: SettingWithCopyWarning: \n",
      "A value is trying to be set on a copy of a slice from a DataFrame.\n",
      "Try using .loc[row_indexer,col_indexer] = value instead\n",
      "\n",
      "See the caveats in the documentation: http://pandas.pydata.org/pandas-docs/stable/indexing.html#indexing-view-versus-copy\n",
      "  This is separate from the ipykernel package so we can avoid doing imports until\n",
      "C:\\Users\\james\\Anaconda2\\envs\\base python 3.6\\lib\\site-packages\\ipykernel_launcher.py:5: SettingWithCopyWarning: \n",
      "A value is trying to be set on a copy of a slice from a DataFrame.\n",
      "Try using .loc[row_indexer,col_indexer] = value instead\n",
      "\n",
      "See the caveats in the documentation: http://pandas.pydata.org/pandas-docs/stable/indexing.html#indexing-view-versus-copy\n",
      "  \"\"\"\n",
      "C:\\Users\\james\\Anaconda2\\envs\\base python 3.6\\lib\\site-packages\\ipykernel_launcher.py:6: SettingWithCopyWarning: \n",
      "A value is trying to be set on a copy of a slice from a DataFrame.\n",
      "Try using .loc[row_indexer,col_indexer] = value instead\n",
      "\n",
      "See the caveats in the documentation: http://pandas.pydata.org/pandas-docs/stable/indexing.html#indexing-view-versus-copy\n",
      "  \n",
      "C:\\Users\\james\\Anaconda2\\envs\\base python 3.6\\lib\\site-packages\\ipykernel_launcher.py:7: SettingWithCopyWarning: \n",
      "A value is trying to be set on a copy of a slice from a DataFrame.\n",
      "Try using .loc[row_indexer,col_indexer] = value instead\n",
      "\n",
      "See the caveats in the documentation: http://pandas.pydata.org/pandas-docs/stable/indexing.html#indexing-view-versus-copy\n",
      "  import sys\n"
     ]
    }
   ],
   "source": [
    "engall2013[\"English Mean Score\"] = engall2015[\"mean\"]\n",
    "engall2014[\"English Mean Score\"] = engall2015[\"mean\"]\n",
    "engall2015[\"English Mean Score\"] = engall2015[\"mean\"]\n",
    "\n",
    "mathall2013[\"Math Mean Score\"] = mathall2015[\"mean\"]\n",
    "mathall2014[\"Math Mean Score\"] = mathall2015[\"mean\"]\n",
    "mathall2015[\"Math Mean Score\"] = mathall2015[\"mean\"]"
   ]
  },
  {
   "cell_type": "code",
   "execution_count": 40,
   "metadata": {},
   "outputs": [],
   "source": [
    "#examine mean test scores in each year"
   ]
  },
  {
   "cell_type": "code",
   "execution_count": 41,
   "metadata": {},
   "outputs": [
    {
     "data": {
      "text/plain": [
       "Text(0.5,0,'English scores')"
      ]
     },
     "execution_count": 41,
     "metadata": {},
     "output_type": "execute_result"
    },
    {
     "data": {
      "image/png": "[encoded data removed]",
      "text/plain": [
       "<Figure size 504x504 with 1 Axes>"
      ]
     },
     "metadata": {},
     "output_type": "display_data"
    }
   ],
   "source": [
    "#2013\n",
    "pl.figure(figsize=(7,7))\n",
    "pl.scatter(engall2013[\"mean\"], mathall2013[\"mean\"])\n",
    "pl.title(\"Scatter plot of scores in english and math by school in 2013\")\n",
    "pl.ylabel(\"Math scores\")\n",
    "pl.xlabel(\"English scores\")"
   ]
  },
  {
   "cell_type": "code",
   "execution_count": 42,
   "metadata": {},
   "outputs": [
    {
     "data": {
      "text/plain": [
       "Text(0.5,0,'English scores')"
      ]
     },
     "execution_count": 42,
     "metadata": {},
     "output_type": "execute_result"
    },
    {
     "data": {
      "image/png": "[encoded data removed]",
      "text/plain": [
       "<Figure size 504x504 with 1 Axes>"
      ]
     },
     "metadata": {},
     "output_type": "display_data"
    }
   ],
   "source": [
    "#2014\n",
    "pl.figure(figsize=(7,7))\n",
    "pl.scatter(engall2014[\"mean\"], mathall2014[\"mean\"])\n",
    "pl.title(\"Scatter plot of scores in english and math by school in 2014\")\n",
    "pl.ylabel(\"Math scores\")\n",
    "pl.xlabel(\"English scores\")"
   ]
  },
  {
   "cell_type": "code",
   "execution_count": 43,
   "metadata": {},
   "outputs": [
    {
     "data": {
      "text/plain": [
       "Text(0.5,0,'English scores')"
      ]
     },
     "execution_count": 43,
     "metadata": {},
     "output_type": "execute_result"
    },
    {
     "data": {
      "image/png": "[encoded data removed]",
      "text/plain": [
       "<Figure size 504x504 with 1 Axes>"
      ]
     },
     "metadata": {},
     "output_type": "display_data"
    }
   ],
   "source": [
    "#for 2015 we must first merge english and math scores to drop additional school in math data\n",
    "a = pd.merge(engall2015, mathall2015, on = \"DBN\")\n",
    "\n",
    "pl.figure(figsize=(7,7))\n",
    "pl.scatter(a[\"English Mean Score\"], a[\"Math Mean Score\"])\n",
    "pl.title(\"Scatter plot of scores in english and math by school in 2015\")\n",
    "pl.ylabel(\"Math scores\")\n",
    "pl.xlabel(\"English scores\")"
   ]
  },
  {
   "cell_type": "code",
   "execution_count": 44,
   "metadata": {},
   "outputs": [],
   "source": [
    "#now we merge the test score data with the census tracts"
   ]
  },
  {
   "cell_type": "code",
   "execution_count": 46,
   "metadata": {
    "scrolled": true
   },
   "outputs": [
    {
     "ename": "FileNotFoundError",
     "evalue": "File b'nyct2010.csv' does not exist",
     "output_type": "error",
     "traceback": [
      "\u001b[1;31m---------------------------------------------------------------------------\u001b[0m",
      "\u001b[1;31mFileNotFoundError\u001b[0m                         Traceback (most recent call last)",
      "\u001b[1;32m<ipython-input-46-b623bcfde8d5>\u001b[0m in \u001b[0;36m<module>\u001b[1;34m()\u001b[0m\n\u001b[1;32m----> 1\u001b[1;33m \u001b[0mct\u001b[0m \u001b[1;33m=\u001b[0m \u001b[0mpd\u001b[0m\u001b[1;33m.\u001b[0m\u001b[0mread_csv\u001b[0m\u001b[1;33m(\u001b[0m\u001b[1;34m\"nyct2010.csv\"\u001b[0m\u001b[1;33m)\u001b[0m\u001b[1;33m\u001b[0m\u001b[0m\n\u001b[0m",
      "\u001b[1;32m~\\Anaconda2\\envs\\base python 3.6\\lib\\site-packages\\pandas\\io\\parsers.py\u001b[0m in \u001b[0;36mparser_f\u001b[1;34m(filepath_or_buffer, sep, delimiter, header, names, index_col, usecols, squeeze, prefix, mangle_dupe_cols, dtype, engine, converters, true_values, false_values, skipinitialspace, skiprows, nrows, na_values, keep_default_na, na_filter, verbose, skip_blank_lines, parse_dates, infer_datetime_format, keep_date_col, date_parser, dayfirst, iterator, chunksize, compression, thousands, decimal, lineterminator, quotechar, quoting, escapechar, comment, encoding, dialect, tupleize_cols, error_bad_lines, warn_bad_lines, skipfooter, skip_footer, doublequote, delim_whitespace, as_recarray, compact_ints, use_unsigned, low_memory, buffer_lines, memory_map, float_precision)\u001b[0m\n\u001b[0;32m    707\u001b[0m                     skip_blank_lines=skip_blank_lines)\n\u001b[0;32m    708\u001b[0m \u001b[1;33m\u001b[0m\u001b[0m\n\u001b[1;32m--> 709\u001b[1;33m         \u001b[1;32mreturn\u001b[0m \u001b[0m_read\u001b[0m\u001b[1;33m(\u001b[0m\u001b[0mfilepath_or_buffer\u001b[0m\u001b[1;33m,\u001b[0m \u001b[0mkwds\u001b[0m\u001b[1;33m)\u001b[0m\u001b[1;33m\u001b[0m\u001b[0m\n\u001b[0m\u001b[0;32m    710\u001b[0m \u001b[1;33m\u001b[0m\u001b[0m\n\u001b[0;32m    711\u001b[0m     \u001b[0mparser_f\u001b[0m\u001b[1;33m.\u001b[0m\u001b[0m__name__\u001b[0m \u001b[1;33m=\u001b[0m \u001b[0mname\u001b[0m\u001b[1;33m\u001b[0m\u001b[0m\n",
      "\u001b[1;32m~\\Anaconda2\\envs\\base python 3.6\\lib\\site-packages\\pandas\\io\\parsers.py\u001b[0m in \u001b[0;36m_read\u001b[1;34m(filepath_or_buffer, kwds)\u001b[0m\n\u001b[0;32m    447\u001b[0m \u001b[1;33m\u001b[0m\u001b[0m\n\u001b[0;32m    448\u001b[0m     \u001b[1;31m# Create the parser.\u001b[0m\u001b[1;33m\u001b[0m\u001b[1;33m\u001b[0m\u001b[0m\n\u001b[1;32m--> 449\u001b[1;33m     \u001b[0mparser\u001b[0m \u001b[1;33m=\u001b[0m \u001b[0mTextFileReader\u001b[0m\u001b[1;33m(\u001b[0m\u001b[0mfilepath_or_buffer\u001b[0m\u001b[1;33m,\u001b[0m \u001b[1;33m**\u001b[0m\u001b[0mkwds\u001b[0m\u001b[1;33m)\u001b[0m\u001b[1;33m\u001b[0m\u001b[0m\n\u001b[0m\u001b[0;32m    450\u001b[0m \u001b[1;33m\u001b[0m\u001b[0m\n\u001b[0;32m    451\u001b[0m     \u001b[1;32mif\u001b[0m \u001b[0mchunksize\u001b[0m \u001b[1;32mor\u001b[0m \u001b[0miterator\u001b[0m\u001b[1;33m:\u001b[0m\u001b[1;33m\u001b[0m\u001b[0m\n",
      "\u001b[1;32m~\\Anaconda2\\envs\\base python 3.6\\lib\\site-packages\\pandas\\io\\parsers.py\u001b[0m in \u001b[0;36m__init__\u001b[1;34m(self, f, engine, **kwds)\u001b[0m\n\u001b[0;32m    816\u001b[0m             \u001b[0mself\u001b[0m\u001b[1;33m.\u001b[0m\u001b[0moptions\u001b[0m\u001b[1;33m[\u001b[0m\u001b[1;34m'has_index_names'\u001b[0m\u001b[1;33m]\u001b[0m \u001b[1;33m=\u001b[0m \u001b[0mkwds\u001b[0m\u001b[1;33m[\u001b[0m\u001b[1;34m'has_index_names'\u001b[0m\u001b[1;33m]\u001b[0m\u001b[1;33m\u001b[0m\u001b[0m\n\u001b[0;32m    817\u001b[0m \u001b[1;33m\u001b[0m\u001b[0m\n\u001b[1;32m--> 818\u001b[1;33m         \u001b[0mself\u001b[0m\u001b[1;33m.\u001b[0m\u001b[0m_make_engine\u001b[0m\u001b[1;33m(\u001b[0m\u001b[0mself\u001b[0m\u001b[1;33m.\u001b[0m\u001b[0mengine\u001b[0m\u001b[1;33m)\u001b[0m\u001b[1;33m\u001b[0m\u001b[0m\n\u001b[0m\u001b[0;32m    819\u001b[0m \u001b[1;33m\u001b[0m\u001b[0m\n\u001b[0;32m    820\u001b[0m     \u001b[1;32mdef\u001b[0m \u001b[0mclose\u001b[0m\u001b[1;33m(\u001b[0m\u001b[0mself\u001b[0m\u001b[1;33m)\u001b[0m\u001b[1;33m:\u001b[0m\u001b[1;33m\u001b[0m\u001b[0m\n",
      "\u001b[1;32m~\\Anaconda2\\envs\\base python 3.6\\lib\\site-packages\\pandas\\io\\parsers.py\u001b[0m in \u001b[0;36m_make_engine\u001b[1;34m(self, engine)\u001b[0m\n\u001b[0;32m   1047\u001b[0m     \u001b[1;32mdef\u001b[0m \u001b[0m_make_engine\u001b[0m\u001b[1;33m(\u001b[0m\u001b[0mself\u001b[0m\u001b[1;33m,\u001b[0m \u001b[0mengine\u001b[0m\u001b[1;33m=\u001b[0m\u001b[1;34m'c'\u001b[0m\u001b[1;33m)\u001b[0m\u001b[1;33m:\u001b[0m\u001b[1;33m\u001b[0m\u001b[0m\n\u001b[0;32m   1048\u001b[0m         \u001b[1;32mif\u001b[0m \u001b[0mengine\u001b[0m \u001b[1;33m==\u001b[0m \u001b[1;34m'c'\u001b[0m\u001b[1;33m:\u001b[0m\u001b[1;33m\u001b[0m\u001b[0m\n\u001b[1;32m-> 1049\u001b[1;33m             \u001b[0mself\u001b[0m\u001b[1;33m.\u001b[0m\u001b[0m_engine\u001b[0m \u001b[1;33m=\u001b[0m \u001b[0mCParserWrapper\u001b[0m\u001b[1;33m(\u001b[0m\u001b[0mself\u001b[0m\u001b[1;33m.\u001b[0m\u001b[0mf\u001b[0m\u001b[1;33m,\u001b[0m \u001b[1;33m**\u001b[0m\u001b[0mself\u001b[0m\u001b[1;33m.\u001b[0m\u001b[0moptions\u001b[0m\u001b[1;33m)\u001b[0m\u001b[1;33m\u001b[0m\u001b[0m\n\u001b[0m\u001b[0;32m   1050\u001b[0m         \u001b[1;32melse\u001b[0m\u001b[1;33m:\u001b[0m\u001b[1;33m\u001b[0m\u001b[0m\n\u001b[0;32m   1051\u001b[0m             \u001b[1;32mif\u001b[0m \u001b[0mengine\u001b[0m \u001b[1;33m==\u001b[0m \u001b[1;34m'python'\u001b[0m\u001b[1;33m:\u001b[0m\u001b[1;33m\u001b[0m\u001b[0m\n",
      "\u001b[1;32m~\\Anaconda2\\envs\\base python 3.6\\lib\\site-packages\\pandas\\io\\parsers.py\u001b[0m in \u001b[0;36m__init__\u001b[1;34m(self, src, **kwds)\u001b[0m\n\u001b[0;32m   1693\u001b[0m         \u001b[0mkwds\u001b[0m\u001b[1;33m[\u001b[0m\u001b[1;34m'allow_leading_cols'\u001b[0m\u001b[1;33m]\u001b[0m \u001b[1;33m=\u001b[0m \u001b[0mself\u001b[0m\u001b[1;33m.\u001b[0m\u001b[0mindex_col\u001b[0m \u001b[1;32mis\u001b[0m \u001b[1;32mnot\u001b[0m \u001b[1;32mFalse\u001b[0m\u001b[1;33m\u001b[0m\u001b[0m\n\u001b[0;32m   1694\u001b[0m \u001b[1;33m\u001b[0m\u001b[0m\n\u001b[1;32m-> 1695\u001b[1;33m         \u001b[0mself\u001b[0m\u001b[1;33m.\u001b[0m\u001b[0m_reader\u001b[0m \u001b[1;33m=\u001b[0m \u001b[0mparsers\u001b[0m\u001b[1;33m.\u001b[0m\u001b[0mTextReader\u001b[0m\u001b[1;33m(\u001b[0m\u001b[0msrc\u001b[0m\u001b[1;33m,\u001b[0m \u001b[1;33m**\u001b[0m\u001b[0mkwds\u001b[0m\u001b[1;33m)\u001b[0m\u001b[1;33m\u001b[0m\u001b[0m\n\u001b[0m\u001b[0;32m   1696\u001b[0m \u001b[1;33m\u001b[0m\u001b[0m\n\u001b[0;32m   1697\u001b[0m         \u001b[1;31m# XXX\u001b[0m\u001b[1;33m\u001b[0m\u001b[1;33m\u001b[0m\u001b[0m\n",
      "\u001b[1;32mpandas/_libs/parsers.pyx\u001b[0m in \u001b[0;36mpandas._libs.parsers.TextReader.__cinit__\u001b[1;34m()\u001b[0m\n",
      "\u001b[1;32mpandas/_libs/parsers.pyx\u001b[0m in \u001b[0;36mpandas._libs.parsers.TextReader._setup_parser_source\u001b[1;34m()\u001b[0m\n",
      "\u001b[1;31mFileNotFoundError\u001b[0m: File b'nyct2010.csv' does not exist"
     ]
    }
   ],
   "source": [
    "ct = pd.read_csv(\"nyct2010.csv\")"
   ]
  },
  {
   "cell_type": "code",
   "execution_count": 47,
   "metadata": {},
   "outputs": [
    {
     "ename": "NameError",
     "evalue": "name 'ct' is not defined",
     "output_type": "error",
     "traceback": [
      "\u001b[1;31m---------------------------------------------------------------------------\u001b[0m",
      "\u001b[1;31mNameError\u001b[0m                                 Traceback (most recent call last)",
      "\u001b[1;32m<ipython-input-47-45b5fc46d82a>\u001b[0m in \u001b[0;36m<module>\u001b[1;34m()\u001b[0m\n\u001b[1;32m----> 1\u001b[1;33m \u001b[0mct\u001b[0m\u001b[1;33m.\u001b[0m\u001b[0mcolumns\u001b[0m\u001b[1;33m\u001b[0m\u001b[0m\n\u001b[0m",
      "\u001b[1;31mNameError\u001b[0m: name 'ct' is not defined"
     ]
    }
   ],
   "source": [
    "ct.columns"
   ]
  },
  {
   "cell_type": "code",
   "execution_count": 48,
   "metadata": {
    "scrolled": true
   },
   "outputs": [
    {
     "ename": "NameError",
     "evalue": "name 'ct' is not defined",
     "output_type": "error",
     "traceback": [
      "\u001b[1;31m---------------------------------------------------------------------------\u001b[0m",
      "\u001b[1;31mNameError\u001b[0m                                 Traceback (most recent call last)",
      "\u001b[1;32m<ipython-input-48-ecad94a26196>\u001b[0m in \u001b[0;36m<module>\u001b[1;34m()\u001b[0m\n\u001b[1;32m----> 1\u001b[1;33m \u001b[0mct\u001b[0m\u001b[1;33m.\u001b[0m\u001b[0mdtypes\u001b[0m\u001b[1;33m\u001b[0m\u001b[0m\n\u001b[0m",
      "\u001b[1;31mNameError\u001b[0m: name 'ct' is not defined"
     ]
    }
   ],
   "source": [
    "ct.dtypes"
   ]
  },
  {
   "cell_type": "code",
   "execution_count": 49,
   "metadata": {},
   "outputs": [
    {
     "data": {
      "text/plain": [
       "Index(['FISCAL_YEAR', 'ATS SYSTEM CODE', 'LOCATION_CODE', 'LOCATION_NAME',\n",
       "       'BEDS NUMBER', 'MANAGED_BY_NAME', 'LOCATION_TYPE_DESCRIPTION',\n",
       "       'LOCATION_CATEGORY_DESCRIPTION', 'GRADES_TEXT', 'GRADES_FINAL_TEXT',\n",
       "       'OPEN_DATE', 'STATUS_DESCRIPTIONS', 'PRIMARY_BUILDING_CODE',\n",
       "       'PRIMARY_ADDRESS_LINE_1', 'STATE_CODE', 'X_COORDINATE', 'Y_COORDINATE',\n",
       "       'COMMUNITY_DISTRICT', 'COUNCIL_DISTRICT', 'CENSUS_TRACT',\n",
       "       'BOROUGH_BLOCK_LOT', 'NTA', 'NTA_NAME', 'PRINCIPAL_NAME',\n",
       "       'PRINCIPAL_TITLE', 'PRINCIPAL_PHONE_NUMBER', 'FAX_NUMBER',\n",
       "       'GEOGRAPHICAL_DISTRICT_CODE', 'ADMIN_DISTRICT_LOCATION_CODE',\n",
       "       'ADMINISTRATIVE_DISTRICT_NAME', 'COMMUNITY_SCHOOL_SUP_NAME',\n",
       "       'FIELD_SUPPORT_CENTER_NAME', 'FIELD_SUPPORT_CENTER_LEADER_NAME',\n",
       "       'SCHOOL_SUPPORT_TEAM_NAME', 'SCHOOL_SUPPORT_TEAM_LEADER_NAME',\n",
       "       'HIGHSCHOOL_NETWORK_LOCATION_CODE', 'HIGHSCHOOL_NETWORK_NAME',\n",
       "       'HIGHSCHOOL_NETWORK_SUPERINTENDENT', 'Location 1', 'DBN', 'School Name',\n",
       "       'Grade', 'Year', 'Category', 'Number Tested', 'Mean Scale Score',\n",
       "       '# Level 1', '% Level 1', '# Level 2', '% Level 2', '# Level 3',\n",
       "       '% Level 3', '# Level 4', '% Level 4', '# Level 3+4', '% Level 3+4',\n",
       "       'mean', 'English Mean Score'],\n",
       "      dtype='object')"
      ]
     },
     "execution_count": 49,
     "metadata": {},
     "output_type": "execute_result"
    }
   ],
   "source": [
    "engall2013.columns"
   ]
  },
  {
   "cell_type": "code",
   "execution_count": 50,
   "metadata": {},
   "outputs": [],
   "source": [
    "#we must create BoroCT2010 in the test score data in order to merge"
   ]
  },
  {
   "cell_type": "code",
   "execution_count": 51,
   "metadata": {},
   "outputs": [
    {
     "name": "stderr",
     "output_type": "stream",
     "text": [
      "C:\\Users\\james\\Anaconda2\\envs\\base python 3.6\\lib\\site-packages\\ipykernel_launcher.py:1: SettingWithCopyWarning: \n",
      "A value is trying to be set on a copy of a slice from a DataFrame.\n",
      "Try using .loc[row_indexer,col_indexer] = value instead\n",
      "\n",
      "See the caveats in the documentation: http://pandas.pydata.org/pandas-docs/stable/indexing.html#indexing-view-versus-copy\n",
      "  \"\"\"Entry point for launching an IPython kernel.\n",
      "C:\\Users\\james\\Anaconda2\\envs\\base python 3.6\\lib\\site-packages\\ipykernel_launcher.py:2: SettingWithCopyWarning: \n",
      "A value is trying to be set on a copy of a slice from a DataFrame.\n",
      "Try using .loc[row_indexer,col_indexer] = value instead\n",
      "\n",
      "See the caveats in the documentation: http://pandas.pydata.org/pandas-docs/stable/indexing.html#indexing-view-versus-copy\n",
      "  \n",
      "C:\\Users\\james\\Anaconda2\\envs\\base python 3.6\\lib\\site-packages\\ipykernel_launcher.py:3: SettingWithCopyWarning: \n",
      "A value is trying to be set on a copy of a slice from a DataFrame.\n",
      "Try using .loc[row_indexer,col_indexer] = value instead\n",
      "\n",
      "See the caveats in the documentation: http://pandas.pydata.org/pandas-docs/stable/indexing.html#indexing-view-versus-copy\n",
      "  This is separate from the ipykernel package so we can avoid doing imports until\n",
      "C:\\Users\\james\\Anaconda2\\envs\\base python 3.6\\lib\\site-packages\\ipykernel_launcher.py:5: SettingWithCopyWarning: \n",
      "A value is trying to be set on a copy of a slice from a DataFrame.\n",
      "Try using .loc[row_indexer,col_indexer] = value instead\n",
      "\n",
      "See the caveats in the documentation: http://pandas.pydata.org/pandas-docs/stable/indexing.html#indexing-view-versus-copy\n",
      "  \"\"\"\n",
      "C:\\Users\\james\\Anaconda2\\envs\\base python 3.6\\lib\\site-packages\\ipykernel_launcher.py:6: SettingWithCopyWarning: \n",
      "A value is trying to be set on a copy of a slice from a DataFrame.\n",
      "Try using .loc[row_indexer,col_indexer] = value instead\n",
      "\n",
      "See the caveats in the documentation: http://pandas.pydata.org/pandas-docs/stable/indexing.html#indexing-view-versus-copy\n",
      "  \n",
      "C:\\Users\\james\\Anaconda2\\envs\\base python 3.6\\lib\\site-packages\\ipykernel_launcher.py:7: SettingWithCopyWarning: \n",
      "A value is trying to be set on a copy of a slice from a DataFrame.\n",
      "Try using .loc[row_indexer,col_indexer] = value instead\n",
      "\n",
      "See the caveats in the documentation: http://pandas.pydata.org/pandas-docs/stable/indexing.html#indexing-view-versus-copy\n",
      "  import sys\n"
     ]
    }
   ],
   "source": [
    "engall2013[\"Borough_Code\"] = engall2013[\"LOCATION_CODE\"].str[0]\n",
    "engall2014[\"Borough_Code\"] = engall2014[\"LOCATION_CODE\"].str[0]\n",
    "engall2015[\"Borough_Code\"] = engall2015[\"LOCATION_CODE\"].str[0]\n",
    "\n",
    "mathall2013[\"Borough_Code\"] = mathall2013[\"LOCATION_CODE\"].str[0]\n",
    "mathall2014[\"Borough_Code\"] = mathall2014[\"LOCATION_CODE\"].str[0]\n",
    "mathall2015[\"Borough_Code\"] = mathall2015[\"LOCATION_CODE\"].str[0]"
   ]
  },
  {
   "cell_type": "code",
   "execution_count": 52,
   "metadata": {
    "scrolled": true
   },
   "outputs": [
    {
     "data": {
      "text/plain": [
       "0        1\n",
       "11       1\n",
       "23       1\n",
       "35       1\n",
       "47       1\n",
       "59       1\n",
       "71       1\n",
       "83       1\n",
       "95       1\n",
       "107      1\n",
       "119      1\n",
       "131      1\n",
       "143      1\n",
       "155      1\n",
       "167      1\n",
       "179      1\n",
       "189      1\n",
       "201      1\n",
       "213      1\n",
       "225      1\n",
       "236      1\n",
       "248      1\n",
       "260      1\n",
       "272      1\n",
       "283      1\n",
       "295      1\n",
       "306      1\n",
       "318      1\n",
       "330      1\n",
       "342      1\n",
       "        ..\n",
       "12785    5\n",
       "12797    5\n",
       "12809    5\n",
       "12821    5\n",
       "12833    5\n",
       "12845    5\n",
       "12857    5\n",
       "12869    5\n",
       "12881    5\n",
       "12893    5\n",
       "12905    3\n",
       "12917    3\n",
       "12929    3\n",
       "12941    3\n",
       "12953    3\n",
       "12964    3\n",
       "12976    3\n",
       "12988    3\n",
       "12999    3\n",
       "13011    3\n",
       "13023    3\n",
       "13035    3\n",
       "13046    3\n",
       "13058    3\n",
       "13069    3\n",
       "13080    3\n",
       "13092    3\n",
       "13104    3\n",
       "13116    3\n",
       "13127    3\n",
       "Name: Borough_Code, Length: 1125, dtype: object"
      ]
     },
     "execution_count": 52,
     "metadata": {},
     "output_type": "execute_result"
    }
   ],
   "source": [
    "def b_num(letter): \n",
    "    if letter == \"K\":\n",
    "        return \"3\"\n",
    "    elif letter == \"X\":\n",
    "        return \"2\"\n",
    "    elif letter == \"Q\":\n",
    "        return \"4\"\n",
    "    elif letter == \"M\":\n",
    "        return \"1\"\n",
    "    elif letter == \"R\":\n",
    "        return \"5\"\n",
    "engall2013[\"Borough_Code\"].apply(b_num)\n",
    "engall2014[\"Borough_Code\"].apply(b_num)\n",
    "engall2015[\"Borough_Code\"].apply(b_num)\n",
    "\n",
    "mathall2013[\"Borough_Code\"].apply(b_num)\n",
    "mathall2014[\"Borough_Code\"].apply(b_num)\n",
    "mathall2015[\"Borough_Code\"].apply(b_num)"
   ]
  },
  {
   "cell_type": "code",
   "execution_count": 53,
   "metadata": {},
   "outputs": [
    {
     "name": "stderr",
     "output_type": "stream",
     "text": [
      "C:\\Users\\james\\Anaconda2\\envs\\base python 3.6\\lib\\site-packages\\ipykernel_launcher.py:2: SettingWithCopyWarning: \n",
      "A value is trying to be set on a copy of a slice from a DataFrame.\n",
      "Try using .loc[row_indexer,col_indexer] = value instead\n",
      "\n",
      "See the caveats in the documentation: http://pandas.pydata.org/pandas-docs/stable/indexing.html#indexing-view-versus-copy\n",
      "  \n",
      "C:\\Users\\james\\Anaconda2\\envs\\base python 3.6\\lib\\site-packages\\ipykernel_launcher.py:3: SettingWithCopyWarning: \n",
      "A value is trying to be set on a copy of a slice from a DataFrame.\n",
      "Try using .loc[row_indexer,col_indexer] = value instead\n",
      "\n",
      "See the caveats in the documentation: http://pandas.pydata.org/pandas-docs/stable/indexing.html#indexing-view-versus-copy\n",
      "  This is separate from the ipykernel package so we can avoid doing imports until\n",
      "C:\\Users\\james\\Anaconda2\\envs\\base python 3.6\\lib\\site-packages\\ipykernel_launcher.py:4: SettingWithCopyWarning: \n",
      "A value is trying to be set on a copy of a slice from a DataFrame.\n",
      "Try using .loc[row_indexer,col_indexer] = value instead\n",
      "\n",
      "See the caveats in the documentation: http://pandas.pydata.org/pandas-docs/stable/indexing.html#indexing-view-versus-copy\n",
      "  after removing the cwd from sys.path.\n",
      "C:\\Users\\james\\Anaconda2\\envs\\base python 3.6\\lib\\site-packages\\ipykernel_launcher.py:6: SettingWithCopyWarning: \n",
      "A value is trying to be set on a copy of a slice from a DataFrame.\n",
      "Try using .loc[row_indexer,col_indexer] = value instead\n",
      "\n",
      "See the caveats in the documentation: http://pandas.pydata.org/pandas-docs/stable/indexing.html#indexing-view-versus-copy\n",
      "  \n",
      "C:\\Users\\james\\Anaconda2\\envs\\base python 3.6\\lib\\site-packages\\ipykernel_launcher.py:7: SettingWithCopyWarning: \n",
      "A value is trying to be set on a copy of a slice from a DataFrame.\n",
      "Try using .loc[row_indexer,col_indexer] = value instead\n",
      "\n",
      "See the caveats in the documentation: http://pandas.pydata.org/pandas-docs/stable/indexing.html#indexing-view-versus-copy\n",
      "  import sys\n",
      "C:\\Users\\james\\Anaconda2\\envs\\base python 3.6\\lib\\site-packages\\ipykernel_launcher.py:8: SettingWithCopyWarning: \n",
      "A value is trying to be set on a copy of a slice from a DataFrame.\n",
      "Try using .loc[row_indexer,col_indexer] = value instead\n",
      "\n",
      "See the caveats in the documentation: http://pandas.pydata.org/pandas-docs/stable/indexing.html#indexing-view-versus-copy\n",
      "  \n"
     ]
    }
   ],
   "source": [
    "#convert borough codes to borough numbers\n",
    "engall2013[\"Borough_Num\"] = engall2013[\"Borough_Code\"].apply(b_num)\n",
    "engall2014[\"Borough_Num\"] = engall2014[\"Borough_Code\"].apply(b_num)\n",
    "engall2015[\"Borough_Num\"] = engall2015[\"Borough_Code\"].apply(b_num)\n",
    "\n",
    "mathall2013[\"Borough_Num\"] = mathall2013[\"Borough_Code\"].apply(b_num)\n",
    "mathall2014[\"Borough_Num\"] = mathall2014[\"Borough_Code\"].apply(b_num)\n",
    "mathall2015[\"Borough_Num\"] = mathall2015[\"Borough_Code\"].apply(b_num)"
   ]
  },
  {
   "cell_type": "code",
   "execution_count": 54,
   "metadata": {},
   "outputs": [
    {
     "name": "stderr",
     "output_type": "stream",
     "text": [
      "C:\\Users\\james\\Anaconda2\\envs\\base python 3.6\\lib\\site-packages\\ipykernel_launcher.py:1: SettingWithCopyWarning: \n",
      "A value is trying to be set on a copy of a slice from a DataFrame.\n",
      "Try using .loc[row_indexer,col_indexer] = value instead\n",
      "\n",
      "See the caveats in the documentation: http://pandas.pydata.org/pandas-docs/stable/indexing.html#indexing-view-versus-copy\n",
      "  \"\"\"Entry point for launching an IPython kernel.\n",
      "C:\\Users\\james\\Anaconda2\\envs\\base python 3.6\\lib\\site-packages\\ipykernel_launcher.py:2: SettingWithCopyWarning: \n",
      "A value is trying to be set on a copy of a slice from a DataFrame.\n",
      "Try using .loc[row_indexer,col_indexer] = value instead\n",
      "\n",
      "See the caveats in the documentation: http://pandas.pydata.org/pandas-docs/stable/indexing.html#indexing-view-versus-copy\n",
      "  \n",
      "C:\\Users\\james\\Anaconda2\\envs\\base python 3.6\\lib\\site-packages\\ipykernel_launcher.py:3: SettingWithCopyWarning: \n",
      "A value is trying to be set on a copy of a slice from a DataFrame.\n",
      "Try using .loc[row_indexer,col_indexer] = value instead\n",
      "\n",
      "See the caveats in the documentation: http://pandas.pydata.org/pandas-docs/stable/indexing.html#indexing-view-versus-copy\n",
      "  This is separate from the ipykernel package so we can avoid doing imports until\n",
      "C:\\Users\\james\\Anaconda2\\envs\\base python 3.6\\lib\\site-packages\\ipykernel_launcher.py:5: SettingWithCopyWarning: \n",
      "A value is trying to be set on a copy of a slice from a DataFrame.\n",
      "Try using .loc[row_indexer,col_indexer] = value instead\n",
      "\n",
      "See the caveats in the documentation: http://pandas.pydata.org/pandas-docs/stable/indexing.html#indexing-view-versus-copy\n",
      "  \"\"\"\n",
      "C:\\Users\\james\\Anaconda2\\envs\\base python 3.6\\lib\\site-packages\\ipykernel_launcher.py:6: SettingWithCopyWarning: \n",
      "A value is trying to be set on a copy of a slice from a DataFrame.\n",
      "Try using .loc[row_indexer,col_indexer] = value instead\n",
      "\n",
      "See the caveats in the documentation: http://pandas.pydata.org/pandas-docs/stable/indexing.html#indexing-view-versus-copy\n",
      "  \n",
      "C:\\Users\\james\\Anaconda2\\envs\\base python 3.6\\lib\\site-packages\\ipykernel_launcher.py:7: SettingWithCopyWarning: \n",
      "A value is trying to be set on a copy of a slice from a DataFrame.\n",
      "Try using .loc[row_indexer,col_indexer] = value instead\n",
      "\n",
      "See the caveats in the documentation: http://pandas.pydata.org/pandas-docs/stable/indexing.html#indexing-view-versus-copy\n",
      "  import sys\n"
     ]
    }
   ],
   "source": [
    "engall2013[\"CENSUS_TRACT\"] = engall2013['CENSUS_TRACT'].apply(lambda x: '{0:0>6}'.format(x)).astype(str)\n",
    "engall2014[\"CENSUS_TRACT\"] = engall2014['CENSUS_TRACT'].apply(lambda x: '{0:0>6}'.format(x)).astype(str)\n",
    "engall2015[\"CENSUS_TRACT\"] = engall2015['CENSUS_TRACT'].apply(lambda x: '{0:0>6}'.format(x)).astype(str)\n",
    "\n",
    "mathall2013[\"CENSUS_TRACT\"] = mathall2013['CENSUS_TRACT'].apply(lambda x: '{0:0>6}'.format(x)).astype(str)\n",
    "mathall2014[\"CENSUS_TRACT\"] = mathall2014['CENSUS_TRACT'].apply(lambda x: '{0:0>6}'.format(x)).astype(str)\n",
    "mathall2015[\"CENSUS_TRACT\"] = mathall2015['CENSUS_TRACT'].apply(lambda x: '{0:0>6}'.format(x)).astype(str)\n"
   ]
  },
  {
   "cell_type": "code",
   "execution_count": 55,
   "metadata": {},
   "outputs": [
    {
     "name": "stderr",
     "output_type": "stream",
     "text": [
      "C:\\Users\\james\\Anaconda2\\envs\\base python 3.6\\lib\\site-packages\\ipykernel_launcher.py:2: SettingWithCopyWarning: \n",
      "A value is trying to be set on a copy of a slice from a DataFrame.\n",
      "Try using .loc[row_indexer,col_indexer] = value instead\n",
      "\n",
      "See the caveats in the documentation: http://pandas.pydata.org/pandas-docs/stable/indexing.html#indexing-view-versus-copy\n",
      "  \n",
      "C:\\Users\\james\\Anaconda2\\envs\\base python 3.6\\lib\\site-packages\\ipykernel_launcher.py:3: SettingWithCopyWarning: \n",
      "A value is trying to be set on a copy of a slice from a DataFrame.\n",
      "Try using .loc[row_indexer,col_indexer] = value instead\n",
      "\n",
      "See the caveats in the documentation: http://pandas.pydata.org/pandas-docs/stable/indexing.html#indexing-view-versus-copy\n",
      "  This is separate from the ipykernel package so we can avoid doing imports until\n",
      "C:\\Users\\james\\Anaconda2\\envs\\base python 3.6\\lib\\site-packages\\ipykernel_launcher.py:4: SettingWithCopyWarning: \n",
      "A value is trying to be set on a copy of a slice from a DataFrame.\n",
      "Try using .loc[row_indexer,col_indexer] = value instead\n",
      "\n",
      "See the caveats in the documentation: http://pandas.pydata.org/pandas-docs/stable/indexing.html#indexing-view-versus-copy\n",
      "  after removing the cwd from sys.path.\n",
      "C:\\Users\\james\\Anaconda2\\envs\\base python 3.6\\lib\\site-packages\\ipykernel_launcher.py:6: SettingWithCopyWarning: \n",
      "A value is trying to be set on a copy of a slice from a DataFrame.\n",
      "Try using .loc[row_indexer,col_indexer] = value instead\n",
      "\n",
      "See the caveats in the documentation: http://pandas.pydata.org/pandas-docs/stable/indexing.html#indexing-view-versus-copy\n",
      "  \n",
      "C:\\Users\\james\\Anaconda2\\envs\\base python 3.6\\lib\\site-packages\\ipykernel_launcher.py:7: SettingWithCopyWarning: \n",
      "A value is trying to be set on a copy of a slice from a DataFrame.\n",
      "Try using .loc[row_indexer,col_indexer] = value instead\n",
      "\n",
      "See the caveats in the documentation: http://pandas.pydata.org/pandas-docs/stable/indexing.html#indexing-view-versus-copy\n",
      "  import sys\n",
      "C:\\Users\\james\\Anaconda2\\envs\\base python 3.6\\lib\\site-packages\\ipykernel_launcher.py:8: SettingWithCopyWarning: \n",
      "A value is trying to be set on a copy of a slice from a DataFrame.\n",
      "Try using .loc[row_indexer,col_indexer] = value instead\n",
      "\n",
      "See the caveats in the documentation: http://pandas.pydata.org/pandas-docs/stable/indexing.html#indexing-view-versus-copy\n",
      "  \n"
     ]
    }
   ],
   "source": [
    "#create BoroCT2010\n",
    "engall2013[\"BoroCT2010\"] = engall2013[\"Borough_Num\"] + engall2013[\"CENSUS_TRACT\"]\n",
    "engall2014[\"BoroCT2010\"] = engall2014[\"Borough_Num\"] + engall2014[\"CENSUS_TRACT\"]\n",
    "engall2015[\"BoroCT2010\"] = engall2015[\"Borough_Num\"] + engall2015[\"CENSUS_TRACT\"]\n",
    "\n",
    "mathall2013[\"BoroCT2010\"] = mathall2013[\"Borough_Num\"] + mathall2013[\"CENSUS_TRACT\"]\n",
    "mathall2014[\"BoroCT2010\"] = mathall2014[\"Borough_Num\"] + mathall2014[\"CENSUS_TRACT\"]\n",
    "mathall2015[\"BoroCT2010\"] = mathall2015[\"Borough_Num\"] + mathall2015[\"CENSUS_TRACT\"]"
   ]
  },
  {
   "cell_type": "code",
   "execution_count": 56,
   "metadata": {},
   "outputs": [
    {
     "name": "stderr",
     "output_type": "stream",
     "text": [
      "C:\\Users\\james\\Anaconda2\\envs\\base python 3.6\\lib\\site-packages\\ipykernel_launcher.py:2: SettingWithCopyWarning: \n",
      "A value is trying to be set on a copy of a slice from a DataFrame.\n",
      "Try using .loc[row_indexer,col_indexer] = value instead\n",
      "\n",
      "See the caveats in the documentation: http://pandas.pydata.org/pandas-docs/stable/indexing.html#indexing-view-versus-copy\n",
      "  \n",
      "C:\\Users\\james\\Anaconda2\\envs\\base python 3.6\\lib\\site-packages\\ipykernel_launcher.py:3: SettingWithCopyWarning: \n",
      "A value is trying to be set on a copy of a slice from a DataFrame.\n",
      "Try using .loc[row_indexer,col_indexer] = value instead\n",
      "\n",
      "See the caveats in the documentation: http://pandas.pydata.org/pandas-docs/stable/indexing.html#indexing-view-versus-copy\n",
      "  This is separate from the ipykernel package so we can avoid doing imports until\n",
      "C:\\Users\\james\\Anaconda2\\envs\\base python 3.6\\lib\\site-packages\\ipykernel_launcher.py:4: SettingWithCopyWarning: \n",
      "A value is trying to be set on a copy of a slice from a DataFrame.\n",
      "Try using .loc[row_indexer,col_indexer] = value instead\n",
      "\n",
      "See the caveats in the documentation: http://pandas.pydata.org/pandas-docs/stable/indexing.html#indexing-view-versus-copy\n",
      "  after removing the cwd from sys.path.\n",
      "C:\\Users\\james\\Anaconda2\\envs\\base python 3.6\\lib\\site-packages\\ipykernel_launcher.py:6: SettingWithCopyWarning: \n",
      "A value is trying to be set on a copy of a slice from a DataFrame.\n",
      "Try using .loc[row_indexer,col_indexer] = value instead\n",
      "\n",
      "See the caveats in the documentation: http://pandas.pydata.org/pandas-docs/stable/indexing.html#indexing-view-versus-copy\n",
      "  \n",
      "C:\\Users\\james\\Anaconda2\\envs\\base python 3.6\\lib\\site-packages\\ipykernel_launcher.py:7: SettingWithCopyWarning: \n",
      "A value is trying to be set on a copy of a slice from a DataFrame.\n",
      "Try using .loc[row_indexer,col_indexer] = value instead\n",
      "\n",
      "See the caveats in the documentation: http://pandas.pydata.org/pandas-docs/stable/indexing.html#indexing-view-versus-copy\n",
      "  import sys\n",
      "C:\\Users\\james\\Anaconda2\\envs\\base python 3.6\\lib\\site-packages\\ipykernel_launcher.py:8: SettingWithCopyWarning: \n",
      "A value is trying to be set on a copy of a slice from a DataFrame.\n",
      "Try using .loc[row_indexer,col_indexer] = value instead\n",
      "\n",
      "See the caveats in the documentation: http://pandas.pydata.org/pandas-docs/stable/indexing.html#indexing-view-versus-copy\n",
      "  \n"
     ]
    }
   ],
   "source": [
    "#convert to int\n",
    "engall2013[\"BoroCT2010\"] = engall2013[\"BoroCT2010\"].astype(int)\n",
    "engall2014[\"BoroCT2010\"] = engall2014[\"BoroCT2010\"].astype(int)\n",
    "engall2015[\"BoroCT2010\"] = engall2015[\"BoroCT2010\"].astype(int)\n",
    "\n",
    "mathall2013[\"BoroCT2010\"] = mathall2013[\"BoroCT2010\"].astype(int)\n",
    "mathall2014[\"BoroCT2010\"] = mathall2014[\"BoroCT2010\"].astype(int)\n",
    "mathall2015[\"BoroCT2010\"] = mathall2015[\"BoroCT2010\"].astype(int)"
   ]
  },
  {
   "cell_type": "code",
   "execution_count": 57,
   "metadata": {},
   "outputs": [
    {
     "ename": "NameError",
     "evalue": "name 'ct' is not defined",
     "output_type": "error",
     "traceback": [
      "\u001b[1;31m---------------------------------------------------------------------------\u001b[0m",
      "\u001b[1;31mNameError\u001b[0m                                 Traceback (most recent call last)",
      "\u001b[1;32m<ipython-input-57-915f6e811288>\u001b[0m in \u001b[0;36m<module>\u001b[1;34m()\u001b[0m\n\u001b[0;32m      1\u001b[0m \u001b[1;31m#now merge with census tract data\u001b[0m\u001b[1;33m\u001b[0m\u001b[1;33m\u001b[0m\u001b[0m\n\u001b[1;32m----> 2\u001b[1;33m \u001b[0mengall2013\u001b[0m \u001b[1;33m=\u001b[0m \u001b[0mpd\u001b[0m\u001b[1;33m.\u001b[0m\u001b[0mmerge\u001b[0m\u001b[1;33m(\u001b[0m\u001b[0mct\u001b[0m\u001b[1;33m,\u001b[0m \u001b[0mengall2013\u001b[0m\u001b[1;33m,\u001b[0m \u001b[0mon\u001b[0m\u001b[1;33m=\u001b[0m\u001b[1;34m\"BoroCT2010\"\u001b[0m\u001b[1;33m,\u001b[0m \u001b[0mhow\u001b[0m \u001b[1;33m=\u001b[0m \u001b[1;34m\"inner\"\u001b[0m\u001b[1;33m)\u001b[0m\u001b[1;33m\u001b[0m\u001b[0m\n\u001b[0m\u001b[0;32m      3\u001b[0m \u001b[0mengall2014\u001b[0m \u001b[1;33m=\u001b[0m \u001b[0mpd\u001b[0m\u001b[1;33m.\u001b[0m\u001b[0mmerge\u001b[0m\u001b[1;33m(\u001b[0m\u001b[0mct\u001b[0m\u001b[1;33m,\u001b[0m \u001b[0mengall2014\u001b[0m\u001b[1;33m,\u001b[0m \u001b[0mon\u001b[0m\u001b[1;33m=\u001b[0m\u001b[1;34m\"BoroCT2010\"\u001b[0m\u001b[1;33m,\u001b[0m \u001b[0mhow\u001b[0m \u001b[1;33m=\u001b[0m \u001b[1;34m\"inner\"\u001b[0m\u001b[1;33m)\u001b[0m\u001b[1;33m\u001b[0m\u001b[0m\n\u001b[0;32m      4\u001b[0m \u001b[0mengall2015\u001b[0m \u001b[1;33m=\u001b[0m \u001b[0mpd\u001b[0m\u001b[1;33m.\u001b[0m\u001b[0mmerge\u001b[0m\u001b[1;33m(\u001b[0m\u001b[0mct\u001b[0m\u001b[1;33m,\u001b[0m \u001b[0mengall2015\u001b[0m\u001b[1;33m,\u001b[0m \u001b[0mon\u001b[0m\u001b[1;33m=\u001b[0m\u001b[1;34m\"BoroCT2010\"\u001b[0m\u001b[1;33m,\u001b[0m \u001b[0mhow\u001b[0m \u001b[1;33m=\u001b[0m \u001b[1;34m\"inner\"\u001b[0m\u001b[1;33m)\u001b[0m\u001b[1;33m\u001b[0m\u001b[0m\n\u001b[0;32m      5\u001b[0m \u001b[1;33m\u001b[0m\u001b[0m\n",
      "\u001b[1;31mNameError\u001b[0m: name 'ct' is not defined"
     ]
    }
   ],
   "source": [
    "#now merge with census tract data\n",
    "engall2013 = pd.merge(ct, engall2013, on=\"BoroCT2010\", how = \"inner\")\n",
    "engall2014 = pd.merge(ct, engall2014, on=\"BoroCT2010\", how = \"inner\")\n",
    "engall2015 = pd.merge(ct, engall2015, on=\"BoroCT2010\", how = \"inner\")\n",
    "\n",
    "mathall2013 = pd.merge(ct, mathall2013, on=\"BoroCT2010\", how = \"inner\")\n",
    "mathall2014 = pd.merge(ct, mathall2014, on=\"BoroCT2010\", how = \"inner\")\n",
    "mathall2015 = pd.merge(ct, mathall2015, on=\"BoroCT2010\", how = \"inner\")"
   ]
  },
  {
   "cell_type": "code",
   "execution_count": null,
   "metadata": {},
   "outputs": [],
   "source": [
    "print(engall2013.shape)\n",
    "print(engall2014.shape)\n",
    "print(engall2015.shape)\n",
    "\n",
    "print(mathall2013.shape)\n",
    "print(mathall2014.shape)\n",
    "print(mathall2015.shape)"
   ]
  },
  {
   "cell_type": "code",
   "execution_count": null,
   "metadata": {},
   "outputs": [],
   "source": [
    "#rename mean score column in each df\n",
    "engall2013.rename(columns={\"Mean Scale Score\":\"Eng2013_Mean\"}, inplace=True)\n",
    "engall2014.rename(columns={\"Mean Scale Score\":\"Eng2014_Mean\"}, inplace=True)\n",
    "engall2015.rename(columns={\"Mean Scale Score\":\"Eng2015_Mean\"}, inplace=True)\n",
    "\n",
    "mathall2013.rename(columns={\"Mean Scale Score\":\"Math2013_Mean\"}, inplace=True)\n",
    "mathall2014.rename(columns={\"Mean Scale Score\":\"Math2014_Mean\"}, inplace=True)\n",
    "mathall2015.rename(columns={\"Mean Scale Score\":\"Math2015_Mean\"}, inplace=True)"
   ]
  },
  {
   "cell_type": "code",
   "execution_count": null,
   "metadata": {},
   "outputs": [],
   "source": [
    "#now combine enligsh and math scores in each year\n",
    "scores2013 = pd.merge(engall2013,mathall2013[['ATS SYSTEM CODE','Math2013_Mean']],on='ATS SYSTEM CODE', how='left')\n",
    "scores2014 = pd.merge(engall2014,mathall2014[['ATS SYSTEM CODE','Math2014_Mean']],on='ATS SYSTEM CODE', how='left')\n",
    "scores2015 = pd.merge(engall2015,mathall2015[['ATS SYSTEM CODE','Math2015_Mean']],on='ATS SYSTEM CODE', how='left')"
   ]
  },
  {
   "cell_type": "code",
   "execution_count": null,
   "metadata": {},
   "outputs": [],
   "source": [
    "scores2013.head()"
   ]
  },
  {
   "cell_type": "code",
   "execution_count": null,
   "metadata": {},
   "outputs": [],
   "source": [
    "#shorten dataframes to include only columns we need\n",
    "scores2013_short = scores2013[[\"the_geom\", \"BoroCode\", \"BoroCT2010\", \"LOCATION_NAME\", \"LOCATION_TYPE_DESCRIPTION\",\n",
    "                              \"LOCATION_CATEGORY_DESCRIPTION\", \"X_COORDINATE\", \"Y_COORDINATE\", \"BOROUGH_BLOCK_LOT\",\n",
    "                              \"DBN\", \"Number Tested\", \"Eng2013_Mean\", \"Math2013_Mean\"]]\n",
    "\n",
    "scores2014_short = scores2014[[\"the_geom\", \"BoroCode\", \"BoroCT2010\", \"LOCATION_NAME\", \"LOCATION_TYPE_DESCRIPTION\",\n",
    "                              \"LOCATION_CATEGORY_DESCRIPTION\", \"X_COORDINATE\", \"Y_COORDINATE\", \"BOROUGH_BLOCK_LOT\",\n",
    "                              \"DBN\", \"Number Tested\", \"Eng2014_Mean\", \"Math2014_Mean\"]]\n",
    "\n",
    "scores2015_short = scores2015[[\"the_geom\", \"BoroCode\", \"BoroCT2010\", \"LOCATION_NAME\", \"LOCATION_TYPE_DESCRIPTION\",\n",
    "                              \"LOCATION_CATEGORY_DESCRIPTION\", \"X_COORDINATE\", \"Y_COORDINATE\", \"BOROUGH_BLOCK_LOT\",\n",
    "                              \"DBN\", \"Number Tested\", \"Eng2015_Mean\", \"Math2015_Mean\"]]"
   ]
  },
  {
   "cell_type": "code",
   "execution_count": null,
   "metadata": {},
   "outputs": [],
   "source": [
    "print('the size of the 2013 tests data is', scores2013_short.shape)\n",
    "print('the size of the 2014 tests data is', scores2014_short.shape)\n",
    "print('the size of the 2015 tests data is', scores2015_short.shape)"
   ]
  },
  {
   "cell_type": "code",
   "execution_count": null,
   "metadata": {},
   "outputs": [],
   "source": [
    "#in order to make graphs for analysis, we must re-merge with census data as a geo dataframe\n",
    "ct = gp.GeoDataFrame.from_file(\"geo_export_7998d303-f449-4e75-9668-01d8bd50056f.shp\")\n",
    "ct.head()"
   ]
  },
  {
   "cell_type": "code",
   "execution_count": null,
   "metadata": {},
   "outputs": [],
   "source": [
    "ct[\"boro_ct201\"] = ct[\"boro_ct201\"].astype(str)\n",
    "scores2015_short[\"BoroCT2010\"] = scores2015_short[\"BoroCT2010\"].astype(str)\n",
    "scores2013_short[\"BoroCT2010\"] = scores2015_short[\"BoroCT2010\"].astype(str)\n",
    "scores2014_short[\"BoroCT2010\"] = scores2015_short[\"BoroCT2010\"].astype(str)"
   ]
  },
  {
   "cell_type": "code",
   "execution_count": null,
   "metadata": {},
   "outputs": [],
   "source": [
    "graphs2013 = pd.merge(scores2013_short, ct, left_on=\"BoroCT2010\", right_on=\"boro_ct201\")\n",
    "graphs2014 = pd.merge(scores2014_short, ct, left_on=\"BoroCT2010\", right_on=\"boro_ct201\")\n",
    "graphs2015 = pd.merge(scores2015_short, ct, left_on=\"BoroCT2010\", right_on=\"boro_ct201\")"
   ]
  },
  {
   "cell_type": "code",
   "execution_count": null,
   "metadata": {},
   "outputs": [],
   "source": [
    "print(graphs2013.shape)\n",
    "print(graphs2014.shape)\n",
    "print(graphs2015.shape)"
   ]
  },
  {
   "cell_type": "code",
   "execution_count": null,
   "metadata": {},
   "outputs": [],
   "source": [
    "graphs2013.head()"
   ]
  },
  {
   "cell_type": "code",
   "execution_count": null,
   "metadata": {},
   "outputs": [],
   "source": [
    "geoscores2013_short = gp.GeoDataFrame(graphs2013)\n",
    "geoscores2014_short = gp.GeoDataFrame(graphs2014)\n",
    "geoscores2015_short = gp.GeoDataFrame(graphs2015)"
   ]
  },
  {
   "cell_type": "code",
   "execution_count": null,
   "metadata": {},
   "outputs": [],
   "source": [
    "#graphing 2013 mean English scores by census tract\n",
    "cp.choroplethNYC(geoscores2013_short, column=\"Eng2013_Mean\", color=\"k\",cmap=\"viridis\", edgecolor=\"k\", lw=0.5);"
   ]
  },
  {
   "cell_type": "code",
   "execution_count": null,
   "metadata": {},
   "outputs": [],
   "source": [
    "#graphing 2013 mean math scores by census tract\n",
    "cp.choroplethNYC(geoscores2015_short, column=\"Math2015_Mean\", color=\"k\",cmap=\"viridis\", edgecolor=\"k\", lw=0.5);"
   ]
  },
  {
   "cell_type": "code",
   "execution_count": null,
   "metadata": {},
   "outputs": [],
   "source": [
    "#now we can merge test scores by census tract with noise complaints by census tract\n",
    "#load in noise complaint data\n",
    "noise13 = pd.read_csv(\"noisebyct2013.csv\")\n",
    "noise14 = pd.read_csv(\"noisebyct2014.csv\")\n",
    "noise15 = pd.read_csv(\"noisebyct2015.csv\")"
   ]
  },
  {
   "cell_type": "code",
   "execution_count": null,
   "metadata": {},
   "outputs": [],
   "source": [
    "print(noise13.shape)\n",
    "print(noise14.shape)\n",
    "print(noise15.shape)"
   ]
  },
  {
   "cell_type": "code",
   "execution_count": null,
   "metadata": {},
   "outputs": [],
   "source": [
    "#shorten noise complaints data to only contain census tract, number of complaints, and complaint density\n",
    "noise13 = noise13[[\"boro_ct201\", \"count_vals\", \"count_vals_density\"]]\n",
    "noise14 = noise14[[\"boro_ct201\", \"count_vals\", \"count_vals_density\"]]\n",
    "noise15 = noise15[[\"boro_ct201\", \"count_vals\", \"count_vals_density\"]]"
   ]
  },
  {
   "cell_type": "code",
   "execution_count": null,
   "metadata": {},
   "outputs": [],
   "source": [
    "print(noise13.shape)\n",
    "print(noise14.shape)\n",
    "print(noise15.shape)"
   ]
  },
  {
   "cell_type": "code",
   "execution_count": null,
   "metadata": {},
   "outputs": [],
   "source": [
    "#convert census tracts to string\n",
    "noise13[\"boro_ct201\"] = noise13[\"boro_ct201\"].astype(str)\n",
    "noise14[\"boro_ct201\"] = noise14[\"boro_ct201\"].astype(str)\n",
    "noise15[\"boro_ct201\"] = noise15[\"boro_ct201\"].astype(str)"
   ]
  },
  {
   "cell_type": "code",
   "execution_count": null,
   "metadata": {},
   "outputs": [],
   "source": [
    "scores2013_final = pd.merge(noise13, geoscores2013_short, left_on=\"boro_ct201\", right_on=\"BoroCT2010\")\n",
    "scores2014_final = pd.merge(noise14, geoscores2014_short, left_on=\"boro_ct201\", right_on=\"BoroCT2010\")\n",
    "scores2015_final = pd.merge(noise15, geoscores2015_short, left_on=\"boro_ct201\", right_on=\"BoroCT2010\")"
   ]
  },
  {
   "cell_type": "code",
   "execution_count": null,
   "metadata": {},
   "outputs": [],
   "source": [
    "scores2013_final.head()"
   ]
  },
  {
   "cell_type": "code",
   "execution_count": null,
   "metadata": {},
   "outputs": [],
   "source": [
    "#convert to geo dataframe for mapping \n",
    "geoscores2015_final = gp.GeoDataFrame(scores2015_final)\n",
    "geoscores2013_final = gp.GeoDataFrame(scores2013_final)\n",
    "geoscores2014_final = gp.GeoDataFrame(scores2014_final)"
   ]
  },
  {
   "cell_type": "code",
   "execution_count": null,
   "metadata": {},
   "outputs": [],
   "source": [
    "#convert all test scores to int\n",
    "geoscores2013_final[\"Eng2013_Mean\"] = geoscores2013_final[\"Eng2013_Mean\"].astype(int)\n",
    "geoscores2014_final[\"Eng2014_Mean\"] = geoscores2014_final[\"Eng2014_Mean\"].astype(int)\n",
    "geoscores2015_final[\"Eng2015_Mean\"] = geoscores2015_final[\"Eng2015_Mean\"].astype(int)\n",
    "\n",
    "geoscores2013_final[\"Math2013_Mean\"] = geoscores2013_final[\"Math2013_Mean\"].astype(int)\n",
    "geoscores2014_final[\"Math2014_Mean\"] = geoscores2014_final[\"Math2014_Mean\"].astype(int)\n",
    "geoscores2015_final[\"Math2015_Mean\"] = geoscores2015_final[\"Math2015_Mean\"].astype(int)"
   ]
  },
  {
   "cell_type": "code",
   "execution_count": null,
   "metadata": {},
   "outputs": [],
   "source": [
    "#now create graphs to examine the effect noise complaints on test scores\n",
    "import matplotlib.pyplot as plt"
   ]
  },
  {
   "cell_type": "code",
   "execution_count": null,
   "metadata": {},
   "outputs": [],
   "source": [
    "math2013_trend = sn.jointplot(\"count_vals_density\", \"Math2013_Mean\", data =geoscores2013_final, kind=\"reg\",\n",
    "                  joint_kws={\"line_kws\":{\"color\":\"red\"}}).set_axis_labels('Density of Noise Complaints', 'Mean Test Score', fontsize=16)\n",
    "plt.subplots_adjust(top=0.9)\n",
    "math2013_trend.fig.suptitle('Effect of Noise Complaints of 2013 Math Scores', fontsize=20)"
   ]
  },
  {
   "cell_type": "code",
   "execution_count": null,
   "metadata": {},
   "outputs": [],
   "source": [
    "eng2013_trend = sn.jointplot(\"count_vals_density\", \"Eng2013_Mean\", data =geoscores2013_final, kind=\"reg\",\n",
    "                  joint_kws={\"line_kws\":{\"color\":\"red\"}}).set_axis_labels('Density of Noise Complaints', 'Mean Test Score', fontsize=16)\n",
    "plt.subplots_adjust(top=0.9)\n",
    "eng2013_trend.fig.suptitle('Effect of Noise Complaints of 2013 English Scores', fontsize=20)"
   ]
  },
  {
   "cell_type": "code",
   "execution_count": null,
   "metadata": {},
   "outputs": [],
   "source": [
    "math2014_trend = sn.jointplot(\"count_vals_density\", \"Math2014_Mean\", data =geoscores2014_final, kind=\"reg\",\n",
    "                  joint_kws={\"line_kws\":{\"color\":\"red\"}}).set_axis_labels('Density of Noise Complaints', 'Mean Test Score', fontsize=16)\n",
    "plt.subplots_adjust(top=0.9)\n",
    "math2014_trend.fig.suptitle('Effect of Noise Complaints of 2014 Math Scores', fontsize=20)"
   ]
  },
  {
   "cell_type": "code",
   "execution_count": null,
   "metadata": {},
   "outputs": [],
   "source": [
    "eng2014_trend = sn.jointplot(\"count_vals_density\", \"Eng2014_Mean\", data =geoscores2014_final, kind=\"reg\",\n",
    "                  joint_kws={\"line_kws\":{\"color\":\"red\"}}).set_axis_labels('Density of Noise Complaints', 'Mean Test Score', fontsize=16)\n",
    "plt.subplots_adjust(top=0.9)\n",
    "eng2014_trend.fig.suptitle('Effect of Noise Complaints of 2014 English Scores', fontsize=20)"
   ]
  },
  {
   "cell_type": "code",
   "execution_count": null,
   "metadata": {},
   "outputs": [],
   "source": [
    "math2015_trend = sn.jointplot(\"count_vals_density\", \"Math2015_Mean\", data =geoscores2015_final, kind=\"reg\",\n",
    "                  joint_kws={\"line_kws\":{\"color\":\"red\"}}).set_axis_labels('Density of Noise Complaints', 'Mean Test Score', fontsize=16)\n",
    "plt.subplots_adjust(top=0.9)\n",
    "math2015_trend.fig.suptitle('Effect of Noise Complaints of 2015 Math Scores', fontsize=20)"
   ]
  },
  {
   "cell_type": "code",
   "execution_count": null,
   "metadata": {},
   "outputs": [],
   "source": [
    "eng2015_trend = sn.jointplot(\"count_vals_density\", \"Eng2015_Mean\", data =geoscores2015_final, kind=\"reg\",\n",
    "                  joint_kws={\"line_kws\":{\"color\":\"red\"}}).set_axis_labels('Density of Noise Complaints', 'Mean Test Score', fontsize=16)\n",
    "plt.subplots_adjust(top=0.9)\n",
    "eng2015_trend.fig.suptitle('Effect of Noise Complaints of 2015 English Scores', fontsize=20)"
   ]
  },
  {
   "cell_type": "code",
   "execution_count": null,
   "metadata": {},
   "outputs": [],
   "source": [
    "#save dataframes to csv\n",
    "geoscores2013_final.to_csv(\"scores2013.csv\")\n",
    "geoscores2014_final.to_csv(\"scores2014.csv\")\n",
    "geoscores2015_final.to_csv(\"scores2015.csv\")"
   ]
  },
  {
   "cell_type": "markdown",
   "metadata": {},
   "source": [
    "# SECTION 3. LODES DATA MUNGING "
   ]
  },
  {
   "cell_type": "code",
   "execution_count": 59,
   "metadata": {},
   "outputs": [],
   "source": [
    "#Load data downloaded from LODES (source: https://lehd.ces.census.gov/data/lodes/LODES7/ny/rac/)\n",
    "LODES2013 = pd.read_csv(\"ny_rac_S000_JT00_2013.csv\") #2013 all jobs\n",
    "LODES2014 = pd.read_csv(\"ny_rac_S000_JT00_2014.csv\") #2014 all jobs\n",
    "LODES2015 = pd.read_csv(\"ny_rac_S000_JT00_2015.csv\") #2015 all jobs"
   ]
  },
  {
   "cell_type": "code",
   "execution_count": 60,
   "metadata": {},
   "outputs": [],
   "source": [
    "#Create the Census Tract variable for merging\n",
    "LODES2013['Census Tract'] = LODES2013['h_geocode'].apply(lambda x: str(x)[5:11])\n",
    "LODES2014['Census Tract'] = LODES2014['h_geocode'].apply(lambda x: str(x)[5:11])\n",
    "LODES2015['Census Tract'] = LODES2015['h_geocode'].apply(lambda x: str(x)[5:11])"
   ]
  },
  {
   "cell_type": "code",
   "execution_count": 61,
   "metadata": {},
   "outputs": [],
   "source": [
    "# Create aggregated Income variable for each census tract\n",
    "\n",
    "##2013\n",
    "GroupSum2013 = LODES2013.groupby(['Census Tract']).agg({'C000': sum,\n",
    "                                         'CE01': sum,\n",
    "                                         'CE02': sum,\n",
    "                                         'CE03': sum})\n",
    "GroupSum2013['ct']=GroupSum2013.index\n",
    "GroupSum2013['CE01Percent'] = GroupSum2013['CE01']/GroupSum2013['C000']\n",
    "GroupSum2013['CE02Percent'] = GroupSum2013['CE02']/GroupSum2013['C000']\n",
    "GroupSum2013['CE03Percent'] = GroupSum2013['CE03']/GroupSum2013['C000']\n",
    "GroupSum2013.columns = ['CE01totcounts', 'CE02totcounts','CE03totcounts','C000totcounts','ct','CE01Percent','CE02Percent','CE03Percent']\n",
    "LODES2013merge = pd.merge(GroupSum2013, LODES2013, left_on='ct', right_on='Census Tract')\n",
    "\n",
    "##2014\n",
    "GroupSum2014 = LODES2014.groupby(['Census Tract']).agg({'C000': sum,\n",
    "                                         'CE01': sum,\n",
    "                                         'CE02': sum,\n",
    "                                         'CE03': sum})\n",
    "GroupSum2014['ct']=GroupSum2014.index\n",
    "GroupSum2014['CE01Percent'] = GroupSum2014['CE01']/GroupSum2014['C000']\n",
    "GroupSum2014['CE02Percent'] = GroupSum2014['CE02']/GroupSum2014['C000']\n",
    "GroupSum2014['CE03Percent'] = GroupSum2014['CE03']/GroupSum2014['C000']\n",
    "GroupSum2014.columns = ['CE01totcounts', 'CE02totcounts','CE03totcounts','C000totcounts','ct','CE01Percent','CE02Percent','CE03Percent']\n",
    "LODES2014merge = pd.merge(GroupSum2014, LODES2014, left_on='ct', right_on='Census Tract')\n",
    "\n",
    "##2015\n",
    "GroupSum2015 = LODES2015.groupby(['Census Tract']).agg({'C000': sum,\n",
    "                                         'CE01': sum,\n",
    "                                         'CE02': sum,\n",
    "                                         'CE03': sum})\n",
    "GroupSum2015['ct']=GroupSum2015.index\n",
    "GroupSum2015['CE01Percent'] = GroupSum2015['CE01']/GroupSum2015['C000']\n",
    "GroupSum2015['CE02Percent'] = GroupSum2015['CE02']/GroupSum2015['C000']\n",
    "GroupSum2015['CE03Percent'] = GroupSum2015['CE03']/GroupSum2015['C000']\n",
    "GroupSum2015.columns = ['CE01totcounts', 'CE02totcounts','CE03totcounts','C000totcounts','ct','CE01Percent','CE02Percent','CE03Percent']\n",
    "LODES2015merge = pd.merge(GroupSum2015, LODES2015, left_on='ct', right_on='Census Tract')"
   ]
  },
  {
   "cell_type": "code",
   "execution_count": 62,
   "metadata": {},
   "outputs": [
    {
     "data": {
      "text/html": [
       "<div>\n",
       "<style scoped>\n",
       "    .dataframe tbody tr th:only-of-type {\n",
       "        vertical-align: middle;\n",
       "    }\n",
       "\n",
       "    .dataframe tbody tr th {\n",
       "        vertical-align: top;\n",
       "    }\n",
       "\n",
       "    .dataframe thead th {\n",
       "        text-align: right;\n",
       "    }\n",
       "</style>\n",
       "<table border=\"1\" class=\"dataframe\">\n",
       "  <thead>\n",
       "    <tr style=\"text-align: right;\">\n",
       "      <th></th>\n",
       "      <th>CE01totcounts</th>\n",
       "      <th>CE02totcounts</th>\n",
       "      <th>CE03totcounts</th>\n",
       "      <th>C000totcounts</th>\n",
       "      <th>ct</th>\n",
       "      <th>CE01Percent</th>\n",
       "      <th>CE02Percent</th>\n",
       "      <th>CE03Percent</th>\n",
       "      <th>h_geocode</th>\n",
       "      <th>C000</th>\n",
       "      <th>CA01</th>\n",
       "      <th>CA02</th>\n",
       "      <th>CA03</th>\n",
       "      <th>CE01</th>\n",
       "      <th>CE02</th>\n",
       "      <th>CE03</th>\n",
       "      <th>CNS01</th>\n",
       "      <th>CNS02</th>\n",
       "      <th>CNS03</th>\n",
       "      <th>CNS04</th>\n",
       "      <th>CNS05</th>\n",
       "      <th>CNS06</th>\n",
       "      <th>CNS07</th>\n",
       "      <th>CNS08</th>\n",
       "      <th>CNS09</th>\n",
       "      <th>CNS10</th>\n",
       "      <th>CNS11</th>\n",
       "      <th>CNS12</th>\n",
       "      <th>CNS13</th>\n",
       "      <th>CNS14</th>\n",
       "      <th>CNS15</th>\n",
       "      <th>CNS16</th>\n",
       "      <th>CNS17</th>\n",
       "      <th>CNS18</th>\n",
       "      <th>CNS19</th>\n",
       "      <th>CNS20</th>\n",
       "      <th>CR01</th>\n",
       "      <th>CR02</th>\n",
       "      <th>CR03</th>\n",
       "      <th>CR04</th>\n",
       "      <th>CR05</th>\n",
       "      <th>CR07</th>\n",
       "      <th>CT01</th>\n",
       "      <th>CT02</th>\n",
       "      <th>CD01</th>\n",
       "      <th>CD02</th>\n",
       "      <th>CD03</th>\n",
       "      <th>CD04</th>\n",
       "      <th>CS01</th>\n",
       "      <th>CS02</th>\n",
       "      <th>createdate</th>\n",
       "      <th>Census Tract</th>\n",
       "    </tr>\n",
       "  </thead>\n",
       "  <tbody>\n",
       "    <tr>\n",
       "      <th>0</th>\n",
       "      <td>15290</td>\n",
       "      <td>3319</td>\n",
       "      <td>3926</td>\n",
       "      <td>8045</td>\n",
       "      <td>000100</td>\n",
       "      <td>0.21707</td>\n",
       "      <td>0.256769</td>\n",
       "      <td>0.526161</td>\n",
       "      <td>360010001001008</td>\n",
       "      <td>14</td>\n",
       "      <td>3</td>\n",
       "      <td>8</td>\n",
       "      <td>3</td>\n",
       "      <td>3</td>\n",
       "      <td>9</td>\n",
       "      <td>2</td>\n",
       "      <td>0</td>\n",
       "      <td>0</td>\n",
       "      <td>0</td>\n",
       "      <td>0</td>\n",
       "      <td>2</td>\n",
       "      <td>1</td>\n",
       "      <td>1</td>\n",
       "      <td>0</td>\n",
       "      <td>0</td>\n",
       "      <td>0</td>\n",
       "      <td>0</td>\n",
       "      <td>0</td>\n",
       "      <td>0</td>\n",
       "      <td>0</td>\n",
       "      <td>2</td>\n",
       "      <td>4</td>\n",
       "      <td>0</td>\n",
       "      <td>1</td>\n",
       "      <td>1</td>\n",
       "      <td>2</td>\n",
       "      <td>10</td>\n",
       "      <td>3</td>\n",
       "      <td>1</td>\n",
       "      <td>0</td>\n",
       "      <td>0</td>\n",
       "      <td>0</td>\n",
       "      <td>14</td>\n",
       "      <td>0</td>\n",
       "      <td>1</td>\n",
       "      <td>4</td>\n",
       "      <td>3</td>\n",
       "      <td>3</td>\n",
       "      <td>6</td>\n",
       "      <td>8</td>\n",
       "      <td>20170919</td>\n",
       "      <td>000100</td>\n",
       "    </tr>\n",
       "    <tr>\n",
       "      <th>1</th>\n",
       "      <td>15290</td>\n",
       "      <td>3319</td>\n",
       "      <td>3926</td>\n",
       "      <td>8045</td>\n",
       "      <td>000100</td>\n",
       "      <td>0.21707</td>\n",
       "      <td>0.256769</td>\n",
       "      <td>0.526161</td>\n",
       "      <td>360010001001009</td>\n",
       "      <td>14</td>\n",
       "      <td>3</td>\n",
       "      <td>9</td>\n",
       "      <td>2</td>\n",
       "      <td>6</td>\n",
       "      <td>6</td>\n",
       "      <td>2</td>\n",
       "      <td>0</td>\n",
       "      <td>0</td>\n",
       "      <td>0</td>\n",
       "      <td>0</td>\n",
       "      <td>1</td>\n",
       "      <td>1</td>\n",
       "      <td>2</td>\n",
       "      <td>0</td>\n",
       "      <td>0</td>\n",
       "      <td>1</td>\n",
       "      <td>1</td>\n",
       "      <td>0</td>\n",
       "      <td>0</td>\n",
       "      <td>0</td>\n",
       "      <td>0</td>\n",
       "      <td>4</td>\n",
       "      <td>0</td>\n",
       "      <td>1</td>\n",
       "      <td>1</td>\n",
       "      <td>2</td>\n",
       "      <td>5</td>\n",
       "      <td>7</td>\n",
       "      <td>0</td>\n",
       "      <td>1</td>\n",
       "      <td>0</td>\n",
       "      <td>1</td>\n",
       "      <td>12</td>\n",
       "      <td>2</td>\n",
       "      <td>3</td>\n",
       "      <td>4</td>\n",
       "      <td>3</td>\n",
       "      <td>1</td>\n",
       "      <td>5</td>\n",
       "      <td>9</td>\n",
       "      <td>20170919</td>\n",
       "      <td>000100</td>\n",
       "    </tr>\n",
       "    <tr>\n",
       "      <th>2</th>\n",
       "      <td>15290</td>\n",
       "      <td>3319</td>\n",
       "      <td>3926</td>\n",
       "      <td>8045</td>\n",
       "      <td>000100</td>\n",
       "      <td>0.21707</td>\n",
       "      <td>0.256769</td>\n",
       "      <td>0.526161</td>\n",
       "      <td>360010001001010</td>\n",
       "      <td>16</td>\n",
       "      <td>5</td>\n",
       "      <td>8</td>\n",
       "      <td>3</td>\n",
       "      <td>3</td>\n",
       "      <td>6</td>\n",
       "      <td>7</td>\n",
       "      <td>0</td>\n",
       "      <td>0</td>\n",
       "      <td>0</td>\n",
       "      <td>2</td>\n",
       "      <td>0</td>\n",
       "      <td>0</td>\n",
       "      <td>3</td>\n",
       "      <td>1</td>\n",
       "      <td>0</td>\n",
       "      <td>1</td>\n",
       "      <td>1</td>\n",
       "      <td>1</td>\n",
       "      <td>0</td>\n",
       "      <td>0</td>\n",
       "      <td>1</td>\n",
       "      <td>2</td>\n",
       "      <td>0</td>\n",
       "      <td>0</td>\n",
       "      <td>2</td>\n",
       "      <td>2</td>\n",
       "      <td>9</td>\n",
       "      <td>6</td>\n",
       "      <td>0</td>\n",
       "      <td>1</td>\n",
       "      <td>0</td>\n",
       "      <td>0</td>\n",
       "      <td>16</td>\n",
       "      <td>0</td>\n",
       "      <td>1</td>\n",
       "      <td>6</td>\n",
       "      <td>3</td>\n",
       "      <td>1</td>\n",
       "      <td>10</td>\n",
       "      <td>6</td>\n",
       "      <td>20170919</td>\n",
       "      <td>000100</td>\n",
       "    </tr>\n",
       "    <tr>\n",
       "      <th>3</th>\n",
       "      <td>15290</td>\n",
       "      <td>3319</td>\n",
       "      <td>3926</td>\n",
       "      <td>8045</td>\n",
       "      <td>000100</td>\n",
       "      <td>0.21707</td>\n",
       "      <td>0.256769</td>\n",
       "      <td>0.526161</td>\n",
       "      <td>360010001001011</td>\n",
       "      <td>56</td>\n",
       "      <td>16</td>\n",
       "      <td>38</td>\n",
       "      <td>2</td>\n",
       "      <td>14</td>\n",
       "      <td>30</td>\n",
       "      <td>12</td>\n",
       "      <td>0</td>\n",
       "      <td>0</td>\n",
       "      <td>0</td>\n",
       "      <td>1</td>\n",
       "      <td>1</td>\n",
       "      <td>2</td>\n",
       "      <td>4</td>\n",
       "      <td>2</td>\n",
       "      <td>3</td>\n",
       "      <td>1</td>\n",
       "      <td>0</td>\n",
       "      <td>4</td>\n",
       "      <td>1</td>\n",
       "      <td>6</td>\n",
       "      <td>3</td>\n",
       "      <td>16</td>\n",
       "      <td>1</td>\n",
       "      <td>3</td>\n",
       "      <td>2</td>\n",
       "      <td>6</td>\n",
       "      <td>30</td>\n",
       "      <td>23</td>\n",
       "      <td>0</td>\n",
       "      <td>2</td>\n",
       "      <td>0</td>\n",
       "      <td>1</td>\n",
       "      <td>43</td>\n",
       "      <td>13</td>\n",
       "      <td>7</td>\n",
       "      <td>15</td>\n",
       "      <td>10</td>\n",
       "      <td>8</td>\n",
       "      <td>23</td>\n",
       "      <td>33</td>\n",
       "      <td>20170919</td>\n",
       "      <td>000100</td>\n",
       "    </tr>\n",
       "    <tr>\n",
       "      <th>4</th>\n",
       "      <td>15290</td>\n",
       "      <td>3319</td>\n",
       "      <td>3926</td>\n",
       "      <td>8045</td>\n",
       "      <td>000100</td>\n",
       "      <td>0.21707</td>\n",
       "      <td>0.256769</td>\n",
       "      <td>0.526161</td>\n",
       "      <td>360010001001012</td>\n",
       "      <td>36</td>\n",
       "      <td>12</td>\n",
       "      <td>18</td>\n",
       "      <td>6</td>\n",
       "      <td>13</td>\n",
       "      <td>14</td>\n",
       "      <td>9</td>\n",
       "      <td>0</td>\n",
       "      <td>0</td>\n",
       "      <td>0</td>\n",
       "      <td>2</td>\n",
       "      <td>0</td>\n",
       "      <td>0</td>\n",
       "      <td>2</td>\n",
       "      <td>0</td>\n",
       "      <td>0</td>\n",
       "      <td>3</td>\n",
       "      <td>1</td>\n",
       "      <td>1</td>\n",
       "      <td>2</td>\n",
       "      <td>3</td>\n",
       "      <td>3</td>\n",
       "      <td>8</td>\n",
       "      <td>1</td>\n",
       "      <td>2</td>\n",
       "      <td>1</td>\n",
       "      <td>7</td>\n",
       "      <td>11</td>\n",
       "      <td>21</td>\n",
       "      <td>0</td>\n",
       "      <td>1</td>\n",
       "      <td>1</td>\n",
       "      <td>2</td>\n",
       "      <td>33</td>\n",
       "      <td>3</td>\n",
       "      <td>3</td>\n",
       "      <td>5</td>\n",
       "      <td>11</td>\n",
       "      <td>5</td>\n",
       "      <td>18</td>\n",
       "      <td>18</td>\n",
       "      <td>20170919</td>\n",
       "      <td>000100</td>\n",
       "    </tr>\n",
       "  </tbody>\n",
       "</table>\n",
       "</div>"
      ],
      "text/plain": [
       "   CE01totcounts  CE02totcounts  CE03totcounts  C000totcounts      ct  \\\n",
       "0          15290           3319           3926           8045  000100   \n",
       "1          15290           3319           3926           8045  000100   \n",
       "2          15290           3319           3926           8045  000100   \n",
       "3          15290           3319           3926           8045  000100   \n",
       "4          15290           3319           3926           8045  000100   \n",
       "\n",
       "   CE01Percent  CE02Percent  CE03Percent        h_geocode  C000  CA01  CA02  \\\n",
       "0      0.21707     0.256769     0.526161  360010001001008    14     3     8   \n",
       "1      0.21707     0.256769     0.526161  360010001001009    14     3     9   \n",
       "2      0.21707     0.256769     0.526161  360010001001010    16     5     8   \n",
       "3      0.21707     0.256769     0.526161  360010001001011    56    16    38   \n",
       "4      0.21707     0.256769     0.526161  360010001001012    36    12    18   \n",
       "\n",
       "   CA03  CE01  CE02  CE03  CNS01  CNS02  CNS03  CNS04  CNS05  CNS06  CNS07  \\\n",
       "0     3     3     9     2      0      0      0      0      2      1      1   \n",
       "1     2     6     6     2      0      0      0      0      1      1      2   \n",
       "2     3     3     6     7      0      0      0      2      0      0      3   \n",
       "3     2    14    30    12      0      0      0      1      1      2      4   \n",
       "4     6    13    14     9      0      0      0      2      0      0      2   \n",
       "\n",
       "   CNS08  CNS09  CNS10  CNS11  CNS12  CNS13  CNS14  CNS15  CNS16  CNS17  \\\n",
       "0      0      0      0      0      0      0      0      2      4      0   \n",
       "1      0      0      1      1      0      0      0      0      4      0   \n",
       "2      1      0      1      1      1      0      0      1      2      0   \n",
       "3      2      3      1      0      4      1      6      3     16      1   \n",
       "4      0      0      3      1      1      2      3      3      8      1   \n",
       "\n",
       "   CNS18  CNS19  CNS20  CR01  CR02  CR03  CR04  CR05  CR07  CT01  CT02  CD01  \\\n",
       "0      1      1      2    10     3     1     0     0     0    14     0     1   \n",
       "1      1      1      2     5     7     0     1     0     1    12     2     3   \n",
       "2      0      2      2     9     6     0     1     0     0    16     0     1   \n",
       "3      3      2      6    30    23     0     2     0     1    43    13     7   \n",
       "4      2      1      7    11    21     0     1     1     2    33     3     3   \n",
       "\n",
       "   CD02  CD03  CD04  CS01  CS02  createdate Census Tract  \n",
       "0     4     3     3     6     8    20170919       000100  \n",
       "1     4     3     1     5     9    20170919       000100  \n",
       "2     6     3     1    10     6    20170919       000100  \n",
       "3    15    10     8    23    33    20170919       000100  \n",
       "4     5    11     5    18    18    20170919       000100  "
      ]
     },
     "execution_count": 62,
     "metadata": {},
     "output_type": "execute_result"
    }
   ],
   "source": [
    "LODES2015merge.head()"
   ]
  },
  {
   "cell_type": "code",
   "execution_count": 63,
   "metadata": {},
   "outputs": [],
   "source": [
    "#Export to csv\n",
    "LODES2013merge.to_csv(\"LODES2013.csv\")\n",
    "LODES2014merge.to_csv(\"LODES2014.csv\")\n",
    "LODES2015merge.to_csv(\"LODES2015.csv\")"
   ]
  },
  {
   "cell_type": "markdown",
   "metadata": {},
   "source": [
    "#### Create Artificial Group Labels"
   ]
  },
  {
   "cell_type": "code",
   "execution_count": 64,
   "metadata": {},
   "outputs": [
    {
     "data": {
      "text/html": [
       "<div>\n",
       "<style scoped>\n",
       "    .dataframe tbody tr th:only-of-type {\n",
       "        vertical-align: middle;\n",
       "    }\n",
       "\n",
       "    .dataframe tbody tr th {\n",
       "        vertical-align: top;\n",
       "    }\n",
       "\n",
       "    .dataframe thead th {\n",
       "        text-align: right;\n",
       "    }\n",
       "</style>\n",
       "<table border=\"1\" class=\"dataframe\">\n",
       "  <thead>\n",
       "    <tr style=\"text-align: right;\">\n",
       "      <th></th>\n",
       "      <th>CE01totcounts</th>\n",
       "      <th>CE02totcounts</th>\n",
       "      <th>CE03totcounts</th>\n",
       "      <th>C000totcounts</th>\n",
       "      <th>ct</th>\n",
       "      <th>CE01Percent</th>\n",
       "      <th>CE02Percent</th>\n",
       "      <th>CE03Percent</th>\n",
       "    </tr>\n",
       "    <tr>\n",
       "      <th>Census Tract</th>\n",
       "      <th></th>\n",
       "      <th></th>\n",
       "      <th></th>\n",
       "      <th></th>\n",
       "      <th></th>\n",
       "      <th></th>\n",
       "      <th></th>\n",
       "      <th></th>\n",
       "    </tr>\n",
       "  </thead>\n",
       "  <tbody>\n",
       "    <tr>\n",
       "      <th>003802</th>\n",
       "      <td>314</td>\n",
       "      <td>190</td>\n",
       "      <td>69</td>\n",
       "      <td>55</td>\n",
       "      <td>003802</td>\n",
       "      <td>0.605096</td>\n",
       "      <td>0.219745</td>\n",
       "      <td>0.175159</td>\n",
       "    </tr>\n",
       "    <tr>\n",
       "      <th>053300</th>\n",
       "      <td>1642</td>\n",
       "      <td>774</td>\n",
       "      <td>483</td>\n",
       "      <td>385</td>\n",
       "      <td>053300</td>\n",
       "      <td>0.471376</td>\n",
       "      <td>0.294153</td>\n",
       "      <td>0.234470</td>\n",
       "    </tr>\n",
       "  </tbody>\n",
       "</table>\n",
       "</div>"
      ],
      "text/plain": [
       "              CE01totcounts  CE02totcounts  CE03totcounts  C000totcounts  \\\n",
       "Census Tract                                                               \n",
       "003802                  314            190             69             55   \n",
       "053300                 1642            774            483            385   \n",
       "\n",
       "                  ct  CE01Percent  CE02Percent  CE03Percent  \n",
       "Census Tract                                                 \n",
       "003802        003802     0.605096     0.219745     0.175159  \n",
       "053300        053300     0.471376     0.294153     0.234470  "
      ]
     },
     "execution_count": 64,
     "metadata": {},
     "output_type": "execute_result"
    }
   ],
   "source": [
    "# Artificial Group Labels\n",
    "# If percentage of people living in an area is >30%, then the group labels will be as follows:\n",
    "\n",
    "# >30% in CE01 only = 'Mostly Poor'/0\n",
    "GroupSum2015[(GroupSum2015['CE01Percent'] >= 0.3) & (GroupSum2015['CE02Percent'] < 0.3) & (GroupSum2015['CE03Percent'] < 0.3)].head()"
   ]
  },
  {
   "cell_type": "code",
   "execution_count": 65,
   "metadata": {},
   "outputs": [
    {
     "data": {
      "text/html": [
       "<div>\n",
       "<style scoped>\n",
       "    .dataframe tbody tr th:only-of-type {\n",
       "        vertical-align: middle;\n",
       "    }\n",
       "\n",
       "    .dataframe tbody tr th {\n",
       "        vertical-align: top;\n",
       "    }\n",
       "\n",
       "    .dataframe thead th {\n",
       "        text-align: right;\n",
       "    }\n",
       "</style>\n",
       "<table border=\"1\" class=\"dataframe\">\n",
       "  <thead>\n",
       "    <tr style=\"text-align: right;\">\n",
       "      <th></th>\n",
       "      <th>CE01totcounts</th>\n",
       "      <th>CE02totcounts</th>\n",
       "      <th>CE03totcounts</th>\n",
       "      <th>C000totcounts</th>\n",
       "      <th>ct</th>\n",
       "      <th>CE01Percent</th>\n",
       "      <th>CE02Percent</th>\n",
       "      <th>CE03Percent</th>\n",
       "    </tr>\n",
       "    <tr>\n",
       "      <th>Census Tract</th>\n",
       "      <th></th>\n",
       "      <th></th>\n",
       "      <th></th>\n",
       "      <th></th>\n",
       "      <th></th>\n",
       "      <th></th>\n",
       "      <th></th>\n",
       "      <th></th>\n",
       "    </tr>\n",
       "  </thead>\n",
       "  <tbody>\n",
       "    <tr>\n",
       "      <th>000110</th>\n",
       "      <td>1101</td>\n",
       "      <td>366</td>\n",
       "      <td>442</td>\n",
       "      <td>293</td>\n",
       "      <td>000110</td>\n",
       "      <td>0.332425</td>\n",
       "      <td>0.401453</td>\n",
       "      <td>0.266122</td>\n",
       "    </tr>\n",
       "    <tr>\n",
       "      <th>001701</th>\n",
       "      <td>1066</td>\n",
       "      <td>344</td>\n",
       "      <td>476</td>\n",
       "      <td>246</td>\n",
       "      <td>001701</td>\n",
       "      <td>0.322702</td>\n",
       "      <td>0.446529</td>\n",
       "      <td>0.230769</td>\n",
       "    </tr>\n",
       "    <tr>\n",
       "      <th>002400</th>\n",
       "      <td>6601</td>\n",
       "      <td>1985</td>\n",
       "      <td>2666</td>\n",
       "      <td>1950</td>\n",
       "      <td>002400</td>\n",
       "      <td>0.300712</td>\n",
       "      <td>0.403878</td>\n",
       "      <td>0.295410</td>\n",
       "    </tr>\n",
       "    <tr>\n",
       "      <th>002500</th>\n",
       "      <td>7311</td>\n",
       "      <td>2289</td>\n",
       "      <td>3131</td>\n",
       "      <td>1891</td>\n",
       "      <td>002500</td>\n",
       "      <td>0.313090</td>\n",
       "      <td>0.428259</td>\n",
       "      <td>0.258651</td>\n",
       "    </tr>\n",
       "    <tr>\n",
       "      <th>002502</th>\n",
       "      <td>767</td>\n",
       "      <td>266</td>\n",
       "      <td>290</td>\n",
       "      <td>211</td>\n",
       "      <td>002502</td>\n",
       "      <td>0.346806</td>\n",
       "      <td>0.378096</td>\n",
       "      <td>0.275098</td>\n",
       "    </tr>\n",
       "  </tbody>\n",
       "</table>\n",
       "</div>"
      ],
      "text/plain": [
       "              CE01totcounts  CE02totcounts  CE03totcounts  C000totcounts  \\\n",
       "Census Tract                                                               \n",
       "000110                 1101            366            442            293   \n",
       "001701                 1066            344            476            246   \n",
       "002400                 6601           1985           2666           1950   \n",
       "002500                 7311           2289           3131           1891   \n",
       "002502                  767            266            290            211   \n",
       "\n",
       "                  ct  CE01Percent  CE02Percent  CE03Percent  \n",
       "Census Tract                                                 \n",
       "000110        000110     0.332425     0.401453     0.266122  \n",
       "001701        001701     0.322702     0.446529     0.230769  \n",
       "002400        002400     0.300712     0.403878     0.295410  \n",
       "002500        002500     0.313090     0.428259     0.258651  \n",
       "002502        002502     0.346806     0.378096     0.275098  "
      ]
     },
     "execution_count": 65,
     "metadata": {},
     "output_type": "execute_result"
    }
   ],
   "source": [
    "# >30% in CE01 and CE02 only = 'Mid-Poor'/1\n",
    "GroupSum2015[(GroupSum2015['CE01Percent'] >= 0.3) & (GroupSum2015['CE02Percent'] >= 0.3) & (GroupSum2015['CE03Percent'] < 0.3)].head()"
   ]
  },
  {
   "cell_type": "code",
   "execution_count": 66,
   "metadata": {},
   "outputs": [
    {
     "data": {
      "text/html": [
       "<div>\n",
       "<style scoped>\n",
       "    .dataframe tbody tr th:only-of-type {\n",
       "        vertical-align: middle;\n",
       "    }\n",
       "\n",
       "    .dataframe tbody tr th {\n",
       "        vertical-align: top;\n",
       "    }\n",
       "\n",
       "    .dataframe thead th {\n",
       "        text-align: right;\n",
       "    }\n",
       "</style>\n",
       "<table border=\"1\" class=\"dataframe\">\n",
       "  <thead>\n",
       "    <tr style=\"text-align: right;\">\n",
       "      <th></th>\n",
       "      <th>CE01totcounts</th>\n",
       "      <th>CE02totcounts</th>\n",
       "      <th>CE03totcounts</th>\n",
       "      <th>C000totcounts</th>\n",
       "      <th>ct</th>\n",
       "      <th>CE01Percent</th>\n",
       "      <th>CE02Percent</th>\n",
       "      <th>CE03Percent</th>\n",
       "    </tr>\n",
       "    <tr>\n",
       "      <th>Census Tract</th>\n",
       "      <th></th>\n",
       "      <th></th>\n",
       "      <th></th>\n",
       "      <th></th>\n",
       "      <th></th>\n",
       "      <th></th>\n",
       "      <th></th>\n",
       "      <th></th>\n",
       "    </tr>\n",
       "  </thead>\n",
       "  <tbody>\n",
       "    <tr>\n",
       "      <th>009107</th>\n",
       "      <td>2347</td>\n",
       "      <td>730</td>\n",
       "      <td>703</td>\n",
       "      <td>914</td>\n",
       "      <td>009107</td>\n",
       "      <td>0.311035</td>\n",
       "      <td>0.299531</td>\n",
       "      <td>0.389433</td>\n",
       "    </tr>\n",
       "    <tr>\n",
       "      <th>009109</th>\n",
       "      <td>1679</td>\n",
       "      <td>504</td>\n",
       "      <td>451</td>\n",
       "      <td>724</td>\n",
       "      <td>009109</td>\n",
       "      <td>0.300179</td>\n",
       "      <td>0.268612</td>\n",
       "      <td>0.431209</td>\n",
       "    </tr>\n",
       "    <tr>\n",
       "      <th>009110</th>\n",
       "      <td>481</td>\n",
       "      <td>150</td>\n",
       "      <td>125</td>\n",
       "      <td>206</td>\n",
       "      <td>009110</td>\n",
       "      <td>0.311850</td>\n",
       "      <td>0.259875</td>\n",
       "      <td>0.428274</td>\n",
       "    </tr>\n",
       "    <tr>\n",
       "      <th>009112</th>\n",
       "      <td>1080</td>\n",
       "      <td>348</td>\n",
       "      <td>318</td>\n",
       "      <td>414</td>\n",
       "      <td>009112</td>\n",
       "      <td>0.322222</td>\n",
       "      <td>0.294444</td>\n",
       "      <td>0.383333</td>\n",
       "    </tr>\n",
       "    <tr>\n",
       "      <th>011506</th>\n",
       "      <td>1439</td>\n",
       "      <td>524</td>\n",
       "      <td>425</td>\n",
       "      <td>490</td>\n",
       "      <td>011506</td>\n",
       "      <td>0.364142</td>\n",
       "      <td>0.295344</td>\n",
       "      <td>0.340514</td>\n",
       "    </tr>\n",
       "  </tbody>\n",
       "</table>\n",
       "</div>"
      ],
      "text/plain": [
       "              CE01totcounts  CE02totcounts  CE03totcounts  C000totcounts  \\\n",
       "Census Tract                                                               \n",
       "009107                 2347            730            703            914   \n",
       "009109                 1679            504            451            724   \n",
       "009110                  481            150            125            206   \n",
       "009112                 1080            348            318            414   \n",
       "011506                 1439            524            425            490   \n",
       "\n",
       "                  ct  CE01Percent  CE02Percent  CE03Percent  \n",
       "Census Tract                                                 \n",
       "009107        009107     0.311035     0.299531     0.389433  \n",
       "009109        009109     0.300179     0.268612     0.431209  \n",
       "009110        009110     0.311850     0.259875     0.428274  \n",
       "009112        009112     0.322222     0.294444     0.383333  \n",
       "011506        011506     0.364142     0.295344     0.340514  "
      ]
     },
     "execution_count": 66,
     "metadata": {},
     "output_type": "execute_result"
    }
   ],
   "source": [
    "# >30% in CE01 and CE03 only = 'Gentrified'/2\n",
    "GroupSum2015[(GroupSum2015['CE01Percent'] >= 0.3) & (GroupSum2015['CE02Percent'] < 0.3) & (GroupSum2015['CE03Percent'] >= 0.3)].head()"
   ]
  },
  {
   "cell_type": "code",
   "execution_count": 67,
   "metadata": {},
   "outputs": [
    {
     "data": {
      "text/html": [
       "<div>\n",
       "<style scoped>\n",
       "    .dataframe tbody tr th:only-of-type {\n",
       "        vertical-align: middle;\n",
       "    }\n",
       "\n",
       "    .dataframe tbody tr th {\n",
       "        vertical-align: top;\n",
       "    }\n",
       "\n",
       "    .dataframe thead th {\n",
       "        text-align: right;\n",
       "    }\n",
       "</style>\n",
       "<table border=\"1\" class=\"dataframe\">\n",
       "  <thead>\n",
       "    <tr style=\"text-align: right;\">\n",
       "      <th></th>\n",
       "      <th>CE01totcounts</th>\n",
       "      <th>CE02totcounts</th>\n",
       "      <th>CE03totcounts</th>\n",
       "      <th>C000totcounts</th>\n",
       "      <th>ct</th>\n",
       "      <th>CE01Percent</th>\n",
       "      <th>CE02Percent</th>\n",
       "      <th>CE03Percent</th>\n",
       "    </tr>\n",
       "    <tr>\n",
       "      <th>Census Tract</th>\n",
       "      <th></th>\n",
       "      <th></th>\n",
       "      <th></th>\n",
       "      <th></th>\n",
       "      <th></th>\n",
       "      <th></th>\n",
       "      <th></th>\n",
       "      <th></th>\n",
       "    </tr>\n",
       "  </thead>\n",
       "  <tbody>\n",
       "    <tr>\n",
       "      <th>000104</th>\n",
       "      <td>86</td>\n",
       "      <td>26</td>\n",
       "      <td>34</td>\n",
       "      <td>26</td>\n",
       "      <td>000104</td>\n",
       "      <td>0.302326</td>\n",
       "      <td>0.395349</td>\n",
       "      <td>0.302326</td>\n",
       "    </tr>\n",
       "    <tr>\n",
       "      <th>000404</th>\n",
       "      <td>588</td>\n",
       "      <td>178</td>\n",
       "      <td>182</td>\n",
       "      <td>228</td>\n",
       "      <td>000404</td>\n",
       "      <td>0.302721</td>\n",
       "      <td>0.309524</td>\n",
       "      <td>0.387755</td>\n",
       "    </tr>\n",
       "    <tr>\n",
       "      <th>004601</th>\n",
       "      <td>1474</td>\n",
       "      <td>470</td>\n",
       "      <td>462</td>\n",
       "      <td>542</td>\n",
       "      <td>004601</td>\n",
       "      <td>0.318860</td>\n",
       "      <td>0.313433</td>\n",
       "      <td>0.367707</td>\n",
       "    </tr>\n",
       "    <tr>\n",
       "      <th>006102</th>\n",
       "      <td>730</td>\n",
       "      <td>243</td>\n",
       "      <td>256</td>\n",
       "      <td>231</td>\n",
       "      <td>006102</td>\n",
       "      <td>0.332877</td>\n",
       "      <td>0.350685</td>\n",
       "      <td>0.316438</td>\n",
       "    </tr>\n",
       "    <tr>\n",
       "      <th>006601</th>\n",
       "      <td>985</td>\n",
       "      <td>324</td>\n",
       "      <td>359</td>\n",
       "      <td>302</td>\n",
       "      <td>006601</td>\n",
       "      <td>0.328934</td>\n",
       "      <td>0.364467</td>\n",
       "      <td>0.306599</td>\n",
       "    </tr>\n",
       "  </tbody>\n",
       "</table>\n",
       "</div>"
      ],
      "text/plain": [
       "              CE01totcounts  CE02totcounts  CE03totcounts  C000totcounts  \\\n",
       "Census Tract                                                               \n",
       "000104                   86             26             34             26   \n",
       "000404                  588            178            182            228   \n",
       "004601                 1474            470            462            542   \n",
       "006102                  730            243            256            231   \n",
       "006601                  985            324            359            302   \n",
       "\n",
       "                  ct  CE01Percent  CE02Percent  CE03Percent  \n",
       "Census Tract                                                 \n",
       "000104        000104     0.302326     0.395349     0.302326  \n",
       "000404        000404     0.302721     0.309524     0.387755  \n",
       "004601        004601     0.318860     0.313433     0.367707  \n",
       "006102        006102     0.332877     0.350685     0.316438  \n",
       "006601        006601     0.328934     0.364467     0.306599  "
      ]
     },
     "execution_count": 67,
     "metadata": {},
     "output_type": "execute_result"
    }
   ],
   "source": [
    "# >30% in CE01 and CE02 and CE03 = 'Mixed'/3\n",
    "GroupSum2015[(GroupSum2015['CE01Percent'] >= 0.3) & (GroupSum2015['CE02Percent'] >= 0.3) & (GroupSum2015['CE03Percent'] >= 0.3)].head()"
   ]
  },
  {
   "cell_type": "code",
   "execution_count": 68,
   "metadata": {},
   "outputs": [
    {
     "data": {
      "text/html": [
       "<div>\n",
       "<style scoped>\n",
       "    .dataframe tbody tr th:only-of-type {\n",
       "        vertical-align: middle;\n",
       "    }\n",
       "\n",
       "    .dataframe tbody tr th {\n",
       "        vertical-align: top;\n",
       "    }\n",
       "\n",
       "    .dataframe thead th {\n",
       "        text-align: right;\n",
       "    }\n",
       "</style>\n",
       "<table border=\"1\" class=\"dataframe\">\n",
       "  <thead>\n",
       "    <tr style=\"text-align: right;\">\n",
       "      <th></th>\n",
       "      <th>CE01totcounts</th>\n",
       "      <th>CE02totcounts</th>\n",
       "      <th>CE03totcounts</th>\n",
       "      <th>C000totcounts</th>\n",
       "      <th>ct</th>\n",
       "      <th>CE01Percent</th>\n",
       "      <th>CE02Percent</th>\n",
       "      <th>CE03Percent</th>\n",
       "    </tr>\n",
       "    <tr>\n",
       "      <th>Census Tract</th>\n",
       "      <th></th>\n",
       "      <th></th>\n",
       "      <th></th>\n",
       "      <th></th>\n",
       "      <th></th>\n",
       "      <th></th>\n",
       "      <th></th>\n",
       "      <th></th>\n",
       "    </tr>\n",
       "  </thead>\n",
       "  <tbody>\n",
       "    <tr>\n",
       "      <th>004001</th>\n",
       "      <td>3149</td>\n",
       "      <td>924</td>\n",
       "      <td>1294</td>\n",
       "      <td>931</td>\n",
       "      <td>004001</td>\n",
       "      <td>0.293426</td>\n",
       "      <td>0.410924</td>\n",
       "      <td>0.295649</td>\n",
       "    </tr>\n",
       "    <tr>\n",
       "      <th>004401</th>\n",
       "      <td>3304</td>\n",
       "      <td>966</td>\n",
       "      <td>1357</td>\n",
       "      <td>981</td>\n",
       "      <td>004401</td>\n",
       "      <td>0.292373</td>\n",
       "      <td>0.410714</td>\n",
       "      <td>0.296913</td>\n",
       "    </tr>\n",
       "    <tr>\n",
       "      <th>008701</th>\n",
       "      <td>1662</td>\n",
       "      <td>480</td>\n",
       "      <td>780</td>\n",
       "      <td>402</td>\n",
       "      <td>008701</td>\n",
       "      <td>0.288809</td>\n",
       "      <td>0.469314</td>\n",
       "      <td>0.241877</td>\n",
       "    </tr>\n",
       "    <tr>\n",
       "      <th>017701</th>\n",
       "      <td>1486</td>\n",
       "      <td>423</td>\n",
       "      <td>699</td>\n",
       "      <td>364</td>\n",
       "      <td>017701</td>\n",
       "      <td>0.284657</td>\n",
       "      <td>0.470390</td>\n",
       "      <td>0.244953</td>\n",
       "    </tr>\n",
       "    <tr>\n",
       "      <th>017901</th>\n",
       "      <td>2008</td>\n",
       "      <td>550</td>\n",
       "      <td>947</td>\n",
       "      <td>511</td>\n",
       "      <td>017901</td>\n",
       "      <td>0.273904</td>\n",
       "      <td>0.471614</td>\n",
       "      <td>0.254482</td>\n",
       "    </tr>\n",
       "  </tbody>\n",
       "</table>\n",
       "</div>"
      ],
      "text/plain": [
       "              CE01totcounts  CE02totcounts  CE03totcounts  C000totcounts  \\\n",
       "Census Tract                                                               \n",
       "004001                 3149            924           1294            931   \n",
       "004401                 3304            966           1357            981   \n",
       "008701                 1662            480            780            402   \n",
       "017701                 1486            423            699            364   \n",
       "017901                 2008            550            947            511   \n",
       "\n",
       "                  ct  CE01Percent  CE02Percent  CE03Percent  \n",
       "Census Tract                                                 \n",
       "004001        004001     0.293426     0.410924     0.295649  \n",
       "004401        004401     0.292373     0.410714     0.296913  \n",
       "008701        008701     0.288809     0.469314     0.241877  \n",
       "017701        017701     0.284657     0.470390     0.244953  \n",
       "017901        017901     0.273904     0.471614     0.254482  "
      ]
     },
     "execution_count": 68,
     "metadata": {},
     "output_type": "execute_result"
    }
   ],
   "source": [
    "# >30% in CE02 only = 'Mostly Middle'/4\n",
    "GroupSum2015[(GroupSum2015['CE01Percent'] < 0.3) & (GroupSum2015['CE02Percent'] >= 0.3) & (GroupSum2015['CE03Percent'] < 0.3)].head()"
   ]
  },
  {
   "cell_type": "code",
   "execution_count": 69,
   "metadata": {},
   "outputs": [
    {
     "data": {
      "text/html": [
       "<div>\n",
       "<style scoped>\n",
       "    .dataframe tbody tr th:only-of-type {\n",
       "        vertical-align: middle;\n",
       "    }\n",
       "\n",
       "    .dataframe tbody tr th {\n",
       "        vertical-align: top;\n",
       "    }\n",
       "\n",
       "    .dataframe thead th {\n",
       "        text-align: right;\n",
       "    }\n",
       "</style>\n",
       "<table border=\"1\" class=\"dataframe\">\n",
       "  <thead>\n",
       "    <tr style=\"text-align: right;\">\n",
       "      <th></th>\n",
       "      <th>CE01totcounts</th>\n",
       "      <th>CE02totcounts</th>\n",
       "      <th>CE03totcounts</th>\n",
       "      <th>C000totcounts</th>\n",
       "      <th>ct</th>\n",
       "      <th>CE01Percent</th>\n",
       "      <th>CE02Percent</th>\n",
       "      <th>CE03Percent</th>\n",
       "    </tr>\n",
       "    <tr>\n",
       "      <th>Census Tract</th>\n",
       "      <th></th>\n",
       "      <th></th>\n",
       "      <th></th>\n",
       "      <th></th>\n",
       "      <th></th>\n",
       "      <th></th>\n",
       "      <th></th>\n",
       "      <th></th>\n",
       "    </tr>\n",
       "  </thead>\n",
       "  <tbody>\n",
       "    <tr>\n",
       "      <th>000101</th>\n",
       "      <td>1945</td>\n",
       "      <td>458</td>\n",
       "      <td>801</td>\n",
       "      <td>686</td>\n",
       "      <td>000101</td>\n",
       "      <td>0.235476</td>\n",
       "      <td>0.411825</td>\n",
       "      <td>0.352699</td>\n",
       "    </tr>\n",
       "    <tr>\n",
       "      <th>000103</th>\n",
       "      <td>2331</td>\n",
       "      <td>608</td>\n",
       "      <td>816</td>\n",
       "      <td>907</td>\n",
       "      <td>000103</td>\n",
       "      <td>0.260832</td>\n",
       "      <td>0.350064</td>\n",
       "      <td>0.389103</td>\n",
       "    </tr>\n",
       "    <tr>\n",
       "      <th>000200</th>\n",
       "      <td>13941</td>\n",
       "      <td>4028</td>\n",
       "      <td>5531</td>\n",
       "      <td>4382</td>\n",
       "      <td>000200</td>\n",
       "      <td>0.288932</td>\n",
       "      <td>0.396743</td>\n",
       "      <td>0.314325</td>\n",
       "    </tr>\n",
       "    <tr>\n",
       "      <th>000201</th>\n",
       "      <td>3811</td>\n",
       "      <td>974</td>\n",
       "      <td>1442</td>\n",
       "      <td>1395</td>\n",
       "      <td>000201</td>\n",
       "      <td>0.255576</td>\n",
       "      <td>0.378378</td>\n",
       "      <td>0.366046</td>\n",
       "    </tr>\n",
       "    <tr>\n",
       "      <th>000203</th>\n",
       "      <td>1241</td>\n",
       "      <td>243</td>\n",
       "      <td>382</td>\n",
       "      <td>616</td>\n",
       "      <td>000203</td>\n",
       "      <td>0.195810</td>\n",
       "      <td>0.307816</td>\n",
       "      <td>0.496374</td>\n",
       "    </tr>\n",
       "  </tbody>\n",
       "</table>\n",
       "</div>"
      ],
      "text/plain": [
       "              CE01totcounts  CE02totcounts  CE03totcounts  C000totcounts  \\\n",
       "Census Tract                                                               \n",
       "000101                 1945            458            801            686   \n",
       "000103                 2331            608            816            907   \n",
       "000200                13941           4028           5531           4382   \n",
       "000201                 3811            974           1442           1395   \n",
       "000203                 1241            243            382            616   \n",
       "\n",
       "                  ct  CE01Percent  CE02Percent  CE03Percent  \n",
       "Census Tract                                                 \n",
       "000101        000101     0.235476     0.411825     0.352699  \n",
       "000103        000103     0.260832     0.350064     0.389103  \n",
       "000200        000200     0.288932     0.396743     0.314325  \n",
       "000201        000201     0.255576     0.378378     0.366046  \n",
       "000203        000203     0.195810     0.307816     0.496374  "
      ]
     },
     "execution_count": 69,
     "metadata": {},
     "output_type": "execute_result"
    }
   ],
   "source": [
    "# >30% in CE02 and CE03 only = 'Mid-Rich'/5\n",
    "GroupSum2015[(GroupSum2015['CE01Percent'] < 0.3) & (GroupSum2015['CE02Percent'] >= 0.3) & (GroupSum2015['CE03Percent'] >= 0.3)].head()"
   ]
  },
  {
   "cell_type": "code",
   "execution_count": 70,
   "metadata": {},
   "outputs": [
    {
     "data": {
      "text/html": [
       "<div>\n",
       "<style scoped>\n",
       "    .dataframe tbody tr th:only-of-type {\n",
       "        vertical-align: middle;\n",
       "    }\n",
       "\n",
       "    .dataframe tbody tr th {\n",
       "        vertical-align: top;\n",
       "    }\n",
       "\n",
       "    .dataframe thead th {\n",
       "        text-align: right;\n",
       "    }\n",
       "</style>\n",
       "<table border=\"1\" class=\"dataframe\">\n",
       "  <thead>\n",
       "    <tr style=\"text-align: right;\">\n",
       "      <th></th>\n",
       "      <th>CE01totcounts</th>\n",
       "      <th>CE02totcounts</th>\n",
       "      <th>CE03totcounts</th>\n",
       "      <th>C000totcounts</th>\n",
       "      <th>ct</th>\n",
       "      <th>CE01Percent</th>\n",
       "      <th>CE02Percent</th>\n",
       "      <th>CE03Percent</th>\n",
       "    </tr>\n",
       "    <tr>\n",
       "      <th>Census Tract</th>\n",
       "      <th></th>\n",
       "      <th></th>\n",
       "      <th></th>\n",
       "      <th></th>\n",
       "      <th></th>\n",
       "      <th></th>\n",
       "      <th></th>\n",
       "      <th></th>\n",
       "    </tr>\n",
       "  </thead>\n",
       "  <tbody>\n",
       "    <tr>\n",
       "      <th>000100</th>\n",
       "      <td>15290</td>\n",
       "      <td>3319</td>\n",
       "      <td>3926</td>\n",
       "      <td>8045</td>\n",
       "      <td>000100</td>\n",
       "      <td>0.217070</td>\n",
       "      <td>0.256769</td>\n",
       "      <td>0.526161</td>\n",
       "    </tr>\n",
       "    <tr>\n",
       "      <th>000202</th>\n",
       "      <td>4469</td>\n",
       "      <td>1032</td>\n",
       "      <td>1330</td>\n",
       "      <td>2107</td>\n",
       "      <td>000202</td>\n",
       "      <td>0.230924</td>\n",
       "      <td>0.297606</td>\n",
       "      <td>0.471470</td>\n",
       "    </tr>\n",
       "    <tr>\n",
       "      <th>000301</th>\n",
       "      <td>2036</td>\n",
       "      <td>332</td>\n",
       "      <td>310</td>\n",
       "      <td>1394</td>\n",
       "      <td>000301</td>\n",
       "      <td>0.163065</td>\n",
       "      <td>0.152259</td>\n",
       "      <td>0.684676</td>\n",
       "    </tr>\n",
       "    <tr>\n",
       "      <th>000502</th>\n",
       "      <td>4229</td>\n",
       "      <td>992</td>\n",
       "      <td>1157</td>\n",
       "      <td>2080</td>\n",
       "      <td>000502</td>\n",
       "      <td>0.234571</td>\n",
       "      <td>0.273587</td>\n",
       "      <td>0.491842</td>\n",
       "    </tr>\n",
       "    <tr>\n",
       "      <th>000700</th>\n",
       "      <td>23935</td>\n",
       "      <td>4877</td>\n",
       "      <td>6045</td>\n",
       "      <td>13013</td>\n",
       "      <td>000700</td>\n",
       "      <td>0.203760</td>\n",
       "      <td>0.252559</td>\n",
       "      <td>0.543681</td>\n",
       "    </tr>\n",
       "  </tbody>\n",
       "</table>\n",
       "</div>"
      ],
      "text/plain": [
       "              CE01totcounts  CE02totcounts  CE03totcounts  C000totcounts  \\\n",
       "Census Tract                                                               \n",
       "000100                15290           3319           3926           8045   \n",
       "000202                 4469           1032           1330           2107   \n",
       "000301                 2036            332            310           1394   \n",
       "000502                 4229            992           1157           2080   \n",
       "000700                23935           4877           6045          13013   \n",
       "\n",
       "                  ct  CE01Percent  CE02Percent  CE03Percent  \n",
       "Census Tract                                                 \n",
       "000100        000100     0.217070     0.256769     0.526161  \n",
       "000202        000202     0.230924     0.297606     0.471470  \n",
       "000301        000301     0.163065     0.152259     0.684676  \n",
       "000502        000502     0.234571     0.273587     0.491842  \n",
       "000700        000700     0.203760     0.252559     0.543681  "
      ]
     },
     "execution_count": 70,
     "metadata": {},
     "output_type": "execute_result"
    }
   ],
   "source": [
    "# >30% in CE03 only = 'Mostly-Rich'/6\n",
    "GroupSum2015[(GroupSum2015['CE01Percent'] < 0.3) & (GroupSum2015['CE02Percent'] < 0.3) & (GroupSum2015['CE03Percent'] >= 0.3)].head()"
   ]
  },
  {
   "cell_type": "code",
   "execution_count": 71,
   "metadata": {},
   "outputs": [],
   "source": [
    "# Attach these as a created variable\n",
    "def TractLabelling(data):\n",
    "    if (data['CE01Percent'] >= 0.3) & (data['CE02Percent'] < 0.3) & (data['CE03Percent'] < 0.3):\n",
    "        return 0\n",
    "    if (data['CE01Percent'] >= 0.3) & (data['CE02Percent'] >= 0.3) & (data['CE03Percent'] < 0.3):\n",
    "        return 1\n",
    "    if (data['CE01Percent'] >= 0.3) & (data['CE02Percent'] < 0.3) & (data['CE03Percent'] >= 0.3):\n",
    "        return 2\n",
    "    if (data['CE01Percent'] >= 0.3) & (data['CE02Percent'] >= 0.3) & (data['CE03Percent'] >= 0.3):\n",
    "        return 3\n",
    "    if (data['CE01Percent'] < 0.3) & (data['CE02Percent'] >= 0.3) & (data['CE03Percent'] < 0.3):\n",
    "        return 4\n",
    "    if (data['CE01Percent'] < 0.3) & (data['CE02Percent'] >= 0.3) & (data['CE03Percent'] >= 0.3):\n",
    "        return 5\n",
    "    if (data['CE01Percent'] < 0.3) & (data['CE02Percent'] < 0.3) & (data['CE03Percent'] >= 0.3):\n",
    "        return 6"
   ]
  },
  {
   "cell_type": "code",
   "execution_count": 72,
   "metadata": {},
   "outputs": [],
   "source": [
    "GroupSum2013['TractLabel'] = GroupSum2013.apply(TractLabelling,axis=1)\n",
    "GroupSum2014['TractLabel'] = GroupSum2014.apply(TractLabelling,axis=1)\n",
    "GroupSum2015['TractLabel'] = GroupSum2015.apply(TractLabelling,axis=1)"
   ]
  },
  {
   "cell_type": "code",
   "execution_count": 73,
   "metadata": {},
   "outputs": [],
   "source": [
    "# Export to csv\n",
    "GroupSum2013.to_csv(\"LODES2013Sum.csv\")\n",
    "GroupSum2014.to_csv(\"LODES2014Sum.csv\")\n",
    "GroupSum2015.to_csv(\"LODES2015Sum.csv\")"
   ]
  },
  {
   "cell_type": "markdown",
   "metadata": {},
   "source": [
    "#### K-MEANS Clustering"
   ]
  },
  {
   "cell_type": "code",
   "execution_count": 75,
   "metadata": {},
   "outputs": [
    {
     "name": "stderr",
     "output_type": "stream",
     "text": [
      "C:\\Users\\james\\Anaconda2\\envs\\base python 3.6\\lib\\site-packages\\sklearn\\utils\\validation.py:475: DataConversionWarning: Data with input dtype int64 was converted to float64 by StandardScaler.\n",
      "  warnings.warn(msg, DataConversionWarning)\n"
     ]
    }
   ],
   "source": [
    "#standardize the features\n",
    "features = ['CE01totcounts', 'CE02totcounts', 'CE03totcounts', 'C000totcounts']\n",
    "x = GroupSum2013.loc[:, features].values\n",
    "x = StandardScaler().fit_transform(x)"
   ]
  },
  {
   "cell_type": "code",
   "execution_count": 76,
   "metadata": {},
   "outputs": [
    {
     "data": {
      "text/html": [
       "<div>\n",
       "<style scoped>\n",
       "    .dataframe tbody tr th:only-of-type {\n",
       "        vertical-align: middle;\n",
       "    }\n",
       "\n",
       "    .dataframe tbody tr th {\n",
       "        vertical-align: top;\n",
       "    }\n",
       "\n",
       "    .dataframe thead th {\n",
       "        text-align: right;\n",
       "    }\n",
       "</style>\n",
       "<table border=\"1\" class=\"dataframe\">\n",
       "  <thead>\n",
       "    <tr style=\"text-align: right;\">\n",
       "      <th></th>\n",
       "      <th>CE01totcounts</th>\n",
       "      <th>CE02totcounts</th>\n",
       "      <th>CE03totcounts</th>\n",
       "      <th>C000totcounts</th>\n",
       "    </tr>\n",
       "  </thead>\n",
       "  <tbody>\n",
       "    <tr>\n",
       "      <th>0</th>\n",
       "      <td>3.074561</td>\n",
       "      <td>3.057734</td>\n",
       "      <td>2.835156</td>\n",
       "      <td>3.044611</td>\n",
       "    </tr>\n",
       "    <tr>\n",
       "      <th>1</th>\n",
       "      <td>-0.339897</td>\n",
       "      <td>-0.306829</td>\n",
       "      <td>-0.208017</td>\n",
       "      <td>-0.419329</td>\n",
       "    </tr>\n",
       "    <tr>\n",
       "      <th>2</th>\n",
       "      <td>-0.154255</td>\n",
       "      <td>-0.053239</td>\n",
       "      <td>0.018590</td>\n",
       "      <td>-0.305619</td>\n",
       "    </tr>\n",
       "    <tr>\n",
       "      <th>3</th>\n",
       "      <td>-1.004157</td>\n",
       "      <td>-0.988610</td>\n",
       "      <td>-1.003907</td>\n",
       "      <td>-0.949975</td>\n",
       "    </tr>\n",
       "    <tr>\n",
       "      <th>4</th>\n",
       "      <td>-0.515413</td>\n",
       "      <td>-0.342858</td>\n",
       "      <td>-0.348404</td>\n",
       "      <td>-0.676931</td>\n",
       "    </tr>\n",
       "  </tbody>\n",
       "</table>\n",
       "</div>"
      ],
      "text/plain": [
       "   CE01totcounts  CE02totcounts  CE03totcounts  C000totcounts\n",
       "0       3.074561       3.057734       2.835156       3.044611\n",
       "1      -0.339897      -0.306829      -0.208017      -0.419329\n",
       "2      -0.154255      -0.053239       0.018590      -0.305619\n",
       "3      -1.004157      -0.988610      -1.003907      -0.949975\n",
       "4      -0.515413      -0.342858      -0.348404      -0.676931"
      ]
     },
     "execution_count": 76,
     "metadata": {},
     "output_type": "execute_result"
    }
   ],
   "source": [
    "pd.DataFrame(data = x, columns = features).head()"
   ]
  },
  {
   "cell_type": "code",
   "execution_count": 77,
   "metadata": {},
   "outputs": [],
   "source": [
    "#PCA to 2 dimensions\n",
    "pca = PCA(n_components=2)\n",
    "principalComponents = pca.fit_transform(x)\n",
    "principalDf = pd.DataFrame(data = principalComponents\n",
    "             , columns = ['principal component 1', 'principal component 2'])\n",
    "principalDf['TractLabel'] = GroupSum2013['TractLabel'].tolist()"
   ]
  },
  {
   "cell_type": "code",
   "execution_count": 78,
   "metadata": {},
   "outputs": [
    {
     "data": {
      "text/plain": [
       "<matplotlib.legend.Legend at 0x1ccca29de48>"
      ]
     },
     "execution_count": 78,
     "metadata": {},
     "output_type": "execute_result"
    },
    {
     "data": {
      "image/png": "[encoded data removed]",
      "text/plain": [
       "<Figure size 576x576 with 1 Axes>"
      ]
     },
     "metadata": {},
     "output_type": "display_data"
    }
   ],
   "source": [
    "# Visualize with imputed labels\n",
    "fig = plt.figure(figsize = (8,8))\n",
    "plt.style.use('dark_background')\n",
    "color = ['b', 'c', 'y', 'm', 'r','purple','g']\n",
    "ax = fig.add_subplot(1,1,1) \n",
    "ax.set_xlabel('Principal Component 1', fontsize = 15)\n",
    "ax.set_ylabel('Principal Component 2', fontsize = 15)\n",
    "ax.set_title('2 Component PCA', fontsize = 20)\n",
    "ax.scatter(principalDf['principal component 1'][principalDf['TractLabel'] == 6]\n",
    "               , principalDf['principal component 2'][principalDf['TractLabel'] == 6]\n",
    "               , c = color[6]\n",
    "               , s = 20\n",
    "               , label = \"Mostly Rich\")\n",
    "ax.scatter(principalDf['principal component 1'][principalDf['TractLabel'] == 5]\n",
    "               , principalDf['principal component 2'][principalDf['TractLabel'] == 5]\n",
    "               , c = color[4]\n",
    "               , s = 20\n",
    "               , label = \"Middle-Rich\")\n",
    "ax.scatter(principalDf['principal component 1'][principalDf['TractLabel'] == 4]\n",
    "               , principalDf['principal component 2'][principalDf['TractLabel'] == 4]\n",
    "               , c = color[4]\n",
    "               , s = 20\n",
    "               , label = \"Mostly Middle\")\n",
    "ax.scatter(principalDf['principal component 1'][principalDf['TractLabel'] == 3]\n",
    "               , principalDf['principal component 2'][principalDf['TractLabel'] == 3]\n",
    "               , c = color[3]\n",
    "               , s = 20\n",
    "               , label = \"Mixed\")\n",
    "ax.scatter(principalDf['principal component 1'][principalDf['TractLabel'] == 2]\n",
    "               , principalDf['principal component 2'][principalDf['TractLabel'] == 2]\n",
    "               , c = color[2]\n",
    "               , s = 20\n",
    "               , label = \"Gentrified\")\n",
    "ax.scatter(principalDf['principal component 1'][principalDf['TractLabel'] == 1]\n",
    "               , principalDf['principal component 2'][principalDf['TractLabel'] == 1]\n",
    "               , c = color[1]\n",
    "               , s = 20\n",
    "               , label = \"Middle-Poor\")\n",
    "ax.scatter(principalDf['principal component 1'][principalDf['TractLabel'] == 0]\n",
    "               , principalDf['principal component 2'][principalDf['TractLabel'] == 0]\n",
    "               , c = color[0]\n",
    "               , s = 20\n",
    "               , label = \"Mostly Poor\")\n",
    "ax.grid()\n",
    "ax.legend(loc='lower left')"
   ]
  },
  {
   "cell_type": "markdown",
   "metadata": {},
   "source": [
    "The PC are unfortunately not very well seperated, which does not bode well for the clustering algorithms. I am attempting k-means below, but with not much expectations."
   ]
  },
  {
   "cell_type": "code",
   "execution_count": 82,
   "metadata": {},
   "outputs": [
    {
     "name": "stdout",
     "output_type": "stream",
     "text": [
      "For n_clusters = 2 The average silhouette_score is : 0.6683558575974001\n"
     ]
    },
    {
     "data": {
      "image/png": "[encoded data removed]",
      "text/plain": [
       "<Figure size 576x396 with 2 Axes>"
      ]
     },
     "metadata": {},
     "output_type": "display_data"
    },
    {
     "name": "stdout",
     "output_type": "stream",
     "text": [
      "For n_clusters = 3 The average silhouette_score is : 0.6119799732441896\n"
     ]
    },
    {
     "data": {
      "image/png": "[encoded data removed]",
      "text/plain": [
       "<Figure size 576x396 with 2 Axes>"
      ]
     },
     "metadata": {},
     "output_type": "display_data"
    },
    {
     "name": "stdout",
     "output_type": "stream",
     "text": [
      "For n_clusters = 4 The average silhouette_score is : 0.5684052177623067\n"
     ]
    },
    {
     "data": {
      "image/png": "[encoded data removed]",
      "text/plain": [
       "<Figure size 576x396 with 2 Axes>"
      ]
     },
     "metadata": {},
     "output_type": "display_data"
    },
    {
     "name": "stdout",
     "output_type": "stream",
     "text": [
      "For n_clusters = 5 The average silhouette_score is : 0.43726598310397763\n"
     ]
    },
    {
     "data": {
      "image/png": "[encoded data removed]",
      "text/plain": [
       "<Figure size 576x396 with 2 Axes>"
      ]
     },
     "metadata": {},
     "output_type": "display_data"
    },
    {
     "name": "stdout",
     "output_type": "stream",
     "text": [
      "For n_clusters = 6 The average silhouette_score is : 0.45825450635768217\n"
     ]
    },
    {
     "data": {
      "image/png": "[encoded data removed]",
      "text/plain": [
       "<Figure size 576x396 with 2 Axes>"
      ]
     },
     "metadata": {},
     "output_type": "display_data"
    }
   ],
   "source": [
    "plt.style.use('seaborn')\n",
    "range_n_clusters = [2, 3, 4, 5, 6]\n",
    "\n",
    "for n_clusters in range_n_clusters:\n",
    "    # Create a subplot with 1 row and 2 columns\n",
    "    fig, (ax1, ax2) = plt.subplots(1, 2)\n",
    "    #fig.set_size_inches(18, 7)\n",
    "\n",
    "    # The 1st subplot is the silhouette plot\n",
    "    # The silhouette coefficient can range from -1, 1 but in this example all\n",
    "    # lie within [-0.1, 1]\n",
    "    ax1.set_xlim([-0.1, 1])\n",
    "    # The (n_clusters+1)*10 is for inserting blank space between silhouette\n",
    "    # plots of individual clusters, to demarcate them clearly.\n",
    "    ax1.set_ylim([0, len(principalDf) + (n_clusters + 1) * 10])\n",
    "\n",
    "    # Initialize the clusterer with n_clusters value and a random generator\n",
    "    # seed of 10 for reproducibility.\n",
    "    clusterer = KMeans(n_clusters=n_clusters, random_state=10)\n",
    "    cluster_labels = clusterer.fit_predict(principalDf)\n",
    "\n",
    "    # The silhouette_score gives the average value for all the samples.\n",
    "    # This gives a perspective into the density and separation of the formed\n",
    "    # clusters\n",
    "    silhouette_avg = silhouette_score(principalDf, cluster_labels)\n",
    "    print(\"For n_clusters =\", n_clusters,\n",
    "          \"The average silhouette_score is :\", silhouette_avg)\n",
    "\n",
    "    # Compute the silhouette scores for each sample\n",
    "    sample_silhouette_values = silhouette_samples(principalDf, cluster_labels)\n",
    "\n",
    "    y_lower = 10\n",
    "    for i in range(n_clusters):\n",
    "        # Aggregate the silhouette scores for samples belonging to\n",
    "        # cluster i, and sort them\n",
    "        ith_cluster_silhouette_values = \\\n",
    "            sample_silhouette_values[cluster_labels == i]\n",
    "\n",
    "        ith_cluster_silhouette_values.sort()\n",
    "\n",
    "        size_cluster_i = ith_cluster_silhouette_values.shape[0]\n",
    "        y_upper = y_lower + size_cluster_i\n",
    "\n",
    "        color = plt.cm.nipy_spectral(float(i) / n_clusters)\n",
    "        ax1.fill_betweenx(np.arange(y_lower, y_upper),\n",
    "                          0, ith_cluster_silhouette_values,\n",
    "                          facecolor=color, edgecolor=color, alpha=0.7)\n",
    "\n",
    "        # Label the silhouette plots with their cluster numbers at the middle\n",
    "        ax1.text(-0.05, y_lower + 0.5 * size_cluster_i, str(i))\n",
    "\n",
    "        # Compute the new y_lower for next plot\n",
    "        y_lower = y_upper + 10  # 10 for the 0 samples\n",
    "\n",
    "    ax1.set_title(\"The silhouette plot for the various clusters.\")\n",
    "    ax1.set_xlabel(\"The silhouette coefficient values\")\n",
    "    ax1.set_ylabel(\"Cluster label\")\n",
    "\n",
    "    # The vertical line for average silhouette score of all the values\n",
    "    ax1.axvline(x=silhouette_avg, color=\"red\", linestyle=\"--\")\n",
    "\n",
    "    ax1.set_yticks([])  # Clear the yaxis labels / ticks\n",
    "    ax1.set_xticks([-0.1, 0, 0.2, 0.4, 0.6, 0.8, 1])\n",
    "\n",
    "    # 2nd Plot showing the actual clusters formed\n",
    "    colors = plt.cm.nipy_spectral(cluster_labels.astype(float) / n_clusters)\n",
    "    ax2.scatter(principalDf.iloc[:, 0], principalDf.iloc[:, 1], marker='.', s=30, lw=0, alpha=0.7,\n",
    "                c=colors, edgecolor='k')\n",
    "\n",
    "    # Labeling the clusters\n",
    "    centers = clusterer.cluster_centers_\n",
    "    # Draw white circles at cluster centers\n",
    "    ax2.scatter(centers[:, 0], centers[:, 1], marker='o',\n",
    "                c=\"white\", alpha=1, s=200, edgecolor='k')\n",
    "\n",
    "    for i, c in enumerate(centers):\n",
    "        ax2.scatter(c[0], c[1], marker='$%d$' % i, alpha=1,\n",
    "                    s=50, edgecolor='k')\n",
    "\n",
    "    ax2.set_title(\"The visualization of the clustered data.\")\n",
    "    ax2.set_xlabel(\"Feature space for the 1st feature\")\n",
    "    ax2.set_ylabel(\"Feature space for the 2nd feature\")\n",
    "\n",
    "    plt.suptitle((\"Silhouette analysis for KMeans clustering on sample data \"\n",
    "                  \"with n_clusters = %d\" % n_clusters),\n",
    "                 fontsize=14, fontweight='bold')\n",
    "\n",
    "    plt.show()"
   ]
  },
  {
   "cell_type": "code",
   "execution_count": 83,
   "metadata": {},
   "outputs": [
    {
     "data": {
      "text/plain": [
       "<mpl_toolkits.mplot3d.art3d.Path3DCollection at 0x1ccd0977940>"
      ]
     },
     "execution_count": 83,
     "metadata": {},
     "output_type": "execute_result"
    },
    {
     "data": {
      "image/png": "[encoded data removed]",
      "text/plain": [
       "<Figure size 576x396 with 1 Axes>"
      ]
     },
     "metadata": {},
     "output_type": "display_data"
    }
   ],
   "source": [
    "ax = plt.subplot(111, projection='3d')\n",
    "ax.scatter3D(GroupSum2013['CE01totcounts'], GroupSum2013['CE02totcounts'], GroupSum2013['CE03totcounts'], c=GroupSum2013['TractLabel'])"
   ]
  },
  {
   "cell_type": "markdown",
   "metadata": {},
   "source": [
    "# SECTION 4.  FINAL MERGE  AND MODELS"
   ]
  },
  {
   "cell_type": "code",
   "execution_count": null,
   "metadata": {},
   "outputs": [],
   "source": [
    "#read in final test scores and lodes data\n",
    "\n",
    "scores2013 = pd.read_csv(\"scores2013.csv\")\n",
    "scores2014 = pd.read_csv(\"scores2014.csv\")\n",
    "scores2015 = pd.read_csv(\"scores2015.csv\")\n",
    "\n",
    "lodes2013 = pd.read_csv(\"LODES2013Sum.csv\", converters={'Census Tract': lambda x: str(x)})\n",
    "lodes2014 = pd.read_csv(\"LODES2014Sum.csv\", converters={'Census Tract': lambda x: str(x)})\n",
    "lodes2015 = pd.read_csv(\"LODES2015Sum.csv\", converters={'Census Tract': lambda x: str(x)})"
   ]
  },
  {
   "cell_type": "code",
   "execution_count": null,
   "metadata": {},
   "outputs": [],
   "source": [
    "lodes2013.shape"
   ]
  },
  {
   "cell_type": "code",
   "execution_count": null,
   "metadata": {},
   "outputs": [],
   "source": [
    "scores2013.columns"
   ]
  },
  {
   "cell_type": "code",
   "execution_count": null,
   "metadata": {},
   "outputs": [],
   "source": [
    "#merge \n",
    "lodes_scores2013 = pd.merge(lodes2013, scores2013, left_on=\"ct\", right_on=\"ct2010\", how = \"right\")\n",
    "lodes_scores2014 = pd.merge(lodes2014, scores2014, left_on=\"ct\", right_on=\"ct2010\", how = \"right\")\n",
    "lodes_scores2015 = pd.merge(lodes2015, scores2015, left_on=\"ct\", right_on=\"ct2010\", how = \"right\")"
   ]
  },
  {
   "cell_type": "code",
   "execution_count": null,
   "metadata": {},
   "outputs": [],
   "source": [
    "lodes_scores2013.shape"
   ]
  },
  {
   "cell_type": "code",
   "execution_count": null,
   "metadata": {},
   "outputs": [],
   "source": [
    "lodes_scores2013.columns"
   ]
  },
  {
   "cell_type": "code",
   "execution_count": null,
   "metadata": {},
   "outputs": [],
   "source": [
    "lodes_scores2013.head()\n"
   ]
  },
  {
   "cell_type": "code",
   "execution_count": null,
   "metadata": {},
   "outputs": [],
   "source": [
    "MathReg2013 = smf.ols(\"Math2013_Mean~count_vals_density + C(TractLabel)\", data=lodes_scores2013).fit()\n",
    "MathReg2013.summary()"
   ]
  },
  {
   "cell_type": "code",
   "execution_count": null,
   "metadata": {},
   "outputs": [],
   "source": [
    "EngReg2013 = smf.ols(\"Eng2013_Mean~count_vals_density + C(TractLabel)\", data=lodes_scores2013).fit()\n",
    "EngReg2013.summary()"
   ]
  },
  {
   "cell_type": "code",
   "execution_count": null,
   "metadata": {},
   "outputs": [],
   "source": [
    "MathReg2014 = smf.ols(\"Math2014_Mean~count_vals_density + C(TractLabel)\", data=lodes_scores2014).fit()\n",
    "MathReg2014.summary()"
   ]
  },
  {
   "cell_type": "code",
   "execution_count": null,
   "metadata": {},
   "outputs": [],
   "source": [
    "EngReg2014 = smf.ols(\"Eng2014_Mean~count_vals_density + C(TractLabel)\", data=lodes_scores2014).fit()\n",
    "EngReg2014.summary()"
   ]
  },
  {
   "cell_type": "code",
   "execution_count": null,
   "metadata": {},
   "outputs": [],
   "source": [
    "MathReg2015 = smf.ols(\"Math2015_Mean~count_vals_density + C(TractLabel)\", data=lodes_scores2015).fit()\n",
    "MathReg2015.summary()"
   ]
  },
  {
   "cell_type": "code",
   "execution_count": null,
   "metadata": {},
   "outputs": [],
   "source": [
    "EngReg2015 = smf.ols(\"Eng2015_Mean~count_vals_density + C(TractLabel)\", data=lodes_scores2015).fit()\n",
    "EngReg2015.summary()"
   ]
  }
 ],
 "metadata": {
  "kernelspec": {
   "display_name": "Python 3",
   "language": "python",
   "name": "python3"
  },
  "language_info": {
   "codemirror_mode": {
    "name": "ipython",
    "version": 3
   },
   "file_extension": ".py",
   "mimetype": "text/x-python",
   "name": "python",
   "nbconvert_exporter": "python",
   "pygments_lexer": "ipython3",
   "version": "3.6.5"
  }
 },
 "nbformat": 4,
 "nbformat_minor": 2
}
